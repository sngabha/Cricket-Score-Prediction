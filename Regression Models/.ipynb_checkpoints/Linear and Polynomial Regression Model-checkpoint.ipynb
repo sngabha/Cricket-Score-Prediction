{
 "cells": [
  {
   "cell_type": "markdown",
   "metadata": {},
   "source": [
    "### Import Libraries"
   ]
  },
  {
   "cell_type": "code",
   "execution_count": 2,
   "metadata": {},
   "outputs": [],
   "source": [
    "import pandas as pd\n",
    "from sklearn.linear_model import LinearRegression\n",
    "from sklearn.metrics import mean_squared_error\n",
    "from sklearn.preprocessing import PolynomialFeatures, StandardScaler\n",
    "import seaborn as sns\n",
    "import numpy as np\n",
    "import math\n",
    "from sklearn.linear_model import Ridge\n",
    "from sklearn.linear_model import Lasso\n",
    "from sklearn.model_selection import GridSearchCV\n",
    "import os.path"
   ]
  },
  {
   "cell_type": "markdown",
   "metadata": {},
   "source": [
    "### Load pre-computed stats"
   ]
  },
  {
   "cell_type": "code",
   "execution_count": 3,
   "metadata": {},
   "outputs": [],
   "source": [
    "df_train = pd.read_pickle(os.path.abspath('') + '\\\\..\\\\Derived stats\\\\match_stats_train.pkl')\n",
    "df_test = pd.read_pickle(os.path.abspath('') + '\\\\..\\\\Derived stats\\\\match_stats_test.pkl')\n",
    "\n",
    "# delete outlier\n",
    "\"\"\" Assuming, in most normal matches, teams \n",
    "score more than 75 runs on an average as shown\n",
    "by past statistics. \"\"\"\n",
    "df_train = df_train[df_train['Runs'] > 75]\n",
    "df_test = df_test[df_test['Runs'] > 75]\n",
    "\n",
    "cols = df_train.columns\n",
    "cols = cols.map(lambda x: x.replace(' ', '_') if isinstance(x, (str, 'utf-8')) else x)\n",
    "df_train.columns = cols\n",
    "df_test.columns = cols\n",
    "\n",
    "# To remove the other inning for which outliers were removed\n",
    "match_ids = df_test['Match_ID'].unique()\n",
    "m_ids_toBeRemoved = []          \n",
    "for m_id in match_ids:\n",
    "    if len(df_test[df_test['Match_ID'] == m_id]) !=2:\n",
    "        m_ids_toBeRemoved.append(m_id)\n",
    "\n",
    "for m_id in m_ids_toBeRemoved:\n",
    "    df_test = df_test[df_test['Match_ID'] != m_id]"
   ]
  },
  {
   "cell_type": "markdown",
   "metadata": {},
   "source": [
    "### Computing additional features"
   ]
  },
  {
   "cell_type": "markdown",
   "metadata": {},
   "source": [
    "#### Adding feature: Average runs scored against same opponent in previous matches"
   ]
  },
  {
   "cell_type": "code",
   "execution_count": 76,
   "metadata": {},
   "outputs": [],
   "source": [
    "\"\"\" Previous run with same opponent \"\"\"\n",
    "\n",
    "prev_run = []\n",
    "for Date, Team_Name, Opp_Team  in df_train[['Date','Team_Name', 'Opp_Team']].itertuples(index=False):\n",
    "    df_t = df_train.query(\"Team_Name == @Team_Name & Opp_Team == @Opp_Team & Date < @Date\")['Runs']\n",
    "    if len(df_t) == 0:\n",
    "        prev_run.append(df_train.query(\"Team_Name == @Team_Name & Opp_Team == @Opp_Team\")['Runs'].mean())\n",
    "        continue\n",
    "    prev_run.append(df_train.query(\"Team_Name == @Team_Name & Opp_Team == @Opp_Team & Date < @Date\")['Runs'].values[-1])\n",
    "df_train['Prev Run'] = prev_run\n",
    "\n",
    "prev_run = []\n",
    "for Date, Team_Name, Opp_Team  in df_test[['Date','Team_Name', 'Opp_Team']].itertuples(index=False):\n",
    "    df_t = df_test.query(\"Team_Name == @Team_Name & Opp_Team == @Opp_Team & Date < @Date\")['Runs']\n",
    "    if len(df_t) == 0:\n",
    "        df_t_t = df_train.query(\"Team_Name == @Team_Name & Opp_Team == @Opp_Team & Date < @Date\")\n",
    "        if len(df_t_t) == 0:\n",
    "            prev_run.append(0)\n",
    "        else:\n",
    "            prev_run.append(df_t_t['Runs'].values[-1])\n",
    "        continue\n",
    "    prev_run.append(df_test.query(\"Team_Name == @Team_Name & Opp_Team == @Opp_Team & Date < @Date\")['Runs'].values[-1])\n",
    "df_test['Prev Run'] = prev_run"
   ]
  },
  {
   "cell_type": "markdown",
   "metadata": {},
   "source": [
    "#### Adding feature: Average runs scored in a venue till date irrespective of teams"
   ]
  },
  {
   "cell_type": "code",
   "execution_count": 77,
   "metadata": {},
   "outputs": [],
   "source": [
    "\"\"\" Previous run on venue irrespective of team \"\"\"\n",
    "\n",
    "prev_run = []\n",
    "for Date, city  in df_train[['Date', 'City']].itertuples(index=False):\n",
    "    df_t = df_train.query(\"City == @city & Date < @Date\")\n",
    "    if len(df_t) == 0:\n",
    "        df_t_t = df_train.query(\"City == @city\")\n",
    "        if len(df_t_t) == 0:\n",
    "            prev_run.append(0)\n",
    "        else:\n",
    "            prev_run.append(df_t_t['Runs'].mean())\n",
    "        continue\n",
    "    prev_run.append(df_t['Runs'].mean())\n",
    "df_train['Prev Venue Run'] = prev_run\n",
    "\n",
    "prev_run = []\n",
    "for Date, city  in df_test[['Date', 'City']].itertuples(index=False):\n",
    "    df_te = df_test.query(\"City == @city & Date < @Date\")\n",
    "    df_tr = df_train.query(\"City == @city & Date < @Date\")\n",
    "    prev_run.append((df_te['Runs'].sum(axis = 0, skipna = True) + df_tr['Runs'].sum(axis = 0, skipna = True))/(len(df_te)+len(df_tr)))\n",
    "df_test['Prev Venue Run'] = prev_run"
   ]
  },
  {
   "cell_type": "markdown",
   "metadata": {},
   "source": [
    "### Print data before model fitting"
   ]
  },
  {
   "cell_type": "code",
   "execution_count": 81,
   "metadata": {},
   "outputs": [
    {
     "data": {
      "text/html": [
       "<div>\n",
       "<style scoped>\n",
       "    .dataframe tbody tr th:only-of-type {\n",
       "        vertical-align: middle;\n",
       "    }\n",
       "\n",
       "    .dataframe tbody tr th {\n",
       "        vertical-align: top;\n",
       "    }\n",
       "\n",
       "    .dataframe thead th {\n",
       "        text-align: right;\n",
       "    }\n",
       "</style>\n",
       "<table border=\"1\" class=\"dataframe\">\n",
       "  <thead>\n",
       "    <tr style=\"text-align: right;\">\n",
       "      <th></th>\n",
       "      <th>Match_ID</th>\n",
       "      <th>Date</th>\n",
       "      <th>Team_Name</th>\n",
       "      <th>Opp_Team</th>\n",
       "      <th>Innnings</th>\n",
       "      <th>City</th>\n",
       "      <th>Past_lead</th>\n",
       "      <th>Target</th>\n",
       "      <th>Avg_Bat1</th>\n",
       "      <th>Curr_Bat1</th>\n",
       "      <th>...</th>\n",
       "      <th>Avg_Bat11</th>\n",
       "      <th>Curr_Bat11</th>\n",
       "      <th>Bowl1</th>\n",
       "      <th>Bowl2</th>\n",
       "      <th>Bowl3</th>\n",
       "      <th>Bowl4</th>\n",
       "      <th>Bowl5</th>\n",
       "      <th>Runs</th>\n",
       "      <th>Prev Run</th>\n",
       "      <th>Prev Venue Run</th>\n",
       "    </tr>\n",
       "  </thead>\n",
       "  <tbody>\n",
       "    <tr>\n",
       "      <th>0</th>\n",
       "      <td>175</td>\n",
       "      <td>2010-03-12</td>\n",
       "      <td>Kolkata Knight Riders</td>\n",
       "      <td>Deccan Chargers</td>\n",
       "      <td>1</td>\n",
       "      <td>Mumbai</td>\n",
       "      <td>0</td>\n",
       "      <td>0</td>\n",
       "      <td>14.125000</td>\n",
       "      <td>11.6</td>\n",
       "      <td>...</td>\n",
       "      <td>0</td>\n",
       "      <td>0</td>\n",
       "      <td>6.729167</td>\n",
       "      <td>7.833333</td>\n",
       "      <td>8.574074</td>\n",
       "      <td>9.125000</td>\n",
       "      <td>10.666667</td>\n",
       "      <td>161</td>\n",
       "      <td>160.200000</td>\n",
       "      <td>157.776119</td>\n",
       "    </tr>\n",
       "    <tr>\n",
       "      <th>1</th>\n",
       "      <td>175</td>\n",
       "      <td>2010-03-12</td>\n",
       "      <td>Deccan Chargers</td>\n",
       "      <td>Kolkata Knight Riders</td>\n",
       "      <td>2</td>\n",
       "      <td>Mumbai</td>\n",
       "      <td>1</td>\n",
       "      <td>161</td>\n",
       "      <td>31.033333</td>\n",
       "      <td>33.2</td>\n",
       "      <td>...</td>\n",
       "      <td>0</td>\n",
       "      <td>0</td>\n",
       "      <td>3.750000</td>\n",
       "      <td>7.145833</td>\n",
       "      <td>7.322917</td>\n",
       "      <td>9.350000</td>\n",
       "      <td>10.666667</td>\n",
       "      <td>150</td>\n",
       "      <td>147.200000</td>\n",
       "      <td>157.776119</td>\n",
       "    </tr>\n",
       "    <tr>\n",
       "      <th>2</th>\n",
       "      <td>176</td>\n",
       "      <td>2010-03-13</td>\n",
       "      <td>Mumbai Indians</td>\n",
       "      <td>Rajasthan Royals</td>\n",
       "      <td>1</td>\n",
       "      <td>Mumbai</td>\n",
       "      <td>0</td>\n",
       "      <td>0</td>\n",
       "      <td>28.269231</td>\n",
       "      <td>15.8</td>\n",
       "      <td>...</td>\n",
       "      <td>0</td>\n",
       "      <td>0</td>\n",
       "      <td>7.750000</td>\n",
       "      <td>8.006667</td>\n",
       "      <td>8.490741</td>\n",
       "      <td>8.595238</td>\n",
       "      <td>8.000000</td>\n",
       "      <td>212</td>\n",
       "      <td>163.384615</td>\n",
       "      <td>155.500000</td>\n",
       "    </tr>\n",
       "    <tr>\n",
       "      <th>3</th>\n",
       "      <td>176</td>\n",
       "      <td>2010-03-13</td>\n",
       "      <td>Rajasthan Royals</td>\n",
       "      <td>Mumbai Indians</td>\n",
       "      <td>2</td>\n",
       "      <td>Mumbai</td>\n",
       "      <td>1</td>\n",
       "      <td>212</td>\n",
       "      <td>28.391304</td>\n",
       "      <td>14.0</td>\n",
       "      <td>...</td>\n",
       "      <td>0</td>\n",
       "      <td>0</td>\n",
       "      <td>6.243056</td>\n",
       "      <td>8.062500</td>\n",
       "      <td>9.650000</td>\n",
       "      <td>8.000000</td>\n",
       "      <td>8.000000</td>\n",
       "      <td>208</td>\n",
       "      <td>160.615385</td>\n",
       "      <td>155.500000</td>\n",
       "    </tr>\n",
       "    <tr>\n",
       "      <th>4</th>\n",
       "      <td>177</td>\n",
       "      <td>2010-03-13</td>\n",
       "      <td>Kings XI Punjab</td>\n",
       "      <td>Delhi Daredevils</td>\n",
       "      <td>1</td>\n",
       "      <td>Chandigarh</td>\n",
       "      <td>1</td>\n",
       "      <td>0</td>\n",
       "      <td>27.600000</td>\n",
       "      <td>27.6</td>\n",
       "      <td>...</td>\n",
       "      <td>10</td>\n",
       "      <td>10</td>\n",
       "      <td>7.020833</td>\n",
       "      <td>7.208333</td>\n",
       "      <td>7.424242</td>\n",
       "      <td>8.062500</td>\n",
       "      <td>8.845238</td>\n",
       "      <td>142</td>\n",
       "      <td>146.714286</td>\n",
       "      <td>155.071429</td>\n",
       "    </tr>\n",
       "  </tbody>\n",
       "</table>\n",
       "<p>5 rows × 38 columns</p>\n",
       "</div>"
      ],
      "text/plain": [
       "  Match_ID        Date              Team_Name               Opp_Team Innnings  \\\n",
       "0      175  2010-03-12  Kolkata Knight Riders        Deccan Chargers        1   \n",
       "1      175  2010-03-12        Deccan Chargers  Kolkata Knight Riders        2   \n",
       "2      176  2010-03-13         Mumbai Indians       Rajasthan Royals        1   \n",
       "3      176  2010-03-13       Rajasthan Royals         Mumbai Indians        2   \n",
       "4      177  2010-03-13        Kings XI Punjab       Delhi Daredevils        1   \n",
       "\n",
       "         City Past_lead Target   Avg_Bat1  Curr_Bat1  ...  Avg_Bat11  \\\n",
       "0      Mumbai         0      0  14.125000       11.6  ...          0   \n",
       "1      Mumbai         1    161  31.033333       33.2  ...          0   \n",
       "2      Mumbai         0      0  28.269231       15.8  ...          0   \n",
       "3      Mumbai         1    212  28.391304       14.0  ...          0   \n",
       "4  Chandigarh         1      0  27.600000       27.6  ...         10   \n",
       "\n",
       "   Curr_Bat11     Bowl1     Bowl2     Bowl3     Bowl4      Bowl5  Runs  \\\n",
       "0           0  6.729167  7.833333  8.574074  9.125000  10.666667   161   \n",
       "1           0  3.750000  7.145833  7.322917  9.350000  10.666667   150   \n",
       "2           0  7.750000  8.006667  8.490741  8.595238   8.000000   212   \n",
       "3           0  6.243056  8.062500  9.650000  8.000000   8.000000   208   \n",
       "4          10  7.020833  7.208333  7.424242  8.062500   8.845238   142   \n",
       "\n",
       "     Prev Run  Prev Venue Run  \n",
       "0  160.200000      157.776119  \n",
       "1  147.200000      157.776119  \n",
       "2  163.384615      155.500000  \n",
       "3  160.615385      155.500000  \n",
       "4  146.714286      155.071429  \n",
       "\n",
       "[5 rows x 38 columns]"
      ]
     },
     "execution_count": 81,
     "metadata": {},
     "output_type": "execute_result"
    }
   ],
   "source": [
    "df_train.head(5)"
   ]
  },
  {
   "cell_type": "code",
   "execution_count": 82,
   "metadata": {
    "scrolled": true
   },
   "outputs": [
    {
     "data": {
      "text/html": [
       "<div>\n",
       "<style scoped>\n",
       "    .dataframe tbody tr th:only-of-type {\n",
       "        vertical-align: middle;\n",
       "    }\n",
       "\n",
       "    .dataframe tbody tr th {\n",
       "        vertical-align: top;\n",
       "    }\n",
       "\n",
       "    .dataframe thead th {\n",
       "        text-align: right;\n",
       "    }\n",
       "</style>\n",
       "<table border=\"1\" class=\"dataframe\">\n",
       "  <thead>\n",
       "    <tr style=\"text-align: right;\">\n",
       "      <th></th>\n",
       "      <th>Match_ID</th>\n",
       "      <th>Date</th>\n",
       "      <th>Team_Name</th>\n",
       "      <th>Opp_Team</th>\n",
       "      <th>Innnings</th>\n",
       "      <th>City</th>\n",
       "      <th>Past_lead</th>\n",
       "      <th>Target</th>\n",
       "      <th>Avg_Bat1</th>\n",
       "      <th>Curr_Bat1</th>\n",
       "      <th>...</th>\n",
       "      <th>Avg_Bat11</th>\n",
       "      <th>Curr_Bat11</th>\n",
       "      <th>Bowl1</th>\n",
       "      <th>Bowl2</th>\n",
       "      <th>Bowl3</th>\n",
       "      <th>Bowl4</th>\n",
       "      <th>Bowl5</th>\n",
       "      <th>Runs</th>\n",
       "      <th>Prev Run</th>\n",
       "      <th>Prev Venue Run</th>\n",
       "    </tr>\n",
       "  </thead>\n",
       "  <tbody>\n",
       "    <tr>\n",
       "      <th>0</th>\n",
       "      <td>1</td>\n",
       "      <td>2017-04-05</td>\n",
       "      <td>Sunrisers Hyderabad</td>\n",
       "      <td>Royal Challengers Bangalore</td>\n",
       "      <td>1</td>\n",
       "      <td>Hyderabad</td>\n",
       "      <td>1</td>\n",
       "      <td>0</td>\n",
       "      <td>33.730000</td>\n",
       "      <td>55.963474</td>\n",
       "      <td>...</td>\n",
       "      <td>0</td>\n",
       "      <td>0</td>\n",
       "      <td>7.033333</td>\n",
       "      <td>8.236111</td>\n",
       "      <td>8.958333</td>\n",
       "      <td>10.800000</td>\n",
       "      <td>8.000000</td>\n",
       "      <td>207</td>\n",
       "      <td>208</td>\n",
       "      <td>146.117647</td>\n",
       "    </tr>\n",
       "    <tr>\n",
       "      <th>1</th>\n",
       "      <td>1</td>\n",
       "      <td>2017-04-05</td>\n",
       "      <td>Royal Challengers Bangalore</td>\n",
       "      <td>Sunrisers Hyderabad</td>\n",
       "      <td>2</td>\n",
       "      <td>Hyderabad</td>\n",
       "      <td>0</td>\n",
       "      <td>207</td>\n",
       "      <td>37.923077</td>\n",
       "      <td>41.600000</td>\n",
       "      <td>...</td>\n",
       "      <td>10</td>\n",
       "      <td>10</td>\n",
       "      <td>7.130952</td>\n",
       "      <td>7.435185</td>\n",
       "      <td>7.437500</td>\n",
       "      <td>7.440476</td>\n",
       "      <td>7.750000</td>\n",
       "      <td>172</td>\n",
       "      <td>200</td>\n",
       "      <td>146.117647</td>\n",
       "    </tr>\n",
       "    <tr>\n",
       "      <th>2</th>\n",
       "      <td>2</td>\n",
       "      <td>2017-04-06</td>\n",
       "      <td>Mumbai Indians</td>\n",
       "      <td>Rising Pune Supergiant</td>\n",
       "      <td>1</td>\n",
       "      <td>Pune</td>\n",
       "      <td>0</td>\n",
       "      <td>0</td>\n",
       "      <td>19.270000</td>\n",
       "      <td>20.800000</td>\n",
       "      <td>...</td>\n",
       "      <td>0</td>\n",
       "      <td>0</td>\n",
       "      <td>6.500000</td>\n",
       "      <td>7.000000</td>\n",
       "      <td>7.570833</td>\n",
       "      <td>8.364583</td>\n",
       "      <td>8.640625</td>\n",
       "      <td>184</td>\n",
       "      <td>0</td>\n",
       "      <td>147.600000</td>\n",
       "    </tr>\n",
       "    <tr>\n",
       "      <th>3</th>\n",
       "      <td>2</td>\n",
       "      <td>2017-04-06</td>\n",
       "      <td>Rising Pune Supergiant</td>\n",
       "      <td>Mumbai Indians</td>\n",
       "      <td>2</td>\n",
       "      <td>Pune</td>\n",
       "      <td>0</td>\n",
       "      <td>184</td>\n",
       "      <td>30.056180</td>\n",
       "      <td>27.400000</td>\n",
       "      <td>...</td>\n",
       "      <td>0</td>\n",
       "      <td>0</td>\n",
       "      <td>6.250000</td>\n",
       "      <td>8.416667</td>\n",
       "      <td>8.875000</td>\n",
       "      <td>8.983333</td>\n",
       "      <td>9.105263</td>\n",
       "      <td>187</td>\n",
       "      <td>0</td>\n",
       "      <td>147.600000</td>\n",
       "    </tr>\n",
       "    <tr>\n",
       "      <th>4</th>\n",
       "      <td>3</td>\n",
       "      <td>2017-04-07</td>\n",
       "      <td>Gujarat Lions</td>\n",
       "      <td>Kolkata Knight Riders</td>\n",
       "      <td>1</td>\n",
       "      <td>Rajkot</td>\n",
       "      <td>1</td>\n",
       "      <td>0</td>\n",
       "      <td>10.000000</td>\n",
       "      <td>10.000000</td>\n",
       "      <td>...</td>\n",
       "      <td>0</td>\n",
       "      <td>0</td>\n",
       "      <td>6.100000</td>\n",
       "      <td>8.006667</td>\n",
       "      <td>8.526882</td>\n",
       "      <td>8.535714</td>\n",
       "      <td>9.250000</td>\n",
       "      <td>183</td>\n",
       "      <td>125</td>\n",
       "      <td>154.500000</td>\n",
       "    </tr>\n",
       "  </tbody>\n",
       "</table>\n",
       "<p>5 rows × 38 columns</p>\n",
       "</div>"
      ],
      "text/plain": [
       "  Match_ID        Date                    Team_Name  \\\n",
       "0        1  2017-04-05          Sunrisers Hyderabad   \n",
       "1        1  2017-04-05  Royal Challengers Bangalore   \n",
       "2        2  2017-04-06               Mumbai Indians   \n",
       "3        2  2017-04-06       Rising Pune Supergiant   \n",
       "4        3  2017-04-07                Gujarat Lions   \n",
       "\n",
       "                      Opp_Team Innnings       City Past_lead Target  \\\n",
       "0  Royal Challengers Bangalore        1  Hyderabad         1      0   \n",
       "1          Sunrisers Hyderabad        2  Hyderabad         0    207   \n",
       "2       Rising Pune Supergiant        1       Pune         0      0   \n",
       "3               Mumbai Indians        2       Pune         0    184   \n",
       "4        Kolkata Knight Riders        1     Rajkot         1      0   \n",
       "\n",
       "    Avg_Bat1  Curr_Bat1  ...  Avg_Bat11  Curr_Bat11     Bowl1     Bowl2  \\\n",
       "0  33.730000  55.963474  ...          0           0  7.033333  8.236111   \n",
       "1  37.923077  41.600000  ...         10          10  7.130952  7.435185   \n",
       "2  19.270000  20.800000  ...          0           0  6.500000  7.000000   \n",
       "3  30.056180  27.400000  ...          0           0  6.250000  8.416667   \n",
       "4  10.000000  10.000000  ...          0           0  6.100000  8.006667   \n",
       "\n",
       "      Bowl3      Bowl4     Bowl5  Runs  Prev Run  Prev Venue Run  \n",
       "0  8.958333  10.800000  8.000000   207       208      146.117647  \n",
       "1  7.437500   7.440476  7.750000   172       200      146.117647  \n",
       "2  7.570833   8.364583  8.640625   184         0      147.600000  \n",
       "3  8.875000   8.983333  9.105263   187         0      147.600000  \n",
       "4  8.526882   8.535714  9.250000   183       125      154.500000  \n",
       "\n",
       "[5 rows x 38 columns]"
      ]
     },
     "execution_count": 82,
     "metadata": {},
     "output_type": "execute_result"
    }
   ],
   "source": [
    "df_test.head(5)"
   ]
  },
  {
   "cell_type": "markdown",
   "metadata": {},
   "source": [
    "### Data Vizualization"
   ]
  },
  {
   "cell_type": "code",
   "execution_count": null,
   "metadata": {},
   "outputs": [],
   "source": [
    "sns.set(style=\"ticks\", color_codes=True)\n",
    "sns.pairplot(df_train)"
   ]
  },
  {
   "cell_type": "markdown",
   "metadata": {},
   "source": [
    "### Selecting Features to train the model"
   ]
  },
  {
   "cell_type": "code",
   "execution_count": 54,
   "metadata": {},
   "outputs": [],
   "source": [
    "df_train_inning_1 = df_train[df_train['Innnings'] == 1]\n",
    "df_test_inning_1 = df_test[df_test['Innnings'] == 1]"
   ]
  },
  {
   "cell_type": "code",
   "execution_count": 55,
   "metadata": {},
   "outputs": [],
   "source": [
    "df_inning_2 = df_test[df_test['Innnings'] == 2]\n",
    "inning_2_input = df_inning_2[['Avg_Bat1', 'Avg_Bat2', 'Avg_Bat3', 'Avg_Bat4', 'Avg_Bat5', 'Avg_Bat6', 'Avg_Bat7', 'Avg_Bat8', 'Avg_Bat9', 'Avg_Bat10', 'Avg_Bat11','Prev Run', 'Prev Venue Run', 'Past_lead']]"
   ]
  },
  {
   "cell_type": "code",
   "execution_count": 56,
   "metadata": {},
   "outputs": [],
   "source": [
    "X_train = df_train_inning_1[['Avg_Bat1', 'Avg_Bat2', 'Avg_Bat3', 'Avg_Bat4', 'Avg_Bat5', 'Avg_Bat6', 'Avg_Bat7', 'Avg_Bat8', 'Avg_Bat9', 'Avg_Bat10', 'Avg_Bat11', 'Prev Run', 'Prev Venue Run','Past_lead']]\n",
    "y_train = df_train_inning_1[['Runs']]\n",
    "\n",
    "X_test = df_test_inning_1[['Avg_Bat1', 'Avg_Bat2', 'Avg_Bat3', 'Avg_Bat4', 'Avg_Bat5', 'Avg_Bat6', 'Avg_Bat7', 'Avg_Bat8', 'Avg_Bat9', 'Avg_Bat10', 'Avg_Bat11','Prev Run', 'Prev Venue Run', 'Past_lead']]\n",
    "y_test = df_test_inning_1[['Runs']]"
   ]
  },
  {
   "cell_type": "markdown",
   "metadata": {},
   "source": [
    "## Linear Regression"
   ]
  },
  {
   "cell_type": "code",
   "execution_count": 57,
   "metadata": {},
   "outputs": [
    {
     "data": {
      "text/plain": [
       "LinearRegression(copy_X=True, fit_intercept=True, n_jobs=None, normalize=False)"
      ]
     },
     "execution_count": 57,
     "metadata": {},
     "output_type": "execute_result"
    }
   ],
   "source": [
    "runsPredictor = LinearRegression()\n",
    "runsPredictor.fit(X_train,y_train)"
   ]
  },
  {
   "cell_type": "code",
   "execution_count": 58,
   "metadata": {},
   "outputs": [
    {
     "name": "stdout",
     "output_type": "stream",
     "text": [
      "Train Linear model RMSE: 24.304875829036273\n"
     ]
    }
   ],
   "source": [
    "predictedRunsTrain = runsPredictor.predict(X_train)\n",
    "print('Train Linear model RMSE:', np.sqrt(mean_squared_error(y_train, predictedRunsTrain)))"
   ]
  },
  {
   "cell_type": "code",
   "execution_count": 59,
   "metadata": {},
   "outputs": [
    {
     "name": "stdout",
     "output_type": "stream",
     "text": [
      "Test Linear model RMSE: 25.77450911129639\n"
     ]
    }
   ],
   "source": [
    "predictedRunsTest = runsPredictor.predict(X_test)\n",
    "print('Test Linear model RMSE:', np.sqrt(mean_squared_error(y_test, predictedRunsTest)))"
   ]
  },
  {
   "cell_type": "markdown",
   "metadata": {},
   "source": [
    "### Accuracy of winner prediction"
   ]
  },
  {
   "cell_type": "code",
   "execution_count": 65,
   "metadata": {},
   "outputs": [],
   "source": [
    "matches = pd.read_csv('matches.csv')\n",
    "matchId_winnerInning_dict = {}\n",
    "for index, row in matches.iterrows():\n",
    "    if row['winner'] == row['team1']:\n",
    "        matchId_winnerInning_dict[row['id']] = 1\n",
    "    if row['winner'] == row['team2']:\n",
    "        matchId_winnerInning_dict[row['id']] = 2"
   ]
  },
  {
   "cell_type": "code",
   "execution_count": 84,
   "metadata": {},
   "outputs": [
    {
     "name": "stdout",
     "output_type": "stream",
     "text": [
      "64.81481481481481\n"
     ]
    },
    {
     "name": "stderr",
     "output_type": "stream",
     "text": [
      "C:\\Users\\Mohinish\\Anaconda3\\lib\\site-packages\\ipykernel_launcher.py:6: SettingWithCopyWarning: \n",
      "A value is trying to be set on a copy of a slice from a DataFrame.\n",
      "Try using .loc[row_indexer,col_indexer] = value instead\n",
      "\n",
      "See the caveats in the documentation: http://pandas.pydata.org/pandas-docs/stable/indexing.html#indexing-view-versus-copy\n",
      "  \n"
     ]
    }
   ],
   "source": [
    "inning1_out = predictedRunsTest\n",
    "inning2_out = runsPredictor.predict(inning_2_input)\n",
    "\n",
    "winner_df = df_inning_2[['Match_ID']]\n",
    "winner = [ 1 if inning1_out[i] > inning2_out[i] else 2 for i in range(len(inning1_out))]\n",
    "winner_df['Winner'] = winner\n",
    "correct_count = 0\n",
    "for match_id, winner  in winner_df[['Match_ID', 'Winner']].itertuples(index=False):\n",
    "    if winner == matchId_winnerInning_dict[match_id]:\n",
    "        correct_count += 1\n",
    "winPredictionAccuracy = float((correct_count*100)/len(winner_df))\n",
    "\n",
    "print(winPredictionAccuracy)"
   ]
  },
  {
   "cell_type": "markdown",
   "metadata": {},
   "source": [
    "## Regression with Regularization"
   ]
  },
  {
   "cell_type": "code",
   "execution_count": 60,
   "metadata": {},
   "outputs": [],
   "source": [
    "poly_features = PolynomialFeatures(degree = 2)  \n",
    "X_train_poly = poly_features.fit_transform(X_train)"
   ]
  },
  {
   "cell_type": "code",
   "execution_count": 61,
   "metadata": {},
   "outputs": [
    {
     "data": {
      "text/plain": [
       "GridSearchCV(cv=5, error_score='raise-deprecating',\n",
       "             estimator=Lasso(alpha=1.0, copy_X=True, fit_intercept=True,\n",
       "                             max_iter=1000, normalize=False, positive=False,\n",
       "                             precompute=False, random_state=None,\n",
       "                             selection='cyclic', tol=0.0001, warm_start=False),\n",
       "             iid=False, n_jobs=-1,\n",
       "             param_grid={'alpha': array([1.00000000e-05, 3.35981829e-05, 1.12883789e-04, 3.79269019e-04,\n",
       "       1.27427499e-03, 4.28133240e-03, 1.43844989e-02, 4.83293024e-02,\n",
       "       1.62377674e-01, 5.45559478e-01, 1.83298071e+00, 6.15848211e+00,\n",
       "       2.06913808e+01, 6.95192796e+01, 2.33572147e+02, 7.84759970e+02,\n",
       "       2.63665090e+03, 8.85866790e+03, 2.97635144e+04, 1.00000000e+05])},\n",
       "             pre_dispatch='2*n_jobs', refit=True, return_train_score=False,\n",
       "             scoring=None, verbose=0)"
      ]
     },
     "execution_count": 61,
     "metadata": {},
     "output_type": "execute_result"
    }
   ],
   "source": [
    "ridge_lr = Ridge(fit_intercept=True)\n",
    "lasso_lr = Lasso(fit_intercept=True)\n",
    "\n",
    "ridge_lr_grid_cv = GridSearchCV(estimator=ridge_lr, param_grid={'alpha':np.logspace(-5, 5, 20)}, cv= 5, iid=False, n_jobs = -1)\n",
    "lasso_lr_grid_cv = GridSearchCV(estimator=lasso_lr, param_grid={'alpha':np.logspace(-5, 5, 20)}, cv= 5, iid=False, n_jobs = -1)\n",
    "\n",
    "ridge_lr_grid_cv.fit(X_train_poly, y_train)\n",
    "lasso_lr_grid_cv.fit(X_train_poly, y_train)"
   ]
  },
  {
   "cell_type": "code",
   "execution_count": 62,
   "metadata": {},
   "outputs": [],
   "source": [
    "X_test_poly = poly_features.fit_transform(X_test)\n",
    "y_ridge_pred = ridge_lr_grid_cv.predict(X_test_poly)\n",
    "y_lasso_pred = lasso_lr_grid_cv.predict(X_test_poly)"
   ]
  },
  {
   "cell_type": "code",
   "execution_count": 63,
   "metadata": {},
   "outputs": [
    {
     "name": "stdout",
     "output_type": "stream",
     "text": [
      "Train Ridge RMSE: 21.83706939809203\n",
      "Test Ridge RMSE: 24.983200604426063\n"
     ]
    }
   ],
   "source": [
    "print('Train Ridge RMSE:', np.sqrt(mean_squared_error(y_train, ridge_lr_grid_cv.predict(X_train_poly))))\n",
    "print('Test Ridge RMSE:', np.sqrt(mean_squared_error(y_test, y_ridge_pred)))"
   ]
  },
  {
   "cell_type": "code",
   "execution_count": 64,
   "metadata": {},
   "outputs": [
    {
     "name": "stdout",
     "output_type": "stream",
     "text": [
      "Train Lasso RMSE: 24.140978068270485\n",
      "Test Lasso RMSE: 24.046720768869907\n"
     ]
    }
   ],
   "source": [
    "print('Train Lasso RMSE:', np.sqrt(mean_squared_error(y_train, lasso_lr_grid_cv.predict(X_train_poly))))\n",
    "print('Test Lasso RMSE:', np.sqrt(mean_squared_error(y_test, y_lasso_pred)))"
   ]
  },
  {
   "cell_type": "markdown",
   "metadata": {},
   "source": [
    "### Accuracy of winner prediction"
   ]
  },
  {
   "cell_type": "code",
   "execution_count": 73,
   "metadata": {},
   "outputs": [
    {
     "name": "stdout",
     "output_type": "stream",
     "text": [
      "66.66666666666667\n"
     ]
    },
    {
     "name": "stderr",
     "output_type": "stream",
     "text": [
      "C:\\Users\\Mohinish\\Anaconda3\\lib\\site-packages\\ipykernel_launcher.py:7: SettingWithCopyWarning: \n",
      "A value is trying to be set on a copy of a slice from a DataFrame.\n",
      "Try using .loc[row_indexer,col_indexer] = value instead\n",
      "\n",
      "See the caveats in the documentation: http://pandas.pydata.org/pandas-docs/stable/indexing.html#indexing-view-versus-copy\n",
      "  import sys\n"
     ]
    }
   ],
   "source": [
    "inning1_out = y_lasso_pred\n",
    "X_inning2_poly = poly_features.transform(inning_2_input)\n",
    "inning2_out = lasso_lr_grid_cv.predict(X_inning2_poly)\n",
    "\n",
    "winner_df = df_inning_2[['Match_ID']]\n",
    "winner = [ 1 if inning1_out[i] > inning2_out[i] else 2 for i in range(len(inning1_out))]\n",
    "winner_df['Winner'] = winner\n",
    "correct_count = 0\n",
    "for match_id, winner  in winner_df[['Match_ID', 'Winner']].itertuples(index=False):\n",
    "    if winner == matchId_winnerInning_dict[match_id]:\n",
    "        correct_count += 1\n",
    "winPredictionAccuracy = float((correct_count*100)/len(winner_df))\n",
    "\n",
    "print(winPredictionAccuracy)"
   ]
  },
  {
   "cell_type": "markdown",
   "metadata": {},
   "source": [
    "### Print Scores prediction"
   ]
  },
  {
   "cell_type": "code",
   "execution_count": null,
   "metadata": {},
   "outputs": [],
   "source": [
    "for id, runs in df_test[['Match_ID', 'Runs']].itertuples(index=False):\n",
    "    print(runs)"
   ]
  },
  {
   "cell_type": "code",
   "execution_count": null,
   "metadata": {},
   "outputs": [],
   "source": [
    "for runs in y_ridge_pred:\n",
    "    print(runs)"
   ]
  }
 ],
 "metadata": {
  "kernelspec": {
   "display_name": "Python 3",
   "language": "python",
   "name": "python3"
  },
  "language_info": {
   "codemirror_mode": {
    "name": "ipython",
    "version": 3
   },
   "file_extension": ".py",
   "mimetype": "text/x-python",
   "name": "python",
   "nbconvert_exporter": "python",
   "pygments_lexer": "ipython3",
   "version": "3.7.3"
  }
 },
 "nbformat": 4,
 "nbformat_minor": 2
}
