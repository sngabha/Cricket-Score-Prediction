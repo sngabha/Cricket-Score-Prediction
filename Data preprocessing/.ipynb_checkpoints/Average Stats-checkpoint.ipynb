{
 "cells": [
  {
   "cell_type": "markdown",
   "metadata": {},
   "source": [
    "### Import Library and load data"
   ]
  },
  {
   "cell_type": "code",
   "execution_count": 2,
   "metadata": {},
   "outputs": [],
   "source": [
    "import pandas as pd\n",
    "import os.path\n",
    "df_batsmen = pd.read_pickle(os.path.abspath('') + '\\\\..\\\\Derived stats\\\\batsmen_stats.pkl')\n",
    "df_bowlers = pd.read_pickle(os.path.abspath('') + '\\\\..\\\\Derived stats\\\\bowlers_stats.pkl')"
   ]
  },
  {
   "cell_type": "code",
   "execution_count": 42,
   "metadata": {},
   "outputs": [
    {
     "data": {
      "text/html": [
       "<div>\n",
       "<style scoped>\n",
       "    .dataframe tbody tr th:only-of-type {\n",
       "        vertical-align: middle;\n",
       "    }\n",
       "\n",
       "    .dataframe tbody tr th {\n",
       "        vertical-align: top;\n",
       "    }\n",
       "\n",
       "    .dataframe thead th {\n",
       "        text-align: right;\n",
       "    }\n",
       "</style>\n",
       "<table border=\"1\" class=\"dataframe\">\n",
       "  <thead>\n",
       "    <tr style=\"text-align: right;\">\n",
       "      <th></th>\n",
       "      <th>Name</th>\n",
       "      <th>Match ID</th>\n",
       "      <th>Date</th>\n",
       "      <th>Runs Scored</th>\n",
       "      <th>Balls Faced</th>\n",
       "    </tr>\n",
       "  </thead>\n",
       "  <tbody>\n",
       "    <tr>\n",
       "      <th>0</th>\n",
       "      <td>DA Warner</td>\n",
       "      <td>1</td>\n",
       "      <td>2017-04-05</td>\n",
       "      <td>14</td>\n",
       "      <td>9</td>\n",
       "    </tr>\n",
       "    <tr>\n",
       "      <th>1</th>\n",
       "      <td>DA Warner</td>\n",
       "      <td>6</td>\n",
       "      <td>2017-04-09</td>\n",
       "      <td>76</td>\n",
       "      <td>47</td>\n",
       "    </tr>\n",
       "    <tr>\n",
       "      <th>2</th>\n",
       "      <td>DA Warner</td>\n",
       "      <td>10</td>\n",
       "      <td>2017-04-12</td>\n",
       "      <td>49</td>\n",
       "      <td>34</td>\n",
       "    </tr>\n",
       "    <tr>\n",
       "      <th>3</th>\n",
       "      <td>DA Warner</td>\n",
       "      <td>14</td>\n",
       "      <td>2017-04-15</td>\n",
       "      <td>26</td>\n",
       "      <td>31</td>\n",
       "    </tr>\n",
       "    <tr>\n",
       "      <th>4</th>\n",
       "      <td>DA Warner</td>\n",
       "      <td>19</td>\n",
       "      <td>2017-04-17</td>\n",
       "      <td>70</td>\n",
       "      <td>57</td>\n",
       "    </tr>\n",
       "  </tbody>\n",
       "</table>\n",
       "</div>"
      ],
      "text/plain": [
       "        Name Match ID        Date Runs Scored Balls Faced\n",
       "0  DA Warner        1  2017-04-05          14           9\n",
       "1  DA Warner        6  2017-04-09          76          47\n",
       "2  DA Warner       10  2017-04-12          49          34\n",
       "3  DA Warner       14  2017-04-15          26          31\n",
       "4  DA Warner       19  2017-04-17          70          57"
      ]
     },
     "execution_count": 42,
     "metadata": {},
     "output_type": "execute_result"
    }
   ],
   "source": [
    "df_batsmen.head(5)"
   ]
  },
  {
   "cell_type": "code",
   "execution_count": 43,
   "metadata": {},
   "outputs": [
    {
     "data": {
      "text/html": [
       "<div>\n",
       "<style scoped>\n",
       "    .dataframe tbody tr th:only-of-type {\n",
       "        vertical-align: middle;\n",
       "    }\n",
       "\n",
       "    .dataframe tbody tr th {\n",
       "        vertical-align: top;\n",
       "    }\n",
       "\n",
       "    .dataframe thead th {\n",
       "        text-align: right;\n",
       "    }\n",
       "</style>\n",
       "<table border=\"1\" class=\"dataframe\">\n",
       "  <thead>\n",
       "    <tr style=\"text-align: right;\">\n",
       "      <th></th>\n",
       "      <th>Name</th>\n",
       "      <th>match_id</th>\n",
       "      <th>economy</th>\n",
       "      <th>no_of_wickets</th>\n",
       "      <th>date</th>\n",
       "    </tr>\n",
       "  </thead>\n",
       "  <tbody>\n",
       "    <tr>\n",
       "      <th>0</th>\n",
       "      <td>TS Mills</td>\n",
       "      <td>1</td>\n",
       "      <td>8.00</td>\n",
       "      <td>1</td>\n",
       "      <td>2017-04-05</td>\n",
       "    </tr>\n",
       "    <tr>\n",
       "      <th>1</th>\n",
       "      <td>TS Mills</td>\n",
       "      <td>5</td>\n",
       "      <td>8.25</td>\n",
       "      <td>1</td>\n",
       "      <td>2017-04-08</td>\n",
       "    </tr>\n",
       "    <tr>\n",
       "      <th>2</th>\n",
       "      <td>TS Mills</td>\n",
       "      <td>8</td>\n",
       "      <td>12.00</td>\n",
       "      <td>1</td>\n",
       "      <td>2017-04-10</td>\n",
       "    </tr>\n",
       "    <tr>\n",
       "      <th>3</th>\n",
       "      <td>TS Mills</td>\n",
       "      <td>12</td>\n",
       "      <td>9.25</td>\n",
       "      <td>0</td>\n",
       "      <td>2017-04-14</td>\n",
       "    </tr>\n",
       "    <tr>\n",
       "      <th>4</th>\n",
       "      <td>TS Mills</td>\n",
       "      <td>27</td>\n",
       "      <td>7.75</td>\n",
       "      <td>2</td>\n",
       "      <td>2017-04-23</td>\n",
       "    </tr>\n",
       "  </tbody>\n",
       "</table>\n",
       "</div>"
      ],
      "text/plain": [
       "       Name  match_id  economy  no_of_wickets        date\n",
       "0  TS Mills         1     8.00              1  2017-04-05\n",
       "1  TS Mills         5     8.25              1  2017-04-08\n",
       "2  TS Mills         8    12.00              1  2017-04-10\n",
       "3  TS Mills        12     9.25              0  2017-04-14\n",
       "4  TS Mills        27     7.75              2  2017-04-23"
      ]
     },
     "execution_count": 43,
     "metadata": {},
     "output_type": "execute_result"
    }
   ],
   "source": [
    "df_bowlers.head(5)"
   ]
  },
  {
   "cell_type": "code",
   "execution_count": 44,
   "metadata": {},
   "outputs": [],
   "source": [
    "match_dates = df_batsmen['Date'].unique()\n",
    "batsmen = df_batsmen['Name'].unique()\n",
    "bowlers = df_bowlers['Name'].unique()"
   ]
  },
  {
   "cell_type": "markdown",
   "metadata": {},
   "source": [
    "### Calculate Average stats for batsmen and bowlers"
   ]
  },
  {
   "cell_type": "code",
   "execution_count": 45,
   "metadata": {},
   "outputs": [],
   "source": [
    "batsmen_average_data = []\n",
    "for m_date in match_dates:\n",
    "    for b_man in batsmen:\n",
    "        b_man_df = df_batsmen[df_batsmen['Name'] == b_man]\n",
    "        b_man_date_df = b_man_df[b_man_df['Date'] < m_date]\n",
    "        if len(b_man_date_df) == 0:\n",
    "            continue\n",
    "        avg_run = b_man_date_df['Runs Scored'].sum(axis=0, skipna=True)/len(b_man_date_df)\n",
    "        avg_ball_faced = b_man_date_df['Balls Faced'].sum(axis=0, skipna=True)/len(b_man_date_df)\n",
    "        batsmen_average_data.append([b_man, m_date, avg_run, avg_ball_faced])\n",
    "df_batsmen_avg_stats = pd.DataFrame(batsmen_average_data, columns = ['Name', 'Date', 'Batting Average', 'Average Balls Faced'])"
   ]
  },
  {
   "cell_type": "code",
   "execution_count": 47,
   "metadata": {},
   "outputs": [],
   "source": [
    "bowlers_average_data = []\n",
    "for m_date in match_dates:\n",
    "    for b_man in bowlers:\n",
    "        b_man_df = df_bowlers[df_bowlers['Name'] == b_man]\n",
    "        b_man_date_df = b_man_df[b_man_df['date'] < m_date]\n",
    "        if len(b_man_date_df) == 0:\n",
    "            continue\n",
    "        avg_no_of_wickets = b_man_date_df['no_of_wickets'].sum(axis=0, skipna=True)/len(b_man_date_df)\n",
    "        avg_economy = b_man_date_df['economy'].sum(axis=0, skipna=True)/len(b_man_date_df)\n",
    "        bowlers_average_data.append([b_man, m_date, avg_no_of_wickets, avg_economy])\n",
    "df_bowlers_avg_stats = pd.DataFrame(bowlers_average_data, columns = ['Name', 'Date', 'Average no of wickets', 'Average economy'])"
   ]
  },
  {
   "cell_type": "markdown",
   "metadata": {},
   "source": [
    "### Save calculated stats"
   ]
  },
  {
   "cell_type": "code",
   "execution_count": 48,
   "metadata": {},
   "outputs": [],
   "source": [
    "df_batsmen_avg_stats.to_pickle(os.path.abspath('') + '\\\\..\\\\Derived stats\\\\batsmen_average_data.pkl')\n",
    "df_bowlers_avg_stats.to_pickle(os.path.abspath('') + '\\\\..\\\\Derived stats\\\\bowlers_average_data.pkl')"
   ]
  }
 ],
 "metadata": {
  "kernelspec": {
   "display_name": "Python 3",
   "language": "python",
   "name": "python3"
  },
  "language_info": {
   "codemirror_mode": {
    "name": "ipython",
    "version": 3
   },
   "file_extension": ".py",
   "mimetype": "text/x-python",
   "name": "python",
   "nbconvert_exporter": "python",
   "pygments_lexer": "ipython3",
   "version": "3.7.3"
  }
 },
 "nbformat": 4,
 "nbformat_minor": 2
}
