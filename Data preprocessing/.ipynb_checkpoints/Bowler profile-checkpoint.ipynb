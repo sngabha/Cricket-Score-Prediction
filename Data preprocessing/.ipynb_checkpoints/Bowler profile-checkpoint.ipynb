{
 "cells": [
  {
   "cell_type": "markdown",
   "metadata": {},
   "source": [
    "### Import libraries and load data"
   ]
  },
  {
   "cell_type": "code",
   "execution_count": 3,
   "metadata": {},
   "outputs": [],
   "source": [
    "import pandas as pd\n",
    "import numpy as np\n",
    "import os.path\n",
    "df_d = pd.read_csv(os.path.abspath('') + '\\\\..\\\\deliveries.csv')\n",
    "df_m = pd.read_csv(os.path.abspath('') + '\\\\..\\\\matches.csv')"
   ]
  },
  {
   "cell_type": "code",
   "execution_count": 4,
   "metadata": {},
   "outputs": [],
   "source": [
    "bowlers = df_d['bowler'].unique()\n",
    "match_dates = df_m['date'].unique()\n",
    "matches = df_m['id'].values"
   ]
  },
  {
   "cell_type": "markdown",
   "metadata": {},
   "source": [
    "### Creating bowler profile"
   ]
  },
  {
   "cell_type": "code",
   "execution_count": 13,
   "metadata": {},
   "outputs": [],
   "source": [
    "bowlers_stat = []\n",
    "for bowler in bowlers:\n",
    "    df_d_b = df_d[df_d['bowler'] == bowler]\n",
    "    matches_played = df_d_b['match_id'].unique()\n",
    "    for m_id in matches_played:\n",
    "        df = df_d_b[df_d_b['match_id'] == m_id]\n",
    "        total_runs_conceded = df['total_runs'].sum(axis = 0, skipna = True)\n",
    "        economy = total_runs_conceded/(len(df['over'].unique()))\n",
    "        no_of_wickets = df['player_dismissed'].count()\n",
    "        bowlers_stat.append([bowler, m_id, economy, no_of_wickets, ''])\n",
    "df_bowlers_stat = pd.DataFrame(bowlers_stat, columns = ['Name', 'match_id', 'economy', 'no_of_wickets', 'date'])"
   ]
  },
  {
   "cell_type": "code",
   "execution_count": 38,
   "metadata": {},
   "outputs": [],
   "source": [
    "match_date_dict = df_m[['id','date']].set_index('id').T.to_dict('list')\n",
    "df_bowlers_stat['date'] = [match_date_dict[m_id][0] for m_id in df_bowlers_stat['match_id']]"
   ]
  },
  {
   "cell_type": "markdown",
   "metadata": {},
   "source": [
    "### Saving the results"
   ]
  },
  {
   "cell_type": "code",
   "execution_count": 42,
   "metadata": {},
   "outputs": [],
   "source": [
    "df_bowlers_stat.to_pickle(os.path.abspath('') + '\\\\..\\\\Derived stats\\\\bowlers_stats.pkl')"
   ]
  }
 ],
 "metadata": {
  "kernelspec": {
   "display_name": "Python 3",
   "language": "python",
   "name": "python3"
  },
  "language_info": {
   "codemirror_mode": {
    "name": "ipython",
    "version": 3
   },
   "file_extension": ".py",
   "mimetype": "text/x-python",
   "name": "python",
   "nbconvert_exporter": "python",
   "pygments_lexer": "ipython3",
   "version": "3.7.3"
  }
 },
 "nbformat": 4,
 "nbformat_minor": 2
}
