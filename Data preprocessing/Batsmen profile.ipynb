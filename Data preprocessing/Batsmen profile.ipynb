{
 "cells": [
  {
   "cell_type": "markdown",
   "metadata": {},
   "source": [
    "### Import Libraires and load data"
   ]
  },
  {
   "cell_type": "code",
   "execution_count": 1,
   "metadata": {},
   "outputs": [],
   "source": [
    "import pandas as pd\n",
    "import numpy as np\n",
    "import pickle\n",
    "import os.path"
   ]
  },
  {
   "cell_type": "code",
   "execution_count": 3,
   "metadata": {},
   "outputs": [],
   "source": [
    "match_data = pd.read_csv(os.path.abspath('') + '\\\\..\\\\matches.csv')\n",
    "delivery_data = pd.read_csv(os.path.abspath('') + '\\\\..\\\\deliveries.csv')"
   ]
  },
  {
   "cell_type": "markdown",
   "metadata": {},
   "source": [
    "### Creating batsmen profile"
   ]
  },
  {
   "cell_type": "code",
   "execution_count": 14,
   "metadata": {},
   "outputs": [],
   "source": [
    "unique_players = delivery_data[\"batsman\"].unique()\n",
    "batsmen_data = pd.DataFrame(columns=[\"Name\", \"Match ID\", \"Date\", \"Runs Scored\", \"Balls Faced\"])\n",
    "for player in unique_players:\n",
    "    df_player = delivery_data[delivery_data['batsman'] == player]\n",
    "    matches_played = df_player['match_id'].unique()\n",
    "    for r_id in matches_played:\n",
    "        df = df_player[df_player['match_id'] == r_id]\n",
    "        player_runs = df['batsman_runs'].sum(axis = 0, skipna = True)\n",
    "        player_data = {\"Name\": player, \"Match ID\": r_id, \"Date\": '', \"Runs Scored\": player_runs, \"Balls Faced\": len(df)}\n",
    "        batsmen_data = batsmen_data.append(player_data, ignore_index=True)"
   ]
  },
  {
   "cell_type": "code",
   "execution_count": 15,
   "metadata": {},
   "outputs": [],
   "source": [
    "match_date_dict = match_data[['id','date']].set_index('id').T.to_dict('list')\n",
    "batsmen_data['Date'] = [match_date_dict[r_id][0] for r_id in batsmen_data['Match ID']]"
   ]
  },
  {
   "cell_type": "markdown",
   "metadata": {},
   "source": [
    "### Saving the results"
   ]
  },
  {
   "cell_type": "code",
   "execution_count": 19,
   "metadata": {},
   "outputs": [],
   "source": [
    "batsmen_data.to_pickle(os.path.abspath('') + '\\\\..\\\\Derived stats\\\\batsmen_stats.pkl')"
   ]
  }
 ],
 "metadata": {
  "kernelspec": {
   "display_name": "Python 3",
   "language": "python",
   "name": "python3"
  },
  "language_info": {
   "codemirror_mode": {
    "name": "ipython",
    "version": 3
   },
   "file_extension": ".py",
   "mimetype": "text/x-python",
   "name": "python",
   "nbconvert_exporter": "python",
   "pygments_lexer": "ipython3",
   "version": "3.7.3"
  }
 },
 "nbformat": 4,
 "nbformat_minor": 2
}
