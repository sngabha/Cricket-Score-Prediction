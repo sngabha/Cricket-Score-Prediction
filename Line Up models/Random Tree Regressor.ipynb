{
 "cells": [
  {
   "cell_type": "markdown",
   "metadata": {},
   "source": [
    "### Import Libraries"
   ]
  },
  {
   "cell_type": "code",
   "execution_count": 14,
   "metadata": {},
   "outputs": [],
   "source": [
    "import pandas as pd\n",
    "from sklearn.metrics import mean_squared_error\n",
    "from sklearn.preprocessing import StandardScaler\n",
    "import seaborn as sns\n",
    "import numpy as np\n",
    "import os.path\n",
    "import math\n",
    "from sklearn.ensemble import RandomForestRegressor\n",
    "from sklearn.model_selection import GridSearchCV\n",
    "import pickle\n",
    "from joblib import dump, load"
   ]
  },
  {
   "cell_type": "markdown",
   "metadata": {},
   "source": [
    "### Load pre-computed stats"
   ]
  },
  {
   "cell_type": "code",
   "execution_count": 15,
   "metadata": {},
   "outputs": [],
   "source": [
    "df_train = pd.read_pickle(os.path.abspath('') + '\\\\..\\\\Derived stats\\\\match_stats_train.pkl')\n",
    "df_test = pd.read_pickle(os.path.abspath('') + '\\\\..\\\\Derived stats\\\\match_stats_test.pkl')\n",
    "\n",
    "# delete outlier\n",
    "\"\"\" Assuming, in most normal matches, teams \n",
    "score more than 75 runs on an average as shown\n",
    "by past statistics. \"\"\"\n",
    "df_train = df_train[df_train['Runs'] > 75]\n",
    "df_test = df_test[df_test['Runs'] > 75]\n",
    "\n",
    "cols = df_train.columns\n",
    "cols = cols.map(lambda x: x.replace(' ', '_') if isinstance(x, (str, 'utf-8')) else x)\n",
    "df_train.columns = cols\n",
    "df_test.columns = cols\n",
    "\n",
    "# To remove the other inning for which outliers were removed\n",
    "match_ids = df_test['Match_ID'].unique()\n",
    "m_ids_toBeRemoved = []          \n",
    "for m_id in match_ids:\n",
    "    if len(df_test[df_test['Match_ID'] == m_id]) !=2:\n",
    "        m_ids_toBeRemoved.append(m_id)\n",
    "\n",
    "for m_id in m_ids_toBeRemoved:\n",
    "    df_test = df_test[df_test['Match_ID'] != m_id]"
   ]
  },
  {
   "cell_type": "markdown",
   "metadata": {},
   "source": [
    "### Computing additional features"
   ]
  },
  {
   "cell_type": "markdown",
   "metadata": {},
   "source": [
    "#### Adding feature: Average runs scored against same opponent in previous matches"
   ]
  },
  {
   "cell_type": "code",
   "execution_count": 17,
   "metadata": {},
   "outputs": [],
   "source": [
    "\"\"\" Previous run with same opponent \"\"\"\n",
    "\n",
    "prev_run = []\n",
    "for Date, Team_Name, Opp_Team  in df_train[['Date','Team_Name', 'Opp_Team']].itertuples(index=False):\n",
    "    df_t = df_train.query(\"Team_Name == @Team_Name & Opp_Team == @Opp_Team & Date < @Date\")['Runs']\n",
    "    if len(df_t) == 0:\n",
    "        prev_run.append(df_train.query(\"Team_Name == @Team_Name & Opp_Team == @Opp_Team\")['Runs'].mean())\n",
    "        continue\n",
    "    prev_run.append(df_train.query(\"Team_Name == @Team_Name & Opp_Team == @Opp_Team & Date < @Date\")['Runs'].values[-1])\n",
    "df_train['Prev Run'] = prev_run\n",
    "\n",
    "prev_run = []\n",
    "for Date, Team_Name, Opp_Team  in df_test[['Date','Team_Name', 'Opp_Team']].itertuples(index=False):\n",
    "    df_t = df_test.query(\"Team_Name == @Team_Name & Opp_Team == @Opp_Team & Date < @Date\")['Runs']\n",
    "    if len(df_t) == 0:\n",
    "        df_t_t = df_train.query(\"Team_Name == @Team_Name & Opp_Team == @Opp_Team & Date < @Date\")\n",
    "        if len(df_t_t) == 0:\n",
    "            prev_run.append(0)\n",
    "        else:\n",
    "            prev_run.append(df_t_t['Runs'].values[-1])\n",
    "        continue\n",
    "    prev_run.append(df_test.query(\"Team_Name == @Team_Name & Opp_Team == @Opp_Team & Date < @Date\")['Runs'].values[-1])\n",
    "df_test['Prev Run'] = prev_run"
   ]
  },
  {
   "cell_type": "markdown",
   "metadata": {},
   "source": [
    "#### Adding feature: Average runs scored in a venue till date irrespective of teams"
   ]
  },
  {
   "cell_type": "code",
   "execution_count": 18,
   "metadata": {},
   "outputs": [],
   "source": [
    "\"\"\" Previous run on venue irrespective of team \"\"\"\n",
    "\n",
    "prev_run = []\n",
    "for Date, city  in df_train[['Date', 'City']].itertuples(index=False):\n",
    "    df_t = df_train.query(\"City == @city & Date < @Date\")\n",
    "    if len(df_t) == 0:\n",
    "        df_t_t = df_train.query(\"City == @city\")\n",
    "        if len(df_t_t) == 0:\n",
    "            prev_run.append(0)\n",
    "        else:\n",
    "            prev_run.append(df_t_t['Runs'].mean())\n",
    "        continue\n",
    "    prev_run.append(df_t['Runs'].mean())\n",
    "df_train['Prev Venue Run'] = prev_run\n",
    "\n",
    "prev_run = []\n",
    "for Date, city  in df_test[['Date', 'City']].itertuples(index=False):\n",
    "    df_te = df_test.query(\"City == @city & Date < @Date\")\n",
    "    df_tr = df_train.query(\"City == @city & Date < @Date\")\n",
    "    prev_run.append((df_te['Runs'].sum(axis = 0, skipna = True) + df_tr['Runs'].sum(axis = 0, skipna = True))/(len(df_te)+len(df_tr)))\n",
    "df_test['Prev Venue Run'] = prev_run"
   ]
  },
  {
   "cell_type": "markdown",
   "metadata": {},
   "source": [
    "### Print data before model fitting"
   ]
  },
  {
   "cell_type": "code",
   "execution_count": 40,
   "metadata": {},
   "outputs": [
    {
     "data": {
      "text/html": [
       "<div>\n",
       "<style scoped>\n",
       "    .dataframe tbody tr th:only-of-type {\n",
       "        vertical-align: middle;\n",
       "    }\n",
       "\n",
       "    .dataframe tbody tr th {\n",
       "        vertical-align: top;\n",
       "    }\n",
       "\n",
       "    .dataframe thead th {\n",
       "        text-align: right;\n",
       "    }\n",
       "</style>\n",
       "<table border=\"1\" class=\"dataframe\">\n",
       "  <thead>\n",
       "    <tr style=\"text-align: right;\">\n",
       "      <th></th>\n",
       "      <th>Match ID</th>\n",
       "      <th>Date</th>\n",
       "      <th>Team Name</th>\n",
       "      <th>Opp Team</th>\n",
       "      <th>Innnings</th>\n",
       "      <th>City</th>\n",
       "      <th>Past lead</th>\n",
       "      <th>Target</th>\n",
       "      <th>Avg Bat1</th>\n",
       "      <th>Curr Bat1</th>\n",
       "      <th>...</th>\n",
       "      <th>Avg Bat10</th>\n",
       "      <th>Curr Bat10</th>\n",
       "      <th>Avg Bat11</th>\n",
       "      <th>Curr Bat11</th>\n",
       "      <th>Bowl1</th>\n",
       "      <th>Bowl2</th>\n",
       "      <th>Bowl3</th>\n",
       "      <th>Bowl4</th>\n",
       "      <th>Bowl5</th>\n",
       "      <th>Runs</th>\n",
       "    </tr>\n",
       "  </thead>\n",
       "  <tbody>\n",
       "    <tr>\n",
       "      <th>0</th>\n",
       "      <td>175</td>\n",
       "      <td>2010-03-12</td>\n",
       "      <td>Kolkata Knight Riders</td>\n",
       "      <td>Deccan Chargers</td>\n",
       "      <td>1</td>\n",
       "      <td>Mumbai</td>\n",
       "      <td>0</td>\n",
       "      <td>0</td>\n",
       "      <td>14.125000</td>\n",
       "      <td>11.6</td>\n",
       "      <td>...</td>\n",
       "      <td>0</td>\n",
       "      <td>0</td>\n",
       "      <td>0</td>\n",
       "      <td>0</td>\n",
       "      <td>6.729167</td>\n",
       "      <td>7.833333</td>\n",
       "      <td>8.574074</td>\n",
       "      <td>9.125000</td>\n",
       "      <td>10.666667</td>\n",
       "      <td>161</td>\n",
       "    </tr>\n",
       "    <tr>\n",
       "      <th>1</th>\n",
       "      <td>175</td>\n",
       "      <td>2010-03-12</td>\n",
       "      <td>Deccan Chargers</td>\n",
       "      <td>Kolkata Knight Riders</td>\n",
       "      <td>2</td>\n",
       "      <td>Mumbai</td>\n",
       "      <td>1</td>\n",
       "      <td>161</td>\n",
       "      <td>31.033333</td>\n",
       "      <td>33.2</td>\n",
       "      <td>...</td>\n",
       "      <td>0</td>\n",
       "      <td>0</td>\n",
       "      <td>0</td>\n",
       "      <td>0</td>\n",
       "      <td>3.750000</td>\n",
       "      <td>7.145833</td>\n",
       "      <td>7.322917</td>\n",
       "      <td>9.350000</td>\n",
       "      <td>10.666667</td>\n",
       "      <td>150</td>\n",
       "    </tr>\n",
       "    <tr>\n",
       "      <th>2</th>\n",
       "      <td>176</td>\n",
       "      <td>2010-03-13</td>\n",
       "      <td>Mumbai Indians</td>\n",
       "      <td>Rajasthan Royals</td>\n",
       "      <td>1</td>\n",
       "      <td>Mumbai</td>\n",
       "      <td>0</td>\n",
       "      <td>0</td>\n",
       "      <td>28.269231</td>\n",
       "      <td>15.8</td>\n",
       "      <td>...</td>\n",
       "      <td>0</td>\n",
       "      <td>0</td>\n",
       "      <td>0</td>\n",
       "      <td>0</td>\n",
       "      <td>7.750000</td>\n",
       "      <td>8.006667</td>\n",
       "      <td>8.490741</td>\n",
       "      <td>8.595238</td>\n",
       "      <td>8.000000</td>\n",
       "      <td>212</td>\n",
       "    </tr>\n",
       "    <tr>\n",
       "      <th>3</th>\n",
       "      <td>176</td>\n",
       "      <td>2010-03-13</td>\n",
       "      <td>Rajasthan Royals</td>\n",
       "      <td>Mumbai Indians</td>\n",
       "      <td>2</td>\n",
       "      <td>Mumbai</td>\n",
       "      <td>1</td>\n",
       "      <td>212</td>\n",
       "      <td>28.391304</td>\n",
       "      <td>14.0</td>\n",
       "      <td>...</td>\n",
       "      <td>0</td>\n",
       "      <td>0</td>\n",
       "      <td>0</td>\n",
       "      <td>0</td>\n",
       "      <td>6.243056</td>\n",
       "      <td>8.062500</td>\n",
       "      <td>9.650000</td>\n",
       "      <td>8.000000</td>\n",
       "      <td>8.000000</td>\n",
       "      <td>208</td>\n",
       "    </tr>\n",
       "    <tr>\n",
       "      <th>4</th>\n",
       "      <td>177</td>\n",
       "      <td>2010-03-13</td>\n",
       "      <td>Kings XI Punjab</td>\n",
       "      <td>Delhi Daredevils</td>\n",
       "      <td>1</td>\n",
       "      <td>Chandigarh</td>\n",
       "      <td>1</td>\n",
       "      <td>0</td>\n",
       "      <td>27.600000</td>\n",
       "      <td>27.6</td>\n",
       "      <td>...</td>\n",
       "      <td>1.25</td>\n",
       "      <td>1.25</td>\n",
       "      <td>10</td>\n",
       "      <td>10</td>\n",
       "      <td>7.020833</td>\n",
       "      <td>7.208333</td>\n",
       "      <td>7.424242</td>\n",
       "      <td>8.062500</td>\n",
       "      <td>8.845238</td>\n",
       "      <td>142</td>\n",
       "    </tr>\n",
       "  </tbody>\n",
       "</table>\n",
       "<p>5 rows × 36 columns</p>\n",
       "</div>"
      ],
      "text/plain": [
       "  Match ID        Date              Team Name               Opp Team Innnings  \\\n",
       "0      175  2010-03-12  Kolkata Knight Riders        Deccan Chargers        1   \n",
       "1      175  2010-03-12        Deccan Chargers  Kolkata Knight Riders        2   \n",
       "2      176  2010-03-13         Mumbai Indians       Rajasthan Royals        1   \n",
       "3      176  2010-03-13       Rajasthan Royals         Mumbai Indians        2   \n",
       "4      177  2010-03-13        Kings XI Punjab       Delhi Daredevils        1   \n",
       "\n",
       "         City Past lead Target   Avg Bat1  Curr Bat1  ...  Avg Bat10  \\\n",
       "0      Mumbai         0      0  14.125000       11.6  ...          0   \n",
       "1      Mumbai         1    161  31.033333       33.2  ...          0   \n",
       "2      Mumbai         0      0  28.269231       15.8  ...          0   \n",
       "3      Mumbai         1    212  28.391304       14.0  ...          0   \n",
       "4  Chandigarh         1      0  27.600000       27.6  ...       1.25   \n",
       "\n",
       "   Curr Bat10  Avg Bat11  Curr Bat11     Bowl1     Bowl2     Bowl3     Bowl4  \\\n",
       "0           0          0           0  6.729167  7.833333  8.574074  9.125000   \n",
       "1           0          0           0  3.750000  7.145833  7.322917  9.350000   \n",
       "2           0          0           0  7.750000  8.006667  8.490741  8.595238   \n",
       "3           0          0           0  6.243056  8.062500  9.650000  8.000000   \n",
       "4        1.25         10          10  7.020833  7.208333  7.424242  8.062500   \n",
       "\n",
       "       Bowl5  Runs  \n",
       "0  10.666667   161  \n",
       "1  10.666667   150  \n",
       "2   8.000000   212  \n",
       "3   8.000000   208  \n",
       "4   8.845238   142  \n",
       "\n",
       "[5 rows x 36 columns]"
      ]
     },
     "execution_count": 40,
     "metadata": {},
     "output_type": "execute_result"
    }
   ],
   "source": [
    "df_train.head(5)"
   ]
  },
  {
   "cell_type": "code",
   "execution_count": 41,
   "metadata": {},
   "outputs": [
    {
     "data": {
      "text/html": [
       "<div>\n",
       "<style scoped>\n",
       "    .dataframe tbody tr th:only-of-type {\n",
       "        vertical-align: middle;\n",
       "    }\n",
       "\n",
       "    .dataframe tbody tr th {\n",
       "        vertical-align: top;\n",
       "    }\n",
       "\n",
       "    .dataframe thead th {\n",
       "        text-align: right;\n",
       "    }\n",
       "</style>\n",
       "<table border=\"1\" class=\"dataframe\">\n",
       "  <thead>\n",
       "    <tr style=\"text-align: right;\">\n",
       "      <th></th>\n",
       "      <th>Match ID</th>\n",
       "      <th>Date</th>\n",
       "      <th>Team Name</th>\n",
       "      <th>Opp Team</th>\n",
       "      <th>Innnings</th>\n",
       "      <th>City</th>\n",
       "      <th>Past lead</th>\n",
       "      <th>Target</th>\n",
       "      <th>Avg Bat1</th>\n",
       "      <th>Curr Bat1</th>\n",
       "      <th>...</th>\n",
       "      <th>Avg Bat10</th>\n",
       "      <th>Curr Bat10</th>\n",
       "      <th>Avg Bat11</th>\n",
       "      <th>Curr Bat11</th>\n",
       "      <th>Bowl1</th>\n",
       "      <th>Bowl2</th>\n",
       "      <th>Bowl3</th>\n",
       "      <th>Bowl4</th>\n",
       "      <th>Bowl5</th>\n",
       "      <th>Runs</th>\n",
       "    </tr>\n",
       "  </thead>\n",
       "  <tbody>\n",
       "    <tr>\n",
       "      <th>0</th>\n",
       "      <td>1</td>\n",
       "      <td>2017-04-05</td>\n",
       "      <td>Sunrisers Hyderabad</td>\n",
       "      <td>Royal Challengers Bangalore</td>\n",
       "      <td>1</td>\n",
       "      <td>Hyderabad</td>\n",
       "      <td>1</td>\n",
       "      <td>0</td>\n",
       "      <td>33.730000</td>\n",
       "      <td>55.963474</td>\n",
       "      <td>...</td>\n",
       "      <td>0</td>\n",
       "      <td>0</td>\n",
       "      <td>0</td>\n",
       "      <td>0</td>\n",
       "      <td>7.033333</td>\n",
       "      <td>8.236111</td>\n",
       "      <td>8.958333</td>\n",
       "      <td>10.800000</td>\n",
       "      <td>8.000000</td>\n",
       "      <td>207</td>\n",
       "    </tr>\n",
       "    <tr>\n",
       "      <th>1</th>\n",
       "      <td>1</td>\n",
       "      <td>2017-04-05</td>\n",
       "      <td>Royal Challengers Bangalore</td>\n",
       "      <td>Sunrisers Hyderabad</td>\n",
       "      <td>2</td>\n",
       "      <td>Hyderabad</td>\n",
       "      <td>0</td>\n",
       "      <td>207</td>\n",
       "      <td>37.923077</td>\n",
       "      <td>41.600000</td>\n",
       "      <td>...</td>\n",
       "      <td>10</td>\n",
       "      <td>10</td>\n",
       "      <td>10</td>\n",
       "      <td>10</td>\n",
       "      <td>7.130952</td>\n",
       "      <td>7.435185</td>\n",
       "      <td>7.437500</td>\n",
       "      <td>7.440476</td>\n",
       "      <td>7.750000</td>\n",
       "      <td>172</td>\n",
       "    </tr>\n",
       "    <tr>\n",
       "      <th>2</th>\n",
       "      <td>2</td>\n",
       "      <td>2017-04-06</td>\n",
       "      <td>Mumbai Indians</td>\n",
       "      <td>Rising Pune Supergiant</td>\n",
       "      <td>1</td>\n",
       "      <td>Pune</td>\n",
       "      <td>0</td>\n",
       "      <td>0</td>\n",
       "      <td>19.270000</td>\n",
       "      <td>20.800000</td>\n",
       "      <td>...</td>\n",
       "      <td>0</td>\n",
       "      <td>0</td>\n",
       "      <td>0</td>\n",
       "      <td>0</td>\n",
       "      <td>6.500000</td>\n",
       "      <td>7.000000</td>\n",
       "      <td>7.570833</td>\n",
       "      <td>8.364583</td>\n",
       "      <td>8.640625</td>\n",
       "      <td>184</td>\n",
       "    </tr>\n",
       "    <tr>\n",
       "      <th>3</th>\n",
       "      <td>2</td>\n",
       "      <td>2017-04-06</td>\n",
       "      <td>Rising Pune Supergiant</td>\n",
       "      <td>Mumbai Indians</td>\n",
       "      <td>2</td>\n",
       "      <td>Pune</td>\n",
       "      <td>0</td>\n",
       "      <td>184</td>\n",
       "      <td>30.056180</td>\n",
       "      <td>27.400000</td>\n",
       "      <td>...</td>\n",
       "      <td>0</td>\n",
       "      <td>0</td>\n",
       "      <td>0</td>\n",
       "      <td>0</td>\n",
       "      <td>6.250000</td>\n",
       "      <td>8.416667</td>\n",
       "      <td>8.875000</td>\n",
       "      <td>8.983333</td>\n",
       "      <td>9.105263</td>\n",
       "      <td>187</td>\n",
       "    </tr>\n",
       "    <tr>\n",
       "      <th>4</th>\n",
       "      <td>3</td>\n",
       "      <td>2017-04-07</td>\n",
       "      <td>Gujarat Lions</td>\n",
       "      <td>Kolkata Knight Riders</td>\n",
       "      <td>1</td>\n",
       "      <td>Rajkot</td>\n",
       "      <td>1</td>\n",
       "      <td>0</td>\n",
       "      <td>10.000000</td>\n",
       "      <td>10.000000</td>\n",
       "      <td>...</td>\n",
       "      <td>0</td>\n",
       "      <td>0</td>\n",
       "      <td>0</td>\n",
       "      <td>0</td>\n",
       "      <td>6.100000</td>\n",
       "      <td>8.006667</td>\n",
       "      <td>8.526882</td>\n",
       "      <td>8.535714</td>\n",
       "      <td>9.250000</td>\n",
       "      <td>183</td>\n",
       "    </tr>\n",
       "  </tbody>\n",
       "</table>\n",
       "<p>5 rows × 36 columns</p>\n",
       "</div>"
      ],
      "text/plain": [
       "  Match ID        Date                    Team Name  \\\n",
       "0        1  2017-04-05          Sunrisers Hyderabad   \n",
       "1        1  2017-04-05  Royal Challengers Bangalore   \n",
       "2        2  2017-04-06               Mumbai Indians   \n",
       "3        2  2017-04-06       Rising Pune Supergiant   \n",
       "4        3  2017-04-07                Gujarat Lions   \n",
       "\n",
       "                      Opp Team Innnings       City Past lead Target  \\\n",
       "0  Royal Challengers Bangalore        1  Hyderabad         1      0   \n",
       "1          Sunrisers Hyderabad        2  Hyderabad         0    207   \n",
       "2       Rising Pune Supergiant        1       Pune         0      0   \n",
       "3               Mumbai Indians        2       Pune         0    184   \n",
       "4        Kolkata Knight Riders        1     Rajkot         1      0   \n",
       "\n",
       "    Avg Bat1  Curr Bat1  ...  Avg Bat10  Curr Bat10  Avg Bat11  Curr Bat11  \\\n",
       "0  33.730000  55.963474  ...          0           0          0           0   \n",
       "1  37.923077  41.600000  ...         10          10         10          10   \n",
       "2  19.270000  20.800000  ...          0           0          0           0   \n",
       "3  30.056180  27.400000  ...          0           0          0           0   \n",
       "4  10.000000  10.000000  ...          0           0          0           0   \n",
       "\n",
       "      Bowl1     Bowl2     Bowl3      Bowl4     Bowl5  Runs  \n",
       "0  7.033333  8.236111  8.958333  10.800000  8.000000   207  \n",
       "1  7.130952  7.435185  7.437500   7.440476  7.750000   172  \n",
       "2  6.500000  7.000000  7.570833   8.364583  8.640625   184  \n",
       "3  6.250000  8.416667  8.875000   8.983333  9.105263   187  \n",
       "4  6.100000  8.006667  8.526882   8.535714  9.250000   183  \n",
       "\n",
       "[5 rows x 36 columns]"
      ]
     },
     "execution_count": 41,
     "metadata": {},
     "output_type": "execute_result"
    }
   ],
   "source": [
    "df_test.head(5)"
   ]
  },
  {
   "cell_type": "markdown",
   "metadata": {},
   "source": [
    "### Selecting Features to train the model"
   ]
  },
  {
   "cell_type": "code",
   "execution_count": 19,
   "metadata": {},
   "outputs": [],
   "source": [
    "df_train_inning_1 = df_train[df_train['Innnings'] == 1]\n",
    "df_test_inning_1 = df_test[df_test['Innnings'] == 1]"
   ]
  },
  {
   "cell_type": "code",
   "execution_count": 20,
   "metadata": {},
   "outputs": [],
   "source": [
    "df_inning_2 = df_test[df_test['Innnings'] == 2]\n",
    "inning_2_input = df_inning_2[['Avg_Bat1', 'Avg_Bat2', 'Avg_Bat3', 'Avg_Bat4', 'Avg_Bat5', 'Avg_Bat6', 'Avg_Bat7', 'Avg_Bat8', 'Avg_Bat9', 'Avg_Bat10', 'Avg_Bat11','Prev Run', 'Prev Venue Run', 'Past_lead']]"
   ]
  },
  {
   "cell_type": "code",
   "execution_count": 21,
   "metadata": {},
   "outputs": [],
   "source": [
    "cols = ['Avg_Bat1', 'Avg_Bat2', 'Avg_Bat3', 'Avg_Bat4', 'Avg_Bat5', 'Avg_Bat6', 'Avg_Bat7', 'Avg_Bat8', 'Avg_Bat9', 'Avg_Bat10', 'Avg_Bat11', 'Prev Run', 'Prev Venue Run', 'Past_lead']\n",
    "\n",
    "X_train = df_train_inning_1[cols]\n",
    "y_train = df_train_inning_1[['Runs']]\n",
    "\n",
    "X_test = df_test_inning_1[cols]\n",
    "y_test = df_test_inning_1[['Runs']]"
   ]
  },
  {
   "cell_type": "markdown",
   "metadata": {},
   "source": [
    "### Random Forest Regressor"
   ]
  },
  {
   "cell_type": "code",
   "execution_count": 22,
   "metadata": {},
   "outputs": [
    {
     "data": {
      "text/plain": [
       "GridSearchCV(cv=5, error_score='raise-deprecating',\n",
       "             estimator=RandomForestRegressor(bootstrap=True, criterion='mse',\n",
       "                                             max_depth=None,\n",
       "                                             max_features='auto',\n",
       "                                             max_leaf_nodes=None,\n",
       "                                             min_impurity_decrease=0.0,\n",
       "                                             min_impurity_split=None,\n",
       "                                             min_samples_leaf=1,\n",
       "                                             min_samples_split=2,\n",
       "                                             min_weight_fraction_leaf=0.0,\n",
       "                                             n_estimators='warn', n_jobs=None,\n",
       "                                             oob_score=False, random_state=0,\n",
       "                                             verbose=0, warm_start=False),\n",
       "             iid=False, n_jobs=-1,\n",
       "             param_grid={'max_depth': [2, 3, 4, 5, 6],\n",
       "                         'max_features': [3, 4, 5, 6, 7, 8, 9, 10],\n",
       "                         'n_estimators': [500, 550, 600, 650, 700, 750]},\n",
       "             pre_dispatch='2*n_jobs', refit=True, return_train_score=False,\n",
       "             scoring=None, verbose=0)"
      ]
     },
     "execution_count": 22,
     "metadata": {},
     "output_type": "execute_result"
    }
   ],
   "source": [
    "# Finding best hyper parameters using grid search cross validation\n",
    "param_dict = {'max_depth':[2,3,4,5,6], 'max_features':[3,4,5,6,7,8,9,10], 'n_estimators':[500,550,600,650,700,750]}\n",
    "#param_dict = {'max_depth':[2,3,4,5,6], 'max_features':[3,4,5,6,7,8,9,10], 'n_estimators':np.linspace(100,750,num = 20, dtype = int)}\n",
    "randomRegressionModel = RandomForestRegressor(random_state=0)\n",
    "randomRegressionModel_cv = GridSearchCV(estimator=randomRegressionModel, param_grid=param_dict, cv= 5, iid=False, n_jobs = -1)\n",
    "randomRegressionModel_cv.fit(X_train, y_train.values.ravel())"
   ]
  },
  {
   "cell_type": "code",
   "execution_count": 23,
   "metadata": {},
   "outputs": [
    {
     "name": "stdout",
     "output_type": "stream",
     "text": [
      "Train random regression model RMSE: 17.801406265857686\n"
     ]
    }
   ],
   "source": [
    "predictedRunsTrain = randomRegressionModel_cv.predict(X_train)\n",
    "print('Train random regression model RMSE:', np.sqrt(mean_squared_error(y_train, predictedRunsTrain)))"
   ]
  },
  {
   "cell_type": "code",
   "execution_count": 24,
   "metadata": {},
   "outputs": [
    {
     "name": "stdout",
     "output_type": "stream",
     "text": [
      "Test random regression Linear model RMSE: 22.043061471205007\n"
     ]
    }
   ],
   "source": [
    "predictedRunsTest = randomRegressionModel_cv.predict(X_test)\n",
    "print('Test random regression Linear model RMSE:', np.sqrt(mean_squared_error(y_test, predictedRunsTest)))"
   ]
  },
  {
   "cell_type": "code",
   "execution_count": 25,
   "metadata": {},
   "outputs": [
    {
     "data": {
      "text/plain": [
       "RandomForestRegressor(bootstrap=True, criterion='mse', max_depth=6,\n",
       "                      max_features=3, max_leaf_nodes=None,\n",
       "                      min_impurity_decrease=0.0, min_impurity_split=None,\n",
       "                      min_samples_leaf=1, min_samples_split=2,\n",
       "                      min_weight_fraction_leaf=0.0, n_estimators=750,\n",
       "                      n_jobs=None, oob_score=False, random_state=0, verbose=0,\n",
       "                      warm_start=False)"
      ]
     },
     "execution_count": 25,
     "metadata": {},
     "output_type": "execute_result"
    }
   ],
   "source": [
    "randomRegressionModel_cv.best_estimator_"
   ]
  },
  {
   "cell_type": "markdown",
   "metadata": {},
   "source": [
    "#### Best model parameters: max_features = 3, max_depth = 6, n_estimators = 750"
   ]
  },
  {
   "cell_type": "code",
   "execution_count": 26,
   "metadata": {},
   "outputs": [
    {
     "name": "stdout",
     "output_type": "stream",
     "text": [
      "Train random regression model RMSE: 17.801406265857686\n",
      "Test random regression Linear model RMSE: 22.043061471205007\n"
     ]
    }
   ],
   "source": [
    "randomRegressionModel_final = RandomForestRegressor(random_state=0, max_features = 3, max_depth = 4, n_estimators = 600)\n",
    "randomRegressionModel_final.fit(X_train, y_train.values.ravel())\n",
    "\n",
    "predictedRunsTrain = randomRegressionModel_cv.predict(X_train)\n",
    "print('Train random regression model RMSE:', np.sqrt(mean_squared_error(y_train, predictedRunsTrain)))\n",
    "\n",
    "predictedRunsTest = randomRegressionModel_cv.predict(X_test)\n",
    "print('Test random regression Linear model RMSE:', np.sqrt(mean_squared_error(y_test, predictedRunsTest)))"
   ]
  },
  {
   "cell_type": "markdown",
   "metadata": {},
   "source": [
    "### Accuracy of winner prediction"
   ]
  },
  {
   "cell_type": "code",
   "execution_count": 27,
   "metadata": {},
   "outputs": [],
   "source": [
    "matches = pd.read_csv('matches.csv')\n",
    "matchId_winnerInning_dict = {}\n",
    "for index, row in matches.iterrows():\n",
    "    if row['winner'] == row['team1']:\n",
    "        matchId_winnerInning_dict[row['id']] = 1\n",
    "    if row['winner'] == row['team2']:\n",
    "        matchId_winnerInning_dict[row['id']] = 2"
   ]
  },
  {
   "cell_type": "code",
   "execution_count": 30,
   "metadata": {},
   "outputs": [
    {
     "name": "stdout",
     "output_type": "stream",
     "text": [
      "74.07407407407408\n"
     ]
    },
    {
     "name": "stderr",
     "output_type": "stream",
     "text": [
      "C:\\Users\\Mohinish\\Anaconda3\\lib\\site-packages\\ipykernel_launcher.py:6: SettingWithCopyWarning: \n",
      "A value is trying to be set on a copy of a slice from a DataFrame.\n",
      "Try using .loc[row_indexer,col_indexer] = value instead\n",
      "\n",
      "See the caveats in the documentation: http://pandas.pydata.org/pandas-docs/stable/indexing.html#indexing-view-versus-copy\n",
      "  \n"
     ]
    }
   ],
   "source": [
    "inning1_out = predictedRunsTest\n",
    "inning2_out = randomRegressionModel_cv.predict(inning_2_input)\n",
    "\n",
    "winner_df = df_inning_2[['Match_ID']]\n",
    "winner = [ 1 if inning1_out[i] > inning2_out[i] else 2 for i in range(len(inning1_out))]\n",
    "winner_df['Winner'] = winner\n",
    "correct_count = 0\n",
    "for match_id, winner  in winner_df[['Match_ID', 'Winner']].itertuples(index=False):\n",
    "    if winner == matchId_winnerInning_dict[match_id]:\n",
    "        correct_count += 1\n",
    "winPredictionAccuracy = float((correct_count*100)/len(winner_df))\n",
    "\n",
    "print(winPredictionAccuracy)"
   ]
  },
  {
   "cell_type": "markdown",
   "metadata": {},
   "source": [
    "### Print Scores prediction"
   ]
  },
  {
   "cell_type": "code",
   "execution_count": null,
   "metadata": {},
   "outputs": [],
   "source": [
    "for id, runs in df_train[['Match_ID', 'Runs']].itertuples(index=False):\n",
    "    print(runs)"
   ]
  },
  {
   "cell_type": "code",
   "execution_count": null,
   "metadata": {},
   "outputs": [],
   "source": [
    "for runs in predictedRunsTrain:\n",
    "    print(runs)"
   ]
  }
 ],
 "metadata": {
  "kernelspec": {
   "display_name": "Python 3",
   "language": "python",
   "name": "python3"
  },
  "language_info": {
   "codemirror_mode": {
    "name": "ipython",
    "version": 3
   },
   "file_extension": ".py",
   "mimetype": "text/x-python",
   "name": "python",
   "nbconvert_exporter": "python",
   "pygments_lexer": "ipython3",
   "version": "3.7.3"
  }
 },
 "nbformat": 4,
 "nbformat_minor": 2
}
