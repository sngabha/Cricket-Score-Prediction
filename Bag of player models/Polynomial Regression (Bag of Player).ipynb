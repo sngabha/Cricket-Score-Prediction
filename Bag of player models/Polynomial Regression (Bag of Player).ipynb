{
 "cells": [
  {
   "cell_type": "code",
   "execution_count": 1,
   "metadata": {},
   "outputs": [],
   "source": [
    "import pandas as pd\n",
    "import numpy as np\n",
    "from sklearn.metrics import accuracy_score\n",
    "import os.path\n",
    "from tqdm import tqdm\n",
    "import random\n",
    "from sklearn.model_selection import train_test_split\n",
    "import matplotlib.pyplot as plt\n",
    "%matplotlib inline\n",
    "import seaborn as sns\n",
    "from sklearn.model_selection import GridSearchCV\n",
    "from sklearn.linear_model import Ridge\n",
    "from sklearn.linear_model import Lasso\n",
    "from sklearn.linear_model import ElasticNetCV\n",
    "from collections import OrderedDict\n",
    "\n",
    "np.random.seed(500)"
   ]
  },
  {
   "cell_type": "markdown",
   "metadata": {},
   "source": [
    "### Data Input and Visualization"
   ]
  },
  {
   "cell_type": "markdown",
   "metadata": {},
   "source": [
    "Reading the input file"
   ]
  },
  {
   "cell_type": "code",
   "execution_count": 2,
   "metadata": {},
   "outputs": [
    {
     "name": "stdout",
     "output_type": "stream",
     "text": [
      "Deliveries Data Size: (150139, 21)\n",
      "Matches Data Size: (633, 18)\n"
     ]
    }
   ],
   "source": [
    "deliveries_unprocessed = pd.read_csv(os.path.abspath('') + \"\\\\..\\\\deliveries.csv\")\n",
    "matches_unprocesed = pd.read_csv(os.path.abspath('') + \"\\\\..\\\\matches.csv\")\n",
    "print('Deliveries Data Size:', deliveries_unprocessed.shape)\n",
    "print('Matches Data Size:', matches_unprocesed.shape)"
   ]
  },
  {
   "cell_type": "markdown",
   "metadata": {},
   "source": [
    "Below code creates a dictionary of matchId and the date it was played and add date information in deliveries table"
   ]
  },
  {
   "cell_type": "code",
   "execution_count": 187,
   "metadata": {},
   "outputs": [],
   "source": [
    "matchId_date_dict = {}\n",
    "for index, row in matches_unprocesed.iterrows():\n",
    "    matchId_date_dict[row['id']] = row['date']\n",
    "    \n",
    "date_column = []\n",
    "for index, row in deliveries_unprocessed.iterrows():\n",
    "    date_column.append(matches_unprocesed.iloc[row['match_id'] - 1]['date'])\n",
    "deliveries_unprocessed['date'] = date_column"
   ]
  },
  {
   "cell_type": "markdown",
   "metadata": {},
   "source": [
    "Removing matches with no results and result with duckworth lewis method"
   ]
  },
  {
   "cell_type": "code",
   "execution_count": 188,
   "metadata": {},
   "outputs": [],
   "source": [
    "matchId_dl_and_noResult = []\n",
    "for index, row in matches_unprocesed.iterrows():\n",
    "    if row['result'] == 'no result':\n",
    "        matchId_dl_and_noResult.append(row['id'])\n",
    "    if row['dl_applied'] == 1:\n",
    "        matchId_dl_and_noResult.append(row['id'])"
   ]
  },
  {
   "cell_type": "code",
   "execution_count": 189,
   "metadata": {},
   "outputs": [],
   "source": [
    "drop_index_in_matches = []\n",
    "for index, row in matches_unprocesed.iterrows():\n",
    "    if row['id'] in matchId_dl_and_noResult:\n",
    "        drop_index_in_matches.append(index)\n",
    "        \n",
    "drop_index_in_deliveries = []\n",
    "for index, row in deliveries_unprocessed.iterrows():\n",
    "    if row['match_id'] in matchId_dl_and_noResult:\n",
    "        drop_index_in_deliveries.append(index)"
   ]
  },
  {
   "cell_type": "code",
   "execution_count": 190,
   "metadata": {},
   "outputs": [],
   "source": [
    "matches = matches_unprocesed.drop(drop_index_in_matches)\n",
    "deliveries = deliveries_unprocessed.drop(drop_index_in_deliveries)"
   ]
  },
  {
   "cell_type": "markdown",
   "metadata": {},
   "source": [
    "Sorting the data with respect to date"
   ]
  },
  {
   "cell_type": "code",
   "execution_count": 191,
   "metadata": {},
   "outputs": [
    {
     "data": {
      "text/html": [
       "<div>\n",
       "<style scoped>\n",
       "    .dataframe tbody tr th:only-of-type {\n",
       "        vertical-align: middle;\n",
       "    }\n",
       "\n",
       "    .dataframe tbody tr th {\n",
       "        vertical-align: top;\n",
       "    }\n",
       "\n",
       "    .dataframe thead th {\n",
       "        text-align: right;\n",
       "    }\n",
       "</style>\n",
       "<table border=\"1\" class=\"dataframe\">\n",
       "  <thead>\n",
       "    <tr style=\"text-align: right;\">\n",
       "      <th></th>\n",
       "      <th>match_id</th>\n",
       "      <th>inning</th>\n",
       "      <th>batting_team</th>\n",
       "      <th>bowling_team</th>\n",
       "      <th>over</th>\n",
       "      <th>ball</th>\n",
       "      <th>batsman</th>\n",
       "      <th>non_striker</th>\n",
       "      <th>bowler</th>\n",
       "      <th>is_super_over</th>\n",
       "      <th>...</th>\n",
       "      <th>legbye_runs</th>\n",
       "      <th>noball_runs</th>\n",
       "      <th>penalty_runs</th>\n",
       "      <th>batsman_runs</th>\n",
       "      <th>extra_runs</th>\n",
       "      <th>total_runs</th>\n",
       "      <th>player_dismissed</th>\n",
       "      <th>dismissal_kind</th>\n",
       "      <th>fielder</th>\n",
       "      <th>date</th>\n",
       "    </tr>\n",
       "  </thead>\n",
       "  <tbody>\n",
       "    <tr>\n",
       "      <th>13862</th>\n",
       "      <td>60</td>\n",
       "      <td>1</td>\n",
       "      <td>Kolkata Knight Riders</td>\n",
       "      <td>Royal Challengers Bangalore</td>\n",
       "      <td>1</td>\n",
       "      <td>1</td>\n",
       "      <td>SC Ganguly</td>\n",
       "      <td>BB McCullum</td>\n",
       "      <td>P Kumar</td>\n",
       "      <td>0</td>\n",
       "      <td>...</td>\n",
       "      <td>1</td>\n",
       "      <td>0</td>\n",
       "      <td>0</td>\n",
       "      <td>0</td>\n",
       "      <td>1</td>\n",
       "      <td>1</td>\n",
       "      <td>NaN</td>\n",
       "      <td>NaN</td>\n",
       "      <td>NaN</td>\n",
       "      <td>2008-04-18</td>\n",
       "    </tr>\n",
       "    <tr>\n",
       "      <th>13863</th>\n",
       "      <td>60</td>\n",
       "      <td>1</td>\n",
       "      <td>Kolkata Knight Riders</td>\n",
       "      <td>Royal Challengers Bangalore</td>\n",
       "      <td>1</td>\n",
       "      <td>2</td>\n",
       "      <td>BB McCullum</td>\n",
       "      <td>SC Ganguly</td>\n",
       "      <td>P Kumar</td>\n",
       "      <td>0</td>\n",
       "      <td>...</td>\n",
       "      <td>0</td>\n",
       "      <td>0</td>\n",
       "      <td>0</td>\n",
       "      <td>0</td>\n",
       "      <td>0</td>\n",
       "      <td>0</td>\n",
       "      <td>NaN</td>\n",
       "      <td>NaN</td>\n",
       "      <td>NaN</td>\n",
       "      <td>2008-04-18</td>\n",
       "    </tr>\n",
       "    <tr>\n",
       "      <th>13864</th>\n",
       "      <td>60</td>\n",
       "      <td>1</td>\n",
       "      <td>Kolkata Knight Riders</td>\n",
       "      <td>Royal Challengers Bangalore</td>\n",
       "      <td>1</td>\n",
       "      <td>3</td>\n",
       "      <td>BB McCullum</td>\n",
       "      <td>SC Ganguly</td>\n",
       "      <td>P Kumar</td>\n",
       "      <td>0</td>\n",
       "      <td>...</td>\n",
       "      <td>0</td>\n",
       "      <td>0</td>\n",
       "      <td>0</td>\n",
       "      <td>0</td>\n",
       "      <td>1</td>\n",
       "      <td>1</td>\n",
       "      <td>NaN</td>\n",
       "      <td>NaN</td>\n",
       "      <td>NaN</td>\n",
       "      <td>2008-04-18</td>\n",
       "    </tr>\n",
       "    <tr>\n",
       "      <th>13865</th>\n",
       "      <td>60</td>\n",
       "      <td>1</td>\n",
       "      <td>Kolkata Knight Riders</td>\n",
       "      <td>Royal Challengers Bangalore</td>\n",
       "      <td>1</td>\n",
       "      <td>4</td>\n",
       "      <td>BB McCullum</td>\n",
       "      <td>SC Ganguly</td>\n",
       "      <td>P Kumar</td>\n",
       "      <td>0</td>\n",
       "      <td>...</td>\n",
       "      <td>0</td>\n",
       "      <td>0</td>\n",
       "      <td>0</td>\n",
       "      <td>0</td>\n",
       "      <td>0</td>\n",
       "      <td>0</td>\n",
       "      <td>NaN</td>\n",
       "      <td>NaN</td>\n",
       "      <td>NaN</td>\n",
       "      <td>2008-04-18</td>\n",
       "    </tr>\n",
       "    <tr>\n",
       "      <th>13866</th>\n",
       "      <td>60</td>\n",
       "      <td>1</td>\n",
       "      <td>Kolkata Knight Riders</td>\n",
       "      <td>Royal Challengers Bangalore</td>\n",
       "      <td>1</td>\n",
       "      <td>5</td>\n",
       "      <td>BB McCullum</td>\n",
       "      <td>SC Ganguly</td>\n",
       "      <td>P Kumar</td>\n",
       "      <td>0</td>\n",
       "      <td>...</td>\n",
       "      <td>0</td>\n",
       "      <td>0</td>\n",
       "      <td>0</td>\n",
       "      <td>0</td>\n",
       "      <td>0</td>\n",
       "      <td>0</td>\n",
       "      <td>NaN</td>\n",
       "      <td>NaN</td>\n",
       "      <td>NaN</td>\n",
       "      <td>2008-04-18</td>\n",
       "    </tr>\n",
       "  </tbody>\n",
       "</table>\n",
       "<p>5 rows × 22 columns</p>\n",
       "</div>"
      ],
      "text/plain": [
       "       match_id  inning           batting_team                 bowling_team  \\\n",
       "13862        60       1  Kolkata Knight Riders  Royal Challengers Bangalore   \n",
       "13863        60       1  Kolkata Knight Riders  Royal Challengers Bangalore   \n",
       "13864        60       1  Kolkata Knight Riders  Royal Challengers Bangalore   \n",
       "13865        60       1  Kolkata Knight Riders  Royal Challengers Bangalore   \n",
       "13866        60       1  Kolkata Knight Riders  Royal Challengers Bangalore   \n",
       "\n",
       "       over  ball      batsman  non_striker   bowler  is_super_over  ...  \\\n",
       "13862     1     1   SC Ganguly  BB McCullum  P Kumar              0  ...   \n",
       "13863     1     2  BB McCullum   SC Ganguly  P Kumar              0  ...   \n",
       "13864     1     3  BB McCullum   SC Ganguly  P Kumar              0  ...   \n",
       "13865     1     4  BB McCullum   SC Ganguly  P Kumar              0  ...   \n",
       "13866     1     5  BB McCullum   SC Ganguly  P Kumar              0  ...   \n",
       "\n",
       "       legbye_runs  noball_runs  penalty_runs  batsman_runs  extra_runs  \\\n",
       "13862            1            0             0             0           1   \n",
       "13863            0            0             0             0           0   \n",
       "13864            0            0             0             0           1   \n",
       "13865            0            0             0             0           0   \n",
       "13866            0            0             0             0           0   \n",
       "\n",
       "       total_runs  player_dismissed  dismissal_kind fielder        date  \n",
       "13862           1               NaN             NaN     NaN  2008-04-18  \n",
       "13863           0               NaN             NaN     NaN  2008-04-18  \n",
       "13864           1               NaN             NaN     NaN  2008-04-18  \n",
       "13865           0               NaN             NaN     NaN  2008-04-18  \n",
       "13866           0               NaN             NaN     NaN  2008-04-18  \n",
       "\n",
       "[5 rows x 22 columns]"
      ]
     },
     "execution_count": 191,
     "metadata": {},
     "output_type": "execute_result"
    }
   ],
   "source": [
    "deliveries = deliveries.sort_values(by=['date', 'match_id', 'inning', 'over', 'ball'])\n",
    "deliveries.head()"
   ]
  },
  {
   "cell_type": "code",
   "execution_count": 192,
   "metadata": {},
   "outputs": [
    {
     "data": {
      "text/html": [
       "<div>\n",
       "<style scoped>\n",
       "    .dataframe tbody tr th:only-of-type {\n",
       "        vertical-align: middle;\n",
       "    }\n",
       "\n",
       "    .dataframe tbody tr th {\n",
       "        vertical-align: top;\n",
       "    }\n",
       "\n",
       "    .dataframe thead th {\n",
       "        text-align: right;\n",
       "    }\n",
       "</style>\n",
       "<table border=\"1\" class=\"dataframe\">\n",
       "  <thead>\n",
       "    <tr style=\"text-align: right;\">\n",
       "      <th></th>\n",
       "      <th>id</th>\n",
       "      <th>season</th>\n",
       "      <th>city</th>\n",
       "      <th>date</th>\n",
       "      <th>team1</th>\n",
       "      <th>team2</th>\n",
       "      <th>toss_winner</th>\n",
       "      <th>toss_decision</th>\n",
       "      <th>result</th>\n",
       "      <th>dl_applied</th>\n",
       "      <th>winner</th>\n",
       "      <th>win_by_runs</th>\n",
       "      <th>win_by_wickets</th>\n",
       "      <th>player_of_match</th>\n",
       "      <th>venue</th>\n",
       "      <th>umpire1</th>\n",
       "      <th>umpire2</th>\n",
       "      <th>umpire3</th>\n",
       "    </tr>\n",
       "  </thead>\n",
       "  <tbody>\n",
       "    <tr>\n",
       "      <th>59</th>\n",
       "      <td>60</td>\n",
       "      <td>2008</td>\n",
       "      <td>Bangalore</td>\n",
       "      <td>2008-04-18</td>\n",
       "      <td>Kolkata Knight Riders</td>\n",
       "      <td>Royal Challengers Bangalore</td>\n",
       "      <td>Royal Challengers Bangalore</td>\n",
       "      <td>field</td>\n",
       "      <td>normal</td>\n",
       "      <td>0</td>\n",
       "      <td>Kolkata Knight Riders</td>\n",
       "      <td>140</td>\n",
       "      <td>0</td>\n",
       "      <td>BB McCullum</td>\n",
       "      <td>M Chinnaswamy Stadium</td>\n",
       "      <td>Asad Rauf</td>\n",
       "      <td>RE Koertzen</td>\n",
       "      <td>NaN</td>\n",
       "    </tr>\n",
       "    <tr>\n",
       "      <th>61</th>\n",
       "      <td>62</td>\n",
       "      <td>2008</td>\n",
       "      <td>Delhi</td>\n",
       "      <td>2008-04-19</td>\n",
       "      <td>Rajasthan Royals</td>\n",
       "      <td>Delhi Daredevils</td>\n",
       "      <td>Rajasthan Royals</td>\n",
       "      <td>bat</td>\n",
       "      <td>normal</td>\n",
       "      <td>0</td>\n",
       "      <td>Delhi Daredevils</td>\n",
       "      <td>0</td>\n",
       "      <td>9</td>\n",
       "      <td>MF Maharoof</td>\n",
       "      <td>Feroz Shah Kotla</td>\n",
       "      <td>Aleem Dar</td>\n",
       "      <td>GA Pratapkumar</td>\n",
       "      <td>NaN</td>\n",
       "    </tr>\n",
       "    <tr>\n",
       "      <th>60</th>\n",
       "      <td>61</td>\n",
       "      <td>2008</td>\n",
       "      <td>Chandigarh</td>\n",
       "      <td>2008-04-19</td>\n",
       "      <td>Chennai Super Kings</td>\n",
       "      <td>Kings XI Punjab</td>\n",
       "      <td>Chennai Super Kings</td>\n",
       "      <td>bat</td>\n",
       "      <td>normal</td>\n",
       "      <td>0</td>\n",
       "      <td>Chennai Super Kings</td>\n",
       "      <td>33</td>\n",
       "      <td>0</td>\n",
       "      <td>MEK Hussey</td>\n",
       "      <td>Punjab Cricket Association Stadium, Mohali</td>\n",
       "      <td>MR Benson</td>\n",
       "      <td>SL Shastri</td>\n",
       "      <td>NaN</td>\n",
       "    </tr>\n",
       "    <tr>\n",
       "      <th>63</th>\n",
       "      <td>64</td>\n",
       "      <td>2008</td>\n",
       "      <td>Kolkata</td>\n",
       "      <td>2008-04-20</td>\n",
       "      <td>Deccan Chargers</td>\n",
       "      <td>Kolkata Knight Riders</td>\n",
       "      <td>Deccan Chargers</td>\n",
       "      <td>bat</td>\n",
       "      <td>normal</td>\n",
       "      <td>0</td>\n",
       "      <td>Kolkata Knight Riders</td>\n",
       "      <td>0</td>\n",
       "      <td>5</td>\n",
       "      <td>DJ Hussey</td>\n",
       "      <td>Eden Gardens</td>\n",
       "      <td>BF Bowden</td>\n",
       "      <td>K Hariharan</td>\n",
       "      <td>NaN</td>\n",
       "    </tr>\n",
       "    <tr>\n",
       "      <th>62</th>\n",
       "      <td>63</td>\n",
       "      <td>2008</td>\n",
       "      <td>Mumbai</td>\n",
       "      <td>2008-04-20</td>\n",
       "      <td>Mumbai Indians</td>\n",
       "      <td>Royal Challengers Bangalore</td>\n",
       "      <td>Mumbai Indians</td>\n",
       "      <td>bat</td>\n",
       "      <td>normal</td>\n",
       "      <td>0</td>\n",
       "      <td>Royal Challengers Bangalore</td>\n",
       "      <td>0</td>\n",
       "      <td>5</td>\n",
       "      <td>MV Boucher</td>\n",
       "      <td>Wankhede Stadium</td>\n",
       "      <td>SJ Davis</td>\n",
       "      <td>DJ Harper</td>\n",
       "      <td>NaN</td>\n",
       "    </tr>\n",
       "  </tbody>\n",
       "</table>\n",
       "</div>"
      ],
      "text/plain": [
       "    id  season        city        date                  team1  \\\n",
       "59  60    2008   Bangalore  2008-04-18  Kolkata Knight Riders   \n",
       "61  62    2008       Delhi  2008-04-19       Rajasthan Royals   \n",
       "60  61    2008  Chandigarh  2008-04-19    Chennai Super Kings   \n",
       "63  64    2008     Kolkata  2008-04-20        Deccan Chargers   \n",
       "62  63    2008      Mumbai  2008-04-20         Mumbai Indians   \n",
       "\n",
       "                          team2                  toss_winner toss_decision  \\\n",
       "59  Royal Challengers Bangalore  Royal Challengers Bangalore         field   \n",
       "61             Delhi Daredevils             Rajasthan Royals           bat   \n",
       "60              Kings XI Punjab          Chennai Super Kings           bat   \n",
       "63        Kolkata Knight Riders              Deccan Chargers           bat   \n",
       "62  Royal Challengers Bangalore               Mumbai Indians           bat   \n",
       "\n",
       "    result  dl_applied                       winner  win_by_runs  \\\n",
       "59  normal           0        Kolkata Knight Riders          140   \n",
       "61  normal           0             Delhi Daredevils            0   \n",
       "60  normal           0          Chennai Super Kings           33   \n",
       "63  normal           0        Kolkata Knight Riders            0   \n",
       "62  normal           0  Royal Challengers Bangalore            0   \n",
       "\n",
       "    win_by_wickets player_of_match  \\\n",
       "59               0     BB McCullum   \n",
       "61               9     MF Maharoof   \n",
       "60               0      MEK Hussey   \n",
       "63               5       DJ Hussey   \n",
       "62               5      MV Boucher   \n",
       "\n",
       "                                         venue    umpire1         umpire2  \\\n",
       "59                       M Chinnaswamy Stadium  Asad Rauf     RE Koertzen   \n",
       "61                            Feroz Shah Kotla  Aleem Dar  GA Pratapkumar   \n",
       "60  Punjab Cricket Association Stadium, Mohali  MR Benson      SL Shastri   \n",
       "63                                Eden Gardens  BF Bowden     K Hariharan   \n",
       "62                            Wankhede Stadium   SJ Davis       DJ Harper   \n",
       "\n",
       "    umpire3  \n",
       "59      NaN  \n",
       "61      NaN  \n",
       "60      NaN  \n",
       "63      NaN  \n",
       "62      NaN  "
      ]
     },
     "execution_count": 192,
     "metadata": {},
     "output_type": "execute_result"
    }
   ],
   "source": [
    "matches = matches.sort_values(by=['date'])\n",
    "matches.head()"
   ]
  },
  {
   "cell_type": "markdown",
   "metadata": {},
   "source": [
    "Extracting the matchId-team-batsmen and matchId-team-oppositionBowler data in dictionary"
   ]
  },
  {
   "cell_type": "code",
   "execution_count": 193,
   "metadata": {},
   "outputs": [],
   "source": [
    "matchId_team_batsmen_dict = OrderedDict()\n",
    "matchId_team_opposition_bowler_dict = {}\n",
    "for index, row in deliveries.iterrows():\n",
    "    batsmen_set = matchId_team_batsmen_dict.get((row['match_id'], row['batting_team']), set())\n",
    "    batsmen_set.add(row['batsman'])\n",
    "    batsmen_set.add(row['non_striker'])\n",
    "    matchId_team_batsmen_dict[(row['match_id'], row['batting_team'])] = batsmen_set\n",
    "    \n",
    "    opposition_bowler_set = matchId_team_opposition_bowler_dict.get((row['match_id'], row['batting_team']), set())\n",
    "    opposition_bowler_set.add(row['bowler'])\n",
    "    matchId_team_opposition_bowler_dict[(row['match_id'], row['batting_team'])] = opposition_bowler_set"
   ]
  },
  {
   "cell_type": "markdown",
   "metadata": {},
   "source": [
    "Created a dictionary that assigned a value to each player"
   ]
  },
  {
   "cell_type": "code",
   "execution_count": 194,
   "metadata": {},
   "outputs": [],
   "source": [
    "batsmen = deliveries['batsman'].unique()\n",
    "bowlers = deliveries['bowler'].unique()\n",
    "all_players = list(set(batsmen) | set(bowlers))\n",
    "player_dict = {}\n",
    "for i in range(len(all_players)):\n",
    "    player_dict[all_players[i]] = i"
   ]
  },
  {
   "cell_type": "markdown",
   "metadata": {},
   "source": [
    "Created a dictionary that stores score for each matchId and team played"
   ]
  },
  {
   "cell_type": "code",
   "execution_count": 195,
   "metadata": {},
   "outputs": [],
   "source": [
    "matchId_team_score = OrderedDict()\n",
    "for index, row in deliveries.iterrows():\n",
    "    score = matchId_team_score.get((row['match_id'], row['batting_team']), 0)\n",
    "    if int(row['is_super_over']) == 0:\n",
    "        score += int(row['total_runs'])\n",
    "    matchId_team_score[(row['match_id'], row['batting_team'])] = score"
   ]
  },
  {
   "cell_type": "markdown",
   "metadata": {},
   "source": [
    "Following code creates 2 dictionaries - one which stores batting average for each batsmen for each day he played and another dictionary that stores the bowling econnomy of each bowler for each day he bowled in IPL"
   ]
  },
  {
   "cell_type": "code",
   "execution_count": 196,
   "metadata": {},
   "outputs": [],
   "source": [
    "batting_average = pd.read_pickle('batsmen_average_data.pkl')\n",
    "bowling_average = pd.read_pickle('bowlers_average_data.pkl')"
   ]
  },
  {
   "cell_type": "code",
   "execution_count": 197,
   "metadata": {},
   "outputs": [
    {
     "data": {
      "text/html": [
       "<div>\n",
       "<style scoped>\n",
       "    .dataframe tbody tr th:only-of-type {\n",
       "        vertical-align: middle;\n",
       "    }\n",
       "\n",
       "    .dataframe tbody tr th {\n",
       "        vertical-align: top;\n",
       "    }\n",
       "\n",
       "    .dataframe thead th {\n",
       "        text-align: right;\n",
       "    }\n",
       "</style>\n",
       "<table border=\"1\" class=\"dataframe\">\n",
       "  <thead>\n",
       "    <tr style=\"text-align: right;\">\n",
       "      <th></th>\n",
       "      <th>Name</th>\n",
       "      <th>Date</th>\n",
       "      <th>Batting Average</th>\n",
       "      <th>Average Balls Faced</th>\n",
       "    </tr>\n",
       "  </thead>\n",
       "  <tbody>\n",
       "    <tr>\n",
       "      <th>0</th>\n",
       "      <td>DA Warner</td>\n",
       "      <td>2017-04-05</td>\n",
       "      <td>33.730000</td>\n",
       "      <td>24.400000</td>\n",
       "    </tr>\n",
       "    <tr>\n",
       "      <th>1</th>\n",
       "      <td>S Dhawan</td>\n",
       "      <td>2017-04-05</td>\n",
       "      <td>27.517857</td>\n",
       "      <td>23.410714</td>\n",
       "    </tr>\n",
       "    <tr>\n",
       "      <th>2</th>\n",
       "      <td>MC Henriques</td>\n",
       "      <td>2017-04-05</td>\n",
       "      <td>17.743590</td>\n",
       "      <td>14.461538</td>\n",
       "    </tr>\n",
       "    <tr>\n",
       "      <th>3</th>\n",
       "      <td>Yuvraj Singh</td>\n",
       "      <td>2017-04-05</td>\n",
       "      <td>22.276190</td>\n",
       "      <td>17.733333</td>\n",
       "    </tr>\n",
       "    <tr>\n",
       "      <th>4</th>\n",
       "      <td>DJ Hooda</td>\n",
       "      <td>2017-04-05</td>\n",
       "      <td>12.291667</td>\n",
       "      <td>9.333333</td>\n",
       "    </tr>\n",
       "  </tbody>\n",
       "</table>\n",
       "</div>"
      ],
      "text/plain": [
       "           Name        Date  Batting Average  Average Balls Faced\n",
       "0     DA Warner  2017-04-05        33.730000            24.400000\n",
       "1      S Dhawan  2017-04-05        27.517857            23.410714\n",
       "2  MC Henriques  2017-04-05        17.743590            14.461538\n",
       "3  Yuvraj Singh  2017-04-05        22.276190            17.733333\n",
       "4      DJ Hooda  2017-04-05        12.291667             9.333333"
      ]
     },
     "execution_count": 197,
     "metadata": {},
     "output_type": "execute_result"
    }
   ],
   "source": [
    "batting_average.head()"
   ]
  },
  {
   "cell_type": "code",
   "execution_count": 198,
   "metadata": {},
   "outputs": [
    {
     "data": {
      "text/html": [
       "<div>\n",
       "<style scoped>\n",
       "    .dataframe tbody tr th:only-of-type {\n",
       "        vertical-align: middle;\n",
       "    }\n",
       "\n",
       "    .dataframe tbody tr th {\n",
       "        vertical-align: top;\n",
       "    }\n",
       "\n",
       "    .dataframe thead th {\n",
       "        text-align: right;\n",
       "    }\n",
       "</style>\n",
       "<table border=\"1\" class=\"dataframe\">\n",
       "  <thead>\n",
       "    <tr style=\"text-align: right;\">\n",
       "      <th></th>\n",
       "      <th>Name</th>\n",
       "      <th>Date</th>\n",
       "      <th>Average no of wickets</th>\n",
       "      <th>Average economy</th>\n",
       "    </tr>\n",
       "  </thead>\n",
       "  <tbody>\n",
       "    <tr>\n",
       "      <th>0</th>\n",
       "      <td>YS Chahal</td>\n",
       "      <td>2017-04-05</td>\n",
       "      <td>1.380952</td>\n",
       "      <td>8.150794</td>\n",
       "    </tr>\n",
       "    <tr>\n",
       "      <th>1</th>\n",
       "      <td>S Aravind</td>\n",
       "      <td>2017-04-05</td>\n",
       "      <td>1.535714</td>\n",
       "      <td>8.309524</td>\n",
       "    </tr>\n",
       "    <tr>\n",
       "      <th>2</th>\n",
       "      <td>SR Watson</td>\n",
       "      <td>2017-04-05</td>\n",
       "      <td>1.104651</td>\n",
       "      <td>7.946705</td>\n",
       "    </tr>\n",
       "    <tr>\n",
       "      <th>3</th>\n",
       "      <td>STR Binny</td>\n",
       "      <td>2017-04-05</td>\n",
       "      <td>0.433962</td>\n",
       "      <td>7.738994</td>\n",
       "    </tr>\n",
       "    <tr>\n",
       "      <th>4</th>\n",
       "      <td>A Nehra</td>\n",
       "      <td>2017-04-05</td>\n",
       "      <td>1.353659</td>\n",
       "      <td>7.846545</td>\n",
       "    </tr>\n",
       "  </tbody>\n",
       "</table>\n",
       "</div>"
      ],
      "text/plain": [
       "        Name        Date  Average no of wickets  Average economy\n",
       "0  YS Chahal  2017-04-05               1.380952         8.150794\n",
       "1  S Aravind  2017-04-05               1.535714         8.309524\n",
       "2  SR Watson  2017-04-05               1.104651         7.946705\n",
       "3  STR Binny  2017-04-05               0.433962         7.738994\n",
       "4    A Nehra  2017-04-05               1.353659         7.846545"
      ]
     },
     "execution_count": 198,
     "metadata": {},
     "output_type": "execute_result"
    }
   ],
   "source": [
    "bowling_average.head()"
   ]
  },
  {
   "cell_type": "code",
   "execution_count": 199,
   "metadata": {},
   "outputs": [],
   "source": [
    "batsmen_date_average_run = {}\n",
    "bowler_date_average_economy = {}\n",
    "for index, row in batting_average.iterrows():\n",
    "    batsmen_date_average_run[(row['Name'], row['Date'])] = row['Batting Average']\n",
    "for index, row in bowling_average.iterrows():\n",
    "    bowler_date_average_economy[(row['Name'], row['Date'])] = row['Average economy']"
   ]
  },
  {
   "cell_type": "markdown",
   "metadata": {},
   "source": [
    "Below code creates an input vector for each match and team played in it"
   ]
  },
  {
   "cell_type": "code",
   "execution_count": 200,
   "metadata": {},
   "outputs": [],
   "source": [
    "matchId_team_player_vector_dict = OrderedDict()\n",
    "for (match_id, team) in matchId_team_batsmen_dict:\n",
    "    player_vector = np.zeros(len(all_players))\n",
    "    for batsman in list(matchId_team_batsmen_dict[(match_id, team)]):\n",
    "        player_vector[player_dict[batsman]] = 1\n",
    "#         player_vector[player_dict[batsman]] = batsmen_date_average_run.get((batsman, matchId_date_dict[match_id]), 10)\n",
    "    for bowler in list(matchId_team_opposition_bowler_dict[(match_id, team)]):\n",
    "        player_vector[player_dict[bowler]] = 1\n",
    "#         player_vector[player_dict[bowler]] = bowler_date_average_economy.get((bowler, matchId_date_dict[match_id]), 8)\n",
    "    matchId_team_player_vector_dict[(match_id, team)] = player_vector"
   ]
  },
  {
   "cell_type": "code",
   "execution_count": 201,
   "metadata": {},
   "outputs": [],
   "source": [
    "X_np = []\n",
    "y_np = []\n",
    "for (match_id, team) in matchId_team_batsmen_dict:\n",
    "    X_np.append(matchId_team_player_vector_dict[(match_id, team)])\n",
    "    y_np.append([match_id, team, matchId_team_score[(match_id, team)]])"
   ]
  },
  {
   "cell_type": "code",
   "execution_count": 202,
   "metadata": {},
   "outputs": [
    {
     "data": {
      "text/html": [
       "<div>\n",
       "<style scoped>\n",
       "    .dataframe tbody tr th:only-of-type {\n",
       "        vertical-align: middle;\n",
       "    }\n",
       "\n",
       "    .dataframe tbody tr th {\n",
       "        vertical-align: top;\n",
       "    }\n",
       "\n",
       "    .dataframe thead th {\n",
       "        text-align: right;\n",
       "    }\n",
       "</style>\n",
       "<table border=\"1\" class=\"dataframe\">\n",
       "  <thead>\n",
       "    <tr style=\"text-align: right;\">\n",
       "      <th></th>\n",
       "      <th>0</th>\n",
       "      <th>1</th>\n",
       "      <th>2</th>\n",
       "      <th>3</th>\n",
       "      <th>4</th>\n",
       "      <th>5</th>\n",
       "      <th>6</th>\n",
       "      <th>7</th>\n",
       "      <th>8</th>\n",
       "      <th>9</th>\n",
       "      <th>...</th>\n",
       "      <th>484</th>\n",
       "      <th>485</th>\n",
       "      <th>486</th>\n",
       "      <th>487</th>\n",
       "      <th>488</th>\n",
       "      <th>489</th>\n",
       "      <th>490</th>\n",
       "      <th>491</th>\n",
       "      <th>492</th>\n",
       "      <th>493</th>\n",
       "    </tr>\n",
       "  </thead>\n",
       "  <tbody>\n",
       "    <tr>\n",
       "      <th>0</th>\n",
       "      <td>0.0</td>\n",
       "      <td>0.0</td>\n",
       "      <td>0.0</td>\n",
       "      <td>0.0</td>\n",
       "      <td>0.0</td>\n",
       "      <td>0.0</td>\n",
       "      <td>0.0</td>\n",
       "      <td>0.0</td>\n",
       "      <td>0.0</td>\n",
       "      <td>0.0</td>\n",
       "      <td>...</td>\n",
       "      <td>0.0</td>\n",
       "      <td>0.0</td>\n",
       "      <td>0.0</td>\n",
       "      <td>0.0</td>\n",
       "      <td>0.0</td>\n",
       "      <td>0.0</td>\n",
       "      <td>0.0</td>\n",
       "      <td>0.0</td>\n",
       "      <td>0.0</td>\n",
       "      <td>0.0</td>\n",
       "    </tr>\n",
       "    <tr>\n",
       "      <th>1</th>\n",
       "      <td>0.0</td>\n",
       "      <td>0.0</td>\n",
       "      <td>0.0</td>\n",
       "      <td>0.0</td>\n",
       "      <td>0.0</td>\n",
       "      <td>0.0</td>\n",
       "      <td>0.0</td>\n",
       "      <td>0.0</td>\n",
       "      <td>0.0</td>\n",
       "      <td>0.0</td>\n",
       "      <td>...</td>\n",
       "      <td>0.0</td>\n",
       "      <td>0.0</td>\n",
       "      <td>0.0</td>\n",
       "      <td>0.0</td>\n",
       "      <td>0.0</td>\n",
       "      <td>1.0</td>\n",
       "      <td>0.0</td>\n",
       "      <td>0.0</td>\n",
       "      <td>0.0</td>\n",
       "      <td>0.0</td>\n",
       "    </tr>\n",
       "    <tr>\n",
       "      <th>2</th>\n",
       "      <td>0.0</td>\n",
       "      <td>1.0</td>\n",
       "      <td>0.0</td>\n",
       "      <td>0.0</td>\n",
       "      <td>0.0</td>\n",
       "      <td>0.0</td>\n",
       "      <td>0.0</td>\n",
       "      <td>0.0</td>\n",
       "      <td>0.0</td>\n",
       "      <td>0.0</td>\n",
       "      <td>...</td>\n",
       "      <td>0.0</td>\n",
       "      <td>0.0</td>\n",
       "      <td>0.0</td>\n",
       "      <td>0.0</td>\n",
       "      <td>0.0</td>\n",
       "      <td>0.0</td>\n",
       "      <td>1.0</td>\n",
       "      <td>0.0</td>\n",
       "      <td>0.0</td>\n",
       "      <td>0.0</td>\n",
       "    </tr>\n",
       "    <tr>\n",
       "      <th>3</th>\n",
       "      <td>0.0</td>\n",
       "      <td>1.0</td>\n",
       "      <td>0.0</td>\n",
       "      <td>0.0</td>\n",
       "      <td>0.0</td>\n",
       "      <td>0.0</td>\n",
       "      <td>0.0</td>\n",
       "      <td>0.0</td>\n",
       "      <td>0.0</td>\n",
       "      <td>0.0</td>\n",
       "      <td>...</td>\n",
       "      <td>0.0</td>\n",
       "      <td>0.0</td>\n",
       "      <td>0.0</td>\n",
       "      <td>0.0</td>\n",
       "      <td>1.0</td>\n",
       "      <td>0.0</td>\n",
       "      <td>1.0</td>\n",
       "      <td>0.0</td>\n",
       "      <td>0.0</td>\n",
       "      <td>0.0</td>\n",
       "    </tr>\n",
       "    <tr>\n",
       "      <th>4</th>\n",
       "      <td>0.0</td>\n",
       "      <td>0.0</td>\n",
       "      <td>0.0</td>\n",
       "      <td>0.0</td>\n",
       "      <td>0.0</td>\n",
       "      <td>0.0</td>\n",
       "      <td>0.0</td>\n",
       "      <td>0.0</td>\n",
       "      <td>0.0</td>\n",
       "      <td>0.0</td>\n",
       "      <td>...</td>\n",
       "      <td>0.0</td>\n",
       "      <td>0.0</td>\n",
       "      <td>0.0</td>\n",
       "      <td>0.0</td>\n",
       "      <td>0.0</td>\n",
       "      <td>0.0</td>\n",
       "      <td>0.0</td>\n",
       "      <td>0.0</td>\n",
       "      <td>0.0</td>\n",
       "      <td>0.0</td>\n",
       "    </tr>\n",
       "  </tbody>\n",
       "</table>\n",
       "<p>5 rows × 494 columns</p>\n",
       "</div>"
      ],
      "text/plain": [
       "   0    1    2    3    4    5    6    7    8    9    ...  484  485  486  487  \\\n",
       "0  0.0  0.0  0.0  0.0  0.0  0.0  0.0  0.0  0.0  0.0  ...  0.0  0.0  0.0  0.0   \n",
       "1  0.0  0.0  0.0  0.0  0.0  0.0  0.0  0.0  0.0  0.0  ...  0.0  0.0  0.0  0.0   \n",
       "2  0.0  1.0  0.0  0.0  0.0  0.0  0.0  0.0  0.0  0.0  ...  0.0  0.0  0.0  0.0   \n",
       "3  0.0  1.0  0.0  0.0  0.0  0.0  0.0  0.0  0.0  0.0  ...  0.0  0.0  0.0  0.0   \n",
       "4  0.0  0.0  0.0  0.0  0.0  0.0  0.0  0.0  0.0  0.0  ...  0.0  0.0  0.0  0.0   \n",
       "\n",
       "   488  489  490  491  492  493  \n",
       "0  0.0  0.0  0.0  0.0  0.0  0.0  \n",
       "1  0.0  1.0  0.0  0.0  0.0  0.0  \n",
       "2  0.0  0.0  1.0  0.0  0.0  0.0  \n",
       "3  1.0  0.0  1.0  0.0  0.0  0.0  \n",
       "4  0.0  0.0  0.0  0.0  0.0  0.0  \n",
       "\n",
       "[5 rows x 494 columns]"
      ]
     },
     "execution_count": 202,
     "metadata": {},
     "output_type": "execute_result"
    }
   ],
   "source": [
    "X = pd.DataFrame(np.array(X_np))\n",
    "X.head()"
   ]
  },
  {
   "cell_type": "code",
   "execution_count": 173,
   "metadata": {
    "scrolled": true
   },
   "outputs": [
    {
     "data": {
      "text/html": [
       "<div>\n",
       "<style scoped>\n",
       "    .dataframe tbody tr th:only-of-type {\n",
       "        vertical-align: middle;\n",
       "    }\n",
       "\n",
       "    .dataframe tbody tr th {\n",
       "        vertical-align: top;\n",
       "    }\n",
       "\n",
       "    .dataframe thead th {\n",
       "        text-align: right;\n",
       "    }\n",
       "</style>\n",
       "<table border=\"1\" class=\"dataframe\">\n",
       "  <thead>\n",
       "    <tr style=\"text-align: right;\">\n",
       "      <th></th>\n",
       "      <th>0</th>\n",
       "      <th>1</th>\n",
       "      <th>2</th>\n",
       "    </tr>\n",
       "  </thead>\n",
       "  <tbody>\n",
       "    <tr>\n",
       "      <th>0</th>\n",
       "      <td>60</td>\n",
       "      <td>Kolkata Knight Riders</td>\n",
       "      <td>222</td>\n",
       "    </tr>\n",
       "    <tr>\n",
       "      <th>1</th>\n",
       "      <td>60</td>\n",
       "      <td>Royal Challengers Bangalore</td>\n",
       "      <td>82</td>\n",
       "    </tr>\n",
       "    <tr>\n",
       "      <th>2</th>\n",
       "      <td>61</td>\n",
       "      <td>Chennai Super Kings</td>\n",
       "      <td>240</td>\n",
       "    </tr>\n",
       "    <tr>\n",
       "      <th>3</th>\n",
       "      <td>61</td>\n",
       "      <td>Kings XI Punjab</td>\n",
       "      <td>207</td>\n",
       "    </tr>\n",
       "    <tr>\n",
       "      <th>4</th>\n",
       "      <td>62</td>\n",
       "      <td>Rajasthan Royals</td>\n",
       "      <td>129</td>\n",
       "    </tr>\n",
       "  </tbody>\n",
       "</table>\n",
       "</div>"
      ],
      "text/plain": [
       "    0                            1    2\n",
       "0  60        Kolkata Knight Riders  222\n",
       "1  60  Royal Challengers Bangalore   82\n",
       "2  61          Chennai Super Kings  240\n",
       "3  61              Kings XI Punjab  207\n",
       "4  62             Rajasthan Royals  129"
      ]
     },
     "execution_count": 173,
     "metadata": {},
     "output_type": "execute_result"
    }
   ],
   "source": [
    "y = pd.DataFrame(np.array(y_np))\n",
    "y.head()"
   ]
  },
  {
   "cell_type": "markdown",
   "metadata": {},
   "source": [
    "Train test split with first 0.8 ratio of data to train and rest to test"
   ]
  },
  {
   "cell_type": "code",
   "execution_count": 174,
   "metadata": {},
   "outputs": [],
   "source": [
    "X_train = X[:int(6*len(X)/10)]\n",
    "y_train = y[:int(6*len(X)/10)]\n",
    "X_test = X[int(6*len(X)/10):]\n",
    "y_test = y[int(6*len(X)/10):]\n",
    "# X_train, X_test, y_train, y_test = train_test_split(X, y, test_size=0.2)"
   ]
  },
  {
   "cell_type": "code",
   "execution_count": 204,
   "metadata": {},
   "outputs": [
    {
     "data": {
      "text/plain": [
       "(740, 494)"
      ]
     },
     "execution_count": 204,
     "metadata": {},
     "output_type": "execute_result"
    }
   ],
   "source": [
    "X_train.shape"
   ]
  },
  {
   "cell_type": "code",
   "execution_count": 205,
   "metadata": {},
   "outputs": [
    {
     "data": {
      "text/plain": [
       "(494, 494)"
      ]
     },
     "execution_count": 205,
     "metadata": {},
     "output_type": "execute_result"
    }
   ],
   "source": [
    "X_test.shape"
   ]
  },
  {
   "cell_type": "code",
   "execution_count": 206,
   "metadata": {},
   "outputs": [],
   "source": [
    "from sklearn.linear_model import LinearRegression\n",
    "from sklearn.metrics import mean_squared_error, r2_score, explained_variance_score\n",
    "from sklearn.preprocessing import PolynomialFeatures"
   ]
  },
  {
   "cell_type": "code",
   "execution_count": 178,
   "metadata": {},
   "outputs": [],
   "source": [
    "poly_features = PolynomialFeatures(degree = 2, interaction_only=True)  \n",
    "X_train_poly = poly_features.fit_transform(X_train)"
   ]
  },
  {
   "cell_type": "code",
   "execution_count": 179,
   "metadata": {
    "scrolled": true
   },
   "outputs": [
    {
     "name": "stdout",
     "output_type": "stream",
     "text": [
      "Fitting 5 folds for each of 20 candidates, totalling 100 fits\n"
     ]
    },
    {
     "name": "stderr",
     "output_type": "stream",
     "text": [
      "[Parallel(n_jobs=-1)]: Using backend LokyBackend with 12 concurrent workers.\n",
      "[Parallel(n_jobs=-1)]: Done   1 tasks      | elapsed:   23.4s\n",
      "[Parallel(n_jobs=-1)]: Done   8 tasks      | elapsed:   23.5s\n",
      "[Parallel(n_jobs=-1)]: Done  17 tasks      | elapsed:   40.1s\n",
      "[Parallel(n_jobs=-1)]: Done  26 tasks      | elapsed:   54.5s\n",
      "[Parallel(n_jobs=-1)]: Done  37 tasks      | elapsed:   58.1s\n",
      "[Parallel(n_jobs=-1)]: Done  48 tasks      | elapsed:  1.1min\n",
      "[Parallel(n_jobs=-1)]: Done  61 tasks      | elapsed:  1.4min\n",
      "[Parallel(n_jobs=-1)]: Done  74 tasks      | elapsed:  1.6min\n",
      "[Parallel(n_jobs=-1)]: Done  88 out of 100 | elapsed:  1.8min remaining:   15.1s\n",
      "[Parallel(n_jobs=-1)]: Done 100 out of 100 | elapsed:  1.9min finished\n"
     ]
    },
    {
     "name": "stdout",
     "output_type": "stream",
     "text": [
      "Fitting 5 folds for each of 20 candidates, totalling 100 fits\n"
     ]
    },
    {
     "name": "stderr",
     "output_type": "stream",
     "text": [
      "[Parallel(n_jobs=-1)]: Using backend LokyBackend with 12 concurrent workers.\n",
      "[Parallel(n_jobs=-1)]: Done   1 tasks      | elapsed:  1.1min\n",
      "[Parallel(n_jobs=-1)]: Done   8 tasks      | elapsed:  1.3min\n",
      "[Parallel(n_jobs=-1)]: Done  17 tasks      | elapsed:  2.4min\n",
      "[Parallel(n_jobs=-1)]: Done  26 tasks      | elapsed:  3.1min\n",
      "[Parallel(n_jobs=-1)]: Done  37 tasks      | elapsed:  4.2min\n",
      "[Parallel(n_jobs=-1)]: Done  48 tasks      | elapsed:  4.8min\n",
      "[Parallel(n_jobs=-1)]: Done  61 tasks      | elapsed:  5.1min\n",
      "[Parallel(n_jobs=-1)]: Done  74 tasks      | elapsed:  5.2min\n",
      "[Parallel(n_jobs=-1)]: Done  88 out of 100 | elapsed:  5.4min remaining:   44.4s\n",
      "[Parallel(n_jobs=-1)]: Done 100 out of 100 | elapsed:  5.5min finished\n"
     ]
    },
    {
     "data": {
      "text/plain": [
       "GridSearchCV(cv=5, error_score='raise-deprecating',\n",
       "             estimator=Lasso(alpha=1.0, copy_X=True, fit_intercept=True,\n",
       "                             max_iter=1000, normalize=False, positive=False,\n",
       "                             precompute=False, random_state=None,\n",
       "                             selection='cyclic', tol=0.0001, warm_start=False),\n",
       "             iid=False, n_jobs=-1,\n",
       "             param_grid={'alpha': array([1.00000000e-05, 3.35981829e-05, 1.12883789e-04, 3.79269019e-04,\n",
       "       1.27427499e-03, 4.28133240e-03, 1.43844989e-02, 4.83293024e-02,\n",
       "       1.62377674e-01, 5.45559478e-01, 1.83298071e+00, 6.15848211e+00,\n",
       "       2.06913808e+01, 6.95192796e+01, 2.33572147e+02, 7.84759970e+02,\n",
       "       2.63665090e+03, 8.85866790e+03, 2.97635144e+04, 1.00000000e+05])},\n",
       "             pre_dispatch='2*n_jobs', refit=True, return_train_score=False,\n",
       "             scoring=None, verbose=10)"
      ]
     },
     "execution_count": 179,
     "metadata": {},
     "output_type": "execute_result"
    }
   ],
   "source": [
    "ridge_lr = Ridge(fit_intercept=True)\n",
    "lasso_lr = Lasso(fit_intercept=True)\n",
    "\n",
    "ridge_lr_grid_cv = GridSearchCV(estimator=ridge_lr, param_grid={'alpha':np.logspace(-5, 5, 20)}, cv= 5, iid=False, n_jobs = -1, verbose = 10)\n",
    "lasso_lr_grid_cv = GridSearchCV(estimator=lasso_lr, param_grid={'alpha':np.logspace(-5, 5, 20)}, cv= 5, iid=False, n_jobs = -1, verbose = 10)\n",
    "\n",
    "ridge_lr_grid_cv.fit(X_train_poly, y_train[2])\n",
    "lasso_lr_grid_cv.fit(X_train_poly, y_train[2])"
   ]
  },
  {
   "cell_type": "code",
   "execution_count": 180,
   "metadata": {},
   "outputs": [],
   "source": [
    "X_test_poly = poly_features.fit_transform(X_test)\n",
    "y_ridge_pred = ridge_lr_grid_cv.predict(X_test_poly)\n",
    "y_lasso_pred = lasso_lr_grid_cv.predict(X_test_poly)"
   ]
  },
  {
   "cell_type": "code",
   "execution_count": 181,
   "metadata": {},
   "outputs": [],
   "source": [
    "total_matches = len(y_ridge_pred)/2\n",
    "ridge_winner_predictions = []\n",
    "lasso_winner_predictions = []\n",
    "correct_winner = []\n",
    "\n",
    "for i in range(0, len(y_ridge_pred), 2):\n",
    "    if y_ridge_pred[i] > y_ridge_pred[i+1]:\n",
    "        ridge_winner_predictions.append(1)\n",
    "    else:\n",
    "        ridge_winner_predictions.append(2)\n",
    "\n",
    "for i in range(0, len(y_lasso_pred), 2):\n",
    "    if y_lasso_pred[i] > y_lasso_pred[i+1]:\n",
    "        lasso_winner_predictions.append(1)\n",
    "    else:\n",
    "        lasso_winner_predictions.append(2)\n",
    "        \n",
    "for i in range(0, len(y_test[2]), 2):\n",
    "    if y_test.iloc[i][2] > y_test.iloc[i+1][2]:\n",
    "        correct_winner.append(1)\n",
    "    else:\n",
    "        correct_winner.append(2)"
   ]
  },
  {
   "cell_type": "code",
   "execution_count": 182,
   "metadata": {},
   "outputs": [
    {
     "name": "stdout",
     "output_type": "stream",
     "text": [
      "Ridge Win-Loss Accuracy: 0.5303643724696356\n",
      "Lasso Win-Loss Accuracy: 0.4979757085020243\n"
     ]
    }
   ],
   "source": [
    "ridge_win_loss_accuracy = 0\n",
    "lasso_win_loss_accuracy = 0\n",
    "for i in range(0, len(correct_winner)):\n",
    "    if correct_winner[i] == ridge_winner_predictions[i]:\n",
    "        ridge_win_loss_accuracy += 1\n",
    "    if correct_winner[i] == lasso_winner_predictions[i]:\n",
    "        lasso_win_loss_accuracy += 1\n",
    "        \n",
    "ridge_win_loss_accuracy = ridge_win_loss_accuracy/total_matches\n",
    "lasso_win_loss_accuracy = lasso_win_loss_accuracy/total_matches\n",
    "\n",
    "print('Ridge Win-Loss Accuracy:', ridge_win_loss_accuracy)\n",
    "print('Lasso Win-Loss Accuracy:', lasso_win_loss_accuracy)"
   ]
  },
  {
   "cell_type": "code",
   "execution_count": 183,
   "metadata": {},
   "outputs": [
    {
     "name": "stdout",
     "output_type": "stream",
     "text": [
      "Test Ridge RMSE: 29.599816222749897\n",
      "Test Ridge R2: -0.0054286675030368325\n",
      "Test Ridge Explained Variance: -0.004700565887977959\n",
      "\n",
      "Train Ridge RMSE: 14.52354834535788\n",
      "Train Ridge R2: 0.7567646162046445\n",
      "Train Ridge Explained Variance: 0.7567646162046445\n"
     ]
    }
   ],
   "source": [
    "print('Test Ridge RMSE:', np.sqrt(mean_squared_error(y_test[2], y_ridge_pred)))\n",
    "print('Test Ridge R2:', r2_score(y_test[2], y_ridge_pred))\n",
    "print('Test Ridge Explained Variance:', explained_variance_score(y_test[2], y_ridge_pred))\n",
    "print()\n",
    "print('Train Ridge RMSE:', np.sqrt(mean_squared_error(y_train[2], ridge_lr_grid_cv.predict(X_train_poly))))\n",
    "print('Train Ridge R2:', r2_score(y_train[2], ridge_lr_grid_cv.predict(X_train_poly)))\n",
    "print('Train Ridge Explained Variance:', explained_variance_score(y_train[2], ridge_lr_grid_cv.predict(X_train_poly)))"
   ]
  },
  {
   "cell_type": "code",
   "execution_count": 184,
   "metadata": {},
   "outputs": [
    {
     "name": "stdout",
     "output_type": "stream",
     "text": [
      "Test Lasso RMSE: 30.190002593404422\n",
      "Test Lasso R2: -0.04592257141926104\n",
      "Test Lasso Explained Variance: -0.009955266996837464\n",
      "\n",
      "Train Lasso RMSE: 27.717923766161512\n",
      "Train Lasso R2: 0.11406333591979756\n",
      "Train Lasso Explained Variance: 0.11406333591979756\n"
     ]
    }
   ],
   "source": [
    "print('Test Lasso RMSE:', np.sqrt(mean_squared_error(y_test[2], y_lasso_pred)))\n",
    "print('Test Lasso R2:', r2_score(y_test[2], y_lasso_pred))\n",
    "print('Test Lasso Explained Variance:', explained_variance_score(y_test[2], y_lasso_pred))\n",
    "print()\n",
    "print('Train Lasso RMSE:', np.sqrt(mean_squared_error(y_train[2], lasso_lr_grid_cv.predict(X_train_poly))))\n",
    "print('Train Lasso R2:', r2_score(y_train[2], lasso_lr_grid_cv.predict(X_train_poly)))\n",
    "print('Train Lasso Explained Variance:', explained_variance_score(y_train[2], lasso_lr_grid_cv.predict(X_train_poly)))"
   ]
  },
  {
   "cell_type": "code",
   "execution_count": 198,
   "metadata": {},
   "outputs": [],
   "source": [
    "y_ridge_pred = y_ridge_pred.astype(int)\n",
    "y_total = np.array([y_test, y_ridge_pred], np.int32)\n",
    "df = pd.DataFrame(y_total)\n",
    "filepath = 'score_prediction.xlsx'\n",
    "df.to_excel(filepath, index=False)"
   ]
  },
  {
   "cell_type": "code",
   "execution_count": null,
   "metadata": {},
   "outputs": [],
   "source": []
  }
 ],
 "metadata": {
  "kernelspec": {
   "display_name": "Python 3",
   "language": "python",
   "name": "python3"
  },
  "language_info": {
   "codemirror_mode": {
    "name": "ipython",
    "version": 3
   },
   "file_extension": ".py",
   "mimetype": "text/x-python",
   "name": "python",
   "nbconvert_exporter": "python",
   "pygments_lexer": "ipython3",
   "version": "3.7.3"
  }
 },
 "nbformat": 4,
 "nbformat_minor": 2
}
