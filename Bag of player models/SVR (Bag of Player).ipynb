{
 "cells": [
  {
   "cell_type": "code",
   "execution_count": 1,
   "metadata": {},
   "outputs": [],
   "source": [
    "import pandas as pd\n",
    "import numpy as np\n",
    "from sklearn.metrics import accuracy_score\n",
    "import os.path\n",
    "from tqdm import tqdm\n",
    "import random\n",
    "from sklearn.model_selection import train_test_split\n",
    "import matplotlib.pyplot as plt\n",
    "%matplotlib inline\n",
    "from sklearn.model_selection import GridSearchCV\n",
    "from sklearn.svm import SVR\n",
    "from sklearn.metrics import mean_squared_error, r2_score, explained_variance_score\n",
    "from collections import OrderedDict\n",
    "\n",
    "np.random.seed(500)"
   ]
  },
  {
   "cell_type": "markdown",
   "metadata": {},
   "source": [
    "### Data Input and Visualization"
   ]
  },
  {
   "cell_type": "markdown",
   "metadata": {},
   "source": [
    "Reading the input file"
   ]
  },
  {
   "cell_type": "code",
   "execution_count": 2,
   "metadata": {},
   "outputs": [
    {
     "name": "stdout",
     "output_type": "stream",
     "text": [
      "Deliveries Data Size: (150139, 21)\n",
      "Matches Data Size: (633, 18)\n"
     ]
    }
   ],
   "source": [
    "deliveries_unprocessed = pd.read_csv(os.path.abspath('') + \"\\\\..\\\\deliveries.csv\")\n",
    "matches_unprocesed = pd.read_csv(os.path.abspath('') + \"\\\\..\\\\matches.csv\")\n",
    "print('Deliveries Data Size:', deliveries_unprocessed.shape)\n",
    "print('Matches Data Size:', matches_unprocesed.shape)"
   ]
  },
  {
   "cell_type": "markdown",
   "metadata": {},
   "source": [
    "Below code creates a dictionary of matchId and the date it was played and add date information in deliveries table"
   ]
  },
  {
   "cell_type": "code",
   "execution_count": 24,
   "metadata": {},
   "outputs": [],
   "source": [
    "matchId_date_dict = {}\n",
    "for index, row in matches_unprocesed.iterrows():\n",
    "    matchId_date_dict[row['id']] = row['date']\n",
    "    \n",
    "date_column = []\n",
    "for index, row in deliveries_unprocessed.iterrows():\n",
    "    date_column.append(matches_unprocesed.iloc[row['match_id'] - 1]['date'])\n",
    "deliveries_unprocessed['date'] = date_column"
   ]
  },
  {
   "cell_type": "markdown",
   "metadata": {},
   "source": [
    "Removing matches with no results and result with duckworth lewis method"
   ]
  },
  {
   "cell_type": "code",
   "execution_count": 25,
   "metadata": {},
   "outputs": [],
   "source": [
    "matchId_dl_and_noResult = []\n",
    "for index, row in matches_unprocesed.iterrows():\n",
    "    if row['result'] == 'no result':\n",
    "        matchId_dl_and_noResult.append(row['id'])\n",
    "    if row['dl_applied'] == 1:\n",
    "        matchId_dl_and_noResult.append(row['id'])"
   ]
  },
  {
   "cell_type": "code",
   "execution_count": 26,
   "metadata": {},
   "outputs": [],
   "source": [
    "drop_index_in_matches = []\n",
    "for index, row in matches_unprocesed.iterrows():\n",
    "    if row['id'] in matchId_dl_and_noResult:\n",
    "        drop_index_in_matches.append(index)\n",
    "        \n",
    "drop_index_in_deliveries = []\n",
    "for index, row in deliveries_unprocessed.iterrows():\n",
    "    if row['match_id'] in matchId_dl_and_noResult:\n",
    "        drop_index_in_deliveries.append(index)"
   ]
  },
  {
   "cell_type": "code",
   "execution_count": 27,
   "metadata": {},
   "outputs": [],
   "source": [
    "matches = matches_unprocesed.drop(drop_index_in_matches)\n",
    "deliveries = deliveries_unprocessed.drop(drop_index_in_deliveries)"
   ]
  },
  {
   "cell_type": "markdown",
   "metadata": {},
   "source": [
    "Sorting the data with respect to date"
   ]
  },
  {
   "cell_type": "code",
   "execution_count": 28,
   "metadata": {},
   "outputs": [
    {
     "data": {
      "text/html": [
       "<div>\n",
       "<style scoped>\n",
       "    .dataframe tbody tr th:only-of-type {\n",
       "        vertical-align: middle;\n",
       "    }\n",
       "\n",
       "    .dataframe tbody tr th {\n",
       "        vertical-align: top;\n",
       "    }\n",
       "\n",
       "    .dataframe thead th {\n",
       "        text-align: right;\n",
       "    }\n",
       "</style>\n",
       "<table border=\"1\" class=\"dataframe\">\n",
       "  <thead>\n",
       "    <tr style=\"text-align: right;\">\n",
       "      <th></th>\n",
       "      <th>match_id</th>\n",
       "      <th>inning</th>\n",
       "      <th>batting_team</th>\n",
       "      <th>bowling_team</th>\n",
       "      <th>over</th>\n",
       "      <th>ball</th>\n",
       "      <th>batsman</th>\n",
       "      <th>non_striker</th>\n",
       "      <th>bowler</th>\n",
       "      <th>is_super_over</th>\n",
       "      <th>...</th>\n",
       "      <th>legbye_runs</th>\n",
       "      <th>noball_runs</th>\n",
       "      <th>penalty_runs</th>\n",
       "      <th>batsman_runs</th>\n",
       "      <th>extra_runs</th>\n",
       "      <th>total_runs</th>\n",
       "      <th>player_dismissed</th>\n",
       "      <th>dismissal_kind</th>\n",
       "      <th>fielder</th>\n",
       "      <th>date</th>\n",
       "    </tr>\n",
       "  </thead>\n",
       "  <tbody>\n",
       "    <tr>\n",
       "      <th>13862</th>\n",
       "      <td>60</td>\n",
       "      <td>1</td>\n",
       "      <td>Kolkata Knight Riders</td>\n",
       "      <td>Royal Challengers Bangalore</td>\n",
       "      <td>1</td>\n",
       "      <td>1</td>\n",
       "      <td>SC Ganguly</td>\n",
       "      <td>BB McCullum</td>\n",
       "      <td>P Kumar</td>\n",
       "      <td>0</td>\n",
       "      <td>...</td>\n",
       "      <td>1</td>\n",
       "      <td>0</td>\n",
       "      <td>0</td>\n",
       "      <td>0</td>\n",
       "      <td>1</td>\n",
       "      <td>1</td>\n",
       "      <td>NaN</td>\n",
       "      <td>NaN</td>\n",
       "      <td>NaN</td>\n",
       "      <td>2008-04-18</td>\n",
       "    </tr>\n",
       "    <tr>\n",
       "      <th>13863</th>\n",
       "      <td>60</td>\n",
       "      <td>1</td>\n",
       "      <td>Kolkata Knight Riders</td>\n",
       "      <td>Royal Challengers Bangalore</td>\n",
       "      <td>1</td>\n",
       "      <td>2</td>\n",
       "      <td>BB McCullum</td>\n",
       "      <td>SC Ganguly</td>\n",
       "      <td>P Kumar</td>\n",
       "      <td>0</td>\n",
       "      <td>...</td>\n",
       "      <td>0</td>\n",
       "      <td>0</td>\n",
       "      <td>0</td>\n",
       "      <td>0</td>\n",
       "      <td>0</td>\n",
       "      <td>0</td>\n",
       "      <td>NaN</td>\n",
       "      <td>NaN</td>\n",
       "      <td>NaN</td>\n",
       "      <td>2008-04-18</td>\n",
       "    </tr>\n",
       "    <tr>\n",
       "      <th>13864</th>\n",
       "      <td>60</td>\n",
       "      <td>1</td>\n",
       "      <td>Kolkata Knight Riders</td>\n",
       "      <td>Royal Challengers Bangalore</td>\n",
       "      <td>1</td>\n",
       "      <td>3</td>\n",
       "      <td>BB McCullum</td>\n",
       "      <td>SC Ganguly</td>\n",
       "      <td>P Kumar</td>\n",
       "      <td>0</td>\n",
       "      <td>...</td>\n",
       "      <td>0</td>\n",
       "      <td>0</td>\n",
       "      <td>0</td>\n",
       "      <td>0</td>\n",
       "      <td>1</td>\n",
       "      <td>1</td>\n",
       "      <td>NaN</td>\n",
       "      <td>NaN</td>\n",
       "      <td>NaN</td>\n",
       "      <td>2008-04-18</td>\n",
       "    </tr>\n",
       "    <tr>\n",
       "      <th>13865</th>\n",
       "      <td>60</td>\n",
       "      <td>1</td>\n",
       "      <td>Kolkata Knight Riders</td>\n",
       "      <td>Royal Challengers Bangalore</td>\n",
       "      <td>1</td>\n",
       "      <td>4</td>\n",
       "      <td>BB McCullum</td>\n",
       "      <td>SC Ganguly</td>\n",
       "      <td>P Kumar</td>\n",
       "      <td>0</td>\n",
       "      <td>...</td>\n",
       "      <td>0</td>\n",
       "      <td>0</td>\n",
       "      <td>0</td>\n",
       "      <td>0</td>\n",
       "      <td>0</td>\n",
       "      <td>0</td>\n",
       "      <td>NaN</td>\n",
       "      <td>NaN</td>\n",
       "      <td>NaN</td>\n",
       "      <td>2008-04-18</td>\n",
       "    </tr>\n",
       "    <tr>\n",
       "      <th>13866</th>\n",
       "      <td>60</td>\n",
       "      <td>1</td>\n",
       "      <td>Kolkata Knight Riders</td>\n",
       "      <td>Royal Challengers Bangalore</td>\n",
       "      <td>1</td>\n",
       "      <td>5</td>\n",
       "      <td>BB McCullum</td>\n",
       "      <td>SC Ganguly</td>\n",
       "      <td>P Kumar</td>\n",
       "      <td>0</td>\n",
       "      <td>...</td>\n",
       "      <td>0</td>\n",
       "      <td>0</td>\n",
       "      <td>0</td>\n",
       "      <td>0</td>\n",
       "      <td>0</td>\n",
       "      <td>0</td>\n",
       "      <td>NaN</td>\n",
       "      <td>NaN</td>\n",
       "      <td>NaN</td>\n",
       "      <td>2008-04-18</td>\n",
       "    </tr>\n",
       "  </tbody>\n",
       "</table>\n",
       "<p>5 rows × 22 columns</p>\n",
       "</div>"
      ],
      "text/plain": [
       "       match_id  inning           batting_team                 bowling_team  \\\n",
       "13862        60       1  Kolkata Knight Riders  Royal Challengers Bangalore   \n",
       "13863        60       1  Kolkata Knight Riders  Royal Challengers Bangalore   \n",
       "13864        60       1  Kolkata Knight Riders  Royal Challengers Bangalore   \n",
       "13865        60       1  Kolkata Knight Riders  Royal Challengers Bangalore   \n",
       "13866        60       1  Kolkata Knight Riders  Royal Challengers Bangalore   \n",
       "\n",
       "       over  ball      batsman  non_striker   bowler  is_super_over  ...  \\\n",
       "13862     1     1   SC Ganguly  BB McCullum  P Kumar              0  ...   \n",
       "13863     1     2  BB McCullum   SC Ganguly  P Kumar              0  ...   \n",
       "13864     1     3  BB McCullum   SC Ganguly  P Kumar              0  ...   \n",
       "13865     1     4  BB McCullum   SC Ganguly  P Kumar              0  ...   \n",
       "13866     1     5  BB McCullum   SC Ganguly  P Kumar              0  ...   \n",
       "\n",
       "       legbye_runs  noball_runs  penalty_runs  batsman_runs  extra_runs  \\\n",
       "13862            1            0             0             0           1   \n",
       "13863            0            0             0             0           0   \n",
       "13864            0            0             0             0           1   \n",
       "13865            0            0             0             0           0   \n",
       "13866            0            0             0             0           0   \n",
       "\n",
       "       total_runs  player_dismissed  dismissal_kind fielder        date  \n",
       "13862           1               NaN             NaN     NaN  2008-04-18  \n",
       "13863           0               NaN             NaN     NaN  2008-04-18  \n",
       "13864           1               NaN             NaN     NaN  2008-04-18  \n",
       "13865           0               NaN             NaN     NaN  2008-04-18  \n",
       "13866           0               NaN             NaN     NaN  2008-04-18  \n",
       "\n",
       "[5 rows x 22 columns]"
      ]
     },
     "execution_count": 28,
     "metadata": {},
     "output_type": "execute_result"
    }
   ],
   "source": [
    "deliveries = deliveries.sort_values(by=['date', 'match_id', 'inning', 'over', 'ball'])\n",
    "deliveries.head()"
   ]
  },
  {
   "cell_type": "code",
   "execution_count": 29,
   "metadata": {},
   "outputs": [
    {
     "data": {
      "text/html": [
       "<div>\n",
       "<style scoped>\n",
       "    .dataframe tbody tr th:only-of-type {\n",
       "        vertical-align: middle;\n",
       "    }\n",
       "\n",
       "    .dataframe tbody tr th {\n",
       "        vertical-align: top;\n",
       "    }\n",
       "\n",
       "    .dataframe thead th {\n",
       "        text-align: right;\n",
       "    }\n",
       "</style>\n",
       "<table border=\"1\" class=\"dataframe\">\n",
       "  <thead>\n",
       "    <tr style=\"text-align: right;\">\n",
       "      <th></th>\n",
       "      <th>id</th>\n",
       "      <th>season</th>\n",
       "      <th>city</th>\n",
       "      <th>date</th>\n",
       "      <th>team1</th>\n",
       "      <th>team2</th>\n",
       "      <th>toss_winner</th>\n",
       "      <th>toss_decision</th>\n",
       "      <th>result</th>\n",
       "      <th>dl_applied</th>\n",
       "      <th>winner</th>\n",
       "      <th>win_by_runs</th>\n",
       "      <th>win_by_wickets</th>\n",
       "      <th>player_of_match</th>\n",
       "      <th>venue</th>\n",
       "      <th>umpire1</th>\n",
       "      <th>umpire2</th>\n",
       "      <th>umpire3</th>\n",
       "    </tr>\n",
       "  </thead>\n",
       "  <tbody>\n",
       "    <tr>\n",
       "      <th>59</th>\n",
       "      <td>60</td>\n",
       "      <td>2008</td>\n",
       "      <td>Bangalore</td>\n",
       "      <td>2008-04-18</td>\n",
       "      <td>Kolkata Knight Riders</td>\n",
       "      <td>Royal Challengers Bangalore</td>\n",
       "      <td>Royal Challengers Bangalore</td>\n",
       "      <td>field</td>\n",
       "      <td>normal</td>\n",
       "      <td>0</td>\n",
       "      <td>Kolkata Knight Riders</td>\n",
       "      <td>140</td>\n",
       "      <td>0</td>\n",
       "      <td>BB McCullum</td>\n",
       "      <td>M Chinnaswamy Stadium</td>\n",
       "      <td>Asad Rauf</td>\n",
       "      <td>RE Koertzen</td>\n",
       "      <td>NaN</td>\n",
       "    </tr>\n",
       "    <tr>\n",
       "      <th>61</th>\n",
       "      <td>62</td>\n",
       "      <td>2008</td>\n",
       "      <td>Delhi</td>\n",
       "      <td>2008-04-19</td>\n",
       "      <td>Rajasthan Royals</td>\n",
       "      <td>Delhi Daredevils</td>\n",
       "      <td>Rajasthan Royals</td>\n",
       "      <td>bat</td>\n",
       "      <td>normal</td>\n",
       "      <td>0</td>\n",
       "      <td>Delhi Daredevils</td>\n",
       "      <td>0</td>\n",
       "      <td>9</td>\n",
       "      <td>MF Maharoof</td>\n",
       "      <td>Feroz Shah Kotla</td>\n",
       "      <td>Aleem Dar</td>\n",
       "      <td>GA Pratapkumar</td>\n",
       "      <td>NaN</td>\n",
       "    </tr>\n",
       "    <tr>\n",
       "      <th>60</th>\n",
       "      <td>61</td>\n",
       "      <td>2008</td>\n",
       "      <td>Chandigarh</td>\n",
       "      <td>2008-04-19</td>\n",
       "      <td>Chennai Super Kings</td>\n",
       "      <td>Kings XI Punjab</td>\n",
       "      <td>Chennai Super Kings</td>\n",
       "      <td>bat</td>\n",
       "      <td>normal</td>\n",
       "      <td>0</td>\n",
       "      <td>Chennai Super Kings</td>\n",
       "      <td>33</td>\n",
       "      <td>0</td>\n",
       "      <td>MEK Hussey</td>\n",
       "      <td>Punjab Cricket Association Stadium, Mohali</td>\n",
       "      <td>MR Benson</td>\n",
       "      <td>SL Shastri</td>\n",
       "      <td>NaN</td>\n",
       "    </tr>\n",
       "    <tr>\n",
       "      <th>63</th>\n",
       "      <td>64</td>\n",
       "      <td>2008</td>\n",
       "      <td>Kolkata</td>\n",
       "      <td>2008-04-20</td>\n",
       "      <td>Deccan Chargers</td>\n",
       "      <td>Kolkata Knight Riders</td>\n",
       "      <td>Deccan Chargers</td>\n",
       "      <td>bat</td>\n",
       "      <td>normal</td>\n",
       "      <td>0</td>\n",
       "      <td>Kolkata Knight Riders</td>\n",
       "      <td>0</td>\n",
       "      <td>5</td>\n",
       "      <td>DJ Hussey</td>\n",
       "      <td>Eden Gardens</td>\n",
       "      <td>BF Bowden</td>\n",
       "      <td>K Hariharan</td>\n",
       "      <td>NaN</td>\n",
       "    </tr>\n",
       "    <tr>\n",
       "      <th>62</th>\n",
       "      <td>63</td>\n",
       "      <td>2008</td>\n",
       "      <td>Mumbai</td>\n",
       "      <td>2008-04-20</td>\n",
       "      <td>Mumbai Indians</td>\n",
       "      <td>Royal Challengers Bangalore</td>\n",
       "      <td>Mumbai Indians</td>\n",
       "      <td>bat</td>\n",
       "      <td>normal</td>\n",
       "      <td>0</td>\n",
       "      <td>Royal Challengers Bangalore</td>\n",
       "      <td>0</td>\n",
       "      <td>5</td>\n",
       "      <td>MV Boucher</td>\n",
       "      <td>Wankhede Stadium</td>\n",
       "      <td>SJ Davis</td>\n",
       "      <td>DJ Harper</td>\n",
       "      <td>NaN</td>\n",
       "    </tr>\n",
       "  </tbody>\n",
       "</table>\n",
       "</div>"
      ],
      "text/plain": [
       "    id  season        city        date                  team1  \\\n",
       "59  60    2008   Bangalore  2008-04-18  Kolkata Knight Riders   \n",
       "61  62    2008       Delhi  2008-04-19       Rajasthan Royals   \n",
       "60  61    2008  Chandigarh  2008-04-19    Chennai Super Kings   \n",
       "63  64    2008     Kolkata  2008-04-20        Deccan Chargers   \n",
       "62  63    2008      Mumbai  2008-04-20         Mumbai Indians   \n",
       "\n",
       "                          team2                  toss_winner toss_decision  \\\n",
       "59  Royal Challengers Bangalore  Royal Challengers Bangalore         field   \n",
       "61             Delhi Daredevils             Rajasthan Royals           bat   \n",
       "60              Kings XI Punjab          Chennai Super Kings           bat   \n",
       "63        Kolkata Knight Riders              Deccan Chargers           bat   \n",
       "62  Royal Challengers Bangalore               Mumbai Indians           bat   \n",
       "\n",
       "    result  dl_applied                       winner  win_by_runs  \\\n",
       "59  normal           0        Kolkata Knight Riders          140   \n",
       "61  normal           0             Delhi Daredevils            0   \n",
       "60  normal           0          Chennai Super Kings           33   \n",
       "63  normal           0        Kolkata Knight Riders            0   \n",
       "62  normal           0  Royal Challengers Bangalore            0   \n",
       "\n",
       "    win_by_wickets player_of_match  \\\n",
       "59               0     BB McCullum   \n",
       "61               9     MF Maharoof   \n",
       "60               0      MEK Hussey   \n",
       "63               5       DJ Hussey   \n",
       "62               5      MV Boucher   \n",
       "\n",
       "                                         venue    umpire1         umpire2  \\\n",
       "59                       M Chinnaswamy Stadium  Asad Rauf     RE Koertzen   \n",
       "61                            Feroz Shah Kotla  Aleem Dar  GA Pratapkumar   \n",
       "60  Punjab Cricket Association Stadium, Mohali  MR Benson      SL Shastri   \n",
       "63                                Eden Gardens  BF Bowden     K Hariharan   \n",
       "62                            Wankhede Stadium   SJ Davis       DJ Harper   \n",
       "\n",
       "    umpire3  \n",
       "59      NaN  \n",
       "61      NaN  \n",
       "60      NaN  \n",
       "63      NaN  \n",
       "62      NaN  "
      ]
     },
     "execution_count": 29,
     "metadata": {},
     "output_type": "execute_result"
    }
   ],
   "source": [
    "matches = matches.sort_values(by=['date'])\n",
    "matches.head()"
   ]
  },
  {
   "cell_type": "markdown",
   "metadata": {},
   "source": [
    "Extracting the matchId-team-batsmen and matchId-team-oppositionBowler data in dictionary"
   ]
  },
  {
   "cell_type": "code",
   "execution_count": 30,
   "metadata": {},
   "outputs": [],
   "source": [
    "matchId_team_batsmen_dict = OrderedDict()\n",
    "matchId_team_opposition_bowler_dict = {}\n",
    "for index, row in deliveries.iterrows():\n",
    "    batsmen_set = matchId_team_batsmen_dict.get((row['match_id'], row['batting_team']), set())\n",
    "    batsmen_set.add(row['batsman'])\n",
    "    batsmen_set.add(row['non_striker'])\n",
    "    matchId_team_batsmen_dict[(row['match_id'], row['batting_team'])] = batsmen_set\n",
    "    \n",
    "    opposition_bowler_set = matchId_team_opposition_bowler_dict.get((row['match_id'], row['batting_team']), set())\n",
    "    opposition_bowler_set.add(row['bowler'])\n",
    "    matchId_team_opposition_bowler_dict[(row['match_id'], row['batting_team'])] = opposition_bowler_set"
   ]
  },
  {
   "cell_type": "markdown",
   "metadata": {},
   "source": [
    "Created a dictionary that assigned a value to each player"
   ]
  },
  {
   "cell_type": "code",
   "execution_count": 31,
   "metadata": {},
   "outputs": [],
   "source": [
    "batsmen = deliveries['batsman'].unique()\n",
    "bowlers = deliveries['bowler'].unique()\n",
    "all_players = list(set(batsmen) | set(bowlers))\n",
    "player_dict = {}\n",
    "for i in range(len(all_players)):\n",
    "    player_dict[all_players[i]] = i"
   ]
  },
  {
   "cell_type": "markdown",
   "metadata": {},
   "source": [
    "Created a dictionary that stores score for each matchId and team played"
   ]
  },
  {
   "cell_type": "code",
   "execution_count": 32,
   "metadata": {},
   "outputs": [],
   "source": [
    "matchId_team_score = OrderedDict()\n",
    "for index, row in deliveries.iterrows():\n",
    "    score = matchId_team_score.get((row['match_id'], row['batting_team']), 0)\n",
    "    if int(row['is_super_over']) == 0:\n",
    "        score += int(row['total_runs'])\n",
    "    matchId_team_score[(row['match_id'], row['batting_team'])] = score"
   ]
  },
  {
   "cell_type": "markdown",
   "metadata": {},
   "source": [
    "Following code creates 2 dictionaries - one which stores batting average for each batsmen for each day he played and another dictionary that stores the bowling econnomy of each bowler for each day he bowled in IPL"
   ]
  },
  {
   "cell_type": "code",
   "execution_count": 33,
   "metadata": {},
   "outputs": [],
   "source": [
    "batting_average = pd.read_pickle('batsmen_average_data.pkl')\n",
    "bowling_average = pd.read_pickle('bowlers_average_data.pkl')"
   ]
  },
  {
   "cell_type": "code",
   "execution_count": 34,
   "metadata": {},
   "outputs": [
    {
     "data": {
      "text/html": [
       "<div>\n",
       "<style scoped>\n",
       "    .dataframe tbody tr th:only-of-type {\n",
       "        vertical-align: middle;\n",
       "    }\n",
       "\n",
       "    .dataframe tbody tr th {\n",
       "        vertical-align: top;\n",
       "    }\n",
       "\n",
       "    .dataframe thead th {\n",
       "        text-align: right;\n",
       "    }\n",
       "</style>\n",
       "<table border=\"1\" class=\"dataframe\">\n",
       "  <thead>\n",
       "    <tr style=\"text-align: right;\">\n",
       "      <th></th>\n",
       "      <th>Name</th>\n",
       "      <th>Date</th>\n",
       "      <th>Batting Average</th>\n",
       "      <th>Average Balls Faced</th>\n",
       "    </tr>\n",
       "  </thead>\n",
       "  <tbody>\n",
       "    <tr>\n",
       "      <th>0</th>\n",
       "      <td>DA Warner</td>\n",
       "      <td>2017-04-05</td>\n",
       "      <td>33.730000</td>\n",
       "      <td>24.400000</td>\n",
       "    </tr>\n",
       "    <tr>\n",
       "      <th>1</th>\n",
       "      <td>S Dhawan</td>\n",
       "      <td>2017-04-05</td>\n",
       "      <td>27.517857</td>\n",
       "      <td>23.410714</td>\n",
       "    </tr>\n",
       "    <tr>\n",
       "      <th>2</th>\n",
       "      <td>MC Henriques</td>\n",
       "      <td>2017-04-05</td>\n",
       "      <td>17.743590</td>\n",
       "      <td>14.461538</td>\n",
       "    </tr>\n",
       "    <tr>\n",
       "      <th>3</th>\n",
       "      <td>Yuvraj Singh</td>\n",
       "      <td>2017-04-05</td>\n",
       "      <td>22.276190</td>\n",
       "      <td>17.733333</td>\n",
       "    </tr>\n",
       "    <tr>\n",
       "      <th>4</th>\n",
       "      <td>DJ Hooda</td>\n",
       "      <td>2017-04-05</td>\n",
       "      <td>12.291667</td>\n",
       "      <td>9.333333</td>\n",
       "    </tr>\n",
       "  </tbody>\n",
       "</table>\n",
       "</div>"
      ],
      "text/plain": [
       "           Name        Date  Batting Average  Average Balls Faced\n",
       "0     DA Warner  2017-04-05        33.730000            24.400000\n",
       "1      S Dhawan  2017-04-05        27.517857            23.410714\n",
       "2  MC Henriques  2017-04-05        17.743590            14.461538\n",
       "3  Yuvraj Singh  2017-04-05        22.276190            17.733333\n",
       "4      DJ Hooda  2017-04-05        12.291667             9.333333"
      ]
     },
     "execution_count": 34,
     "metadata": {},
     "output_type": "execute_result"
    }
   ],
   "source": [
    "batting_average.head()"
   ]
  },
  {
   "cell_type": "code",
   "execution_count": 35,
   "metadata": {},
   "outputs": [
    {
     "data": {
      "text/html": [
       "<div>\n",
       "<style scoped>\n",
       "    .dataframe tbody tr th:only-of-type {\n",
       "        vertical-align: middle;\n",
       "    }\n",
       "\n",
       "    .dataframe tbody tr th {\n",
       "        vertical-align: top;\n",
       "    }\n",
       "\n",
       "    .dataframe thead th {\n",
       "        text-align: right;\n",
       "    }\n",
       "</style>\n",
       "<table border=\"1\" class=\"dataframe\">\n",
       "  <thead>\n",
       "    <tr style=\"text-align: right;\">\n",
       "      <th></th>\n",
       "      <th>Name</th>\n",
       "      <th>Date</th>\n",
       "      <th>Average no of wickets</th>\n",
       "      <th>Average economy</th>\n",
       "    </tr>\n",
       "  </thead>\n",
       "  <tbody>\n",
       "    <tr>\n",
       "      <th>0</th>\n",
       "      <td>YS Chahal</td>\n",
       "      <td>2017-04-05</td>\n",
       "      <td>1.380952</td>\n",
       "      <td>8.150794</td>\n",
       "    </tr>\n",
       "    <tr>\n",
       "      <th>1</th>\n",
       "      <td>S Aravind</td>\n",
       "      <td>2017-04-05</td>\n",
       "      <td>1.535714</td>\n",
       "      <td>8.309524</td>\n",
       "    </tr>\n",
       "    <tr>\n",
       "      <th>2</th>\n",
       "      <td>SR Watson</td>\n",
       "      <td>2017-04-05</td>\n",
       "      <td>1.104651</td>\n",
       "      <td>7.946705</td>\n",
       "    </tr>\n",
       "    <tr>\n",
       "      <th>3</th>\n",
       "      <td>STR Binny</td>\n",
       "      <td>2017-04-05</td>\n",
       "      <td>0.433962</td>\n",
       "      <td>7.738994</td>\n",
       "    </tr>\n",
       "    <tr>\n",
       "      <th>4</th>\n",
       "      <td>A Nehra</td>\n",
       "      <td>2017-04-05</td>\n",
       "      <td>1.353659</td>\n",
       "      <td>7.846545</td>\n",
       "    </tr>\n",
       "  </tbody>\n",
       "</table>\n",
       "</div>"
      ],
      "text/plain": [
       "        Name        Date  Average no of wickets  Average economy\n",
       "0  YS Chahal  2017-04-05               1.380952         8.150794\n",
       "1  S Aravind  2017-04-05               1.535714         8.309524\n",
       "2  SR Watson  2017-04-05               1.104651         7.946705\n",
       "3  STR Binny  2017-04-05               0.433962         7.738994\n",
       "4    A Nehra  2017-04-05               1.353659         7.846545"
      ]
     },
     "execution_count": 35,
     "metadata": {},
     "output_type": "execute_result"
    }
   ],
   "source": [
    "bowling_average.head()"
   ]
  },
  {
   "cell_type": "code",
   "execution_count": 36,
   "metadata": {},
   "outputs": [],
   "source": [
    "batsmen_date_average_run = {}\n",
    "bowler_date_average_economy = {}\n",
    "for index, row in batting_average.iterrows():\n",
    "    batsmen_date_average_run[(row['Name'], row['Date'])] = row['Batting Average']\n",
    "for index, row in bowling_average.iterrows():\n",
    "    bowler_date_average_economy[(row['Name'], row['Date'])] = row['Average economy']"
   ]
  },
  {
   "cell_type": "markdown",
   "metadata": {},
   "source": [
    "Below code creates an input vector for each match and team played in it"
   ]
  },
  {
   "cell_type": "code",
   "execution_count": 37,
   "metadata": {},
   "outputs": [],
   "source": [
    "matchId_team_player_vector_dict = OrderedDict()\n",
    "for (match_id, team) in matchId_team_batsmen_dict:\n",
    "    player_vector = np.zeros(len(all_players))\n",
    "    for batsman in list(matchId_team_batsmen_dict[(match_id, team)]):\n",
    "        player_vector[player_dict[batsman]] = 1\n",
    "#         player_vector[player_dict[batsman]] = batsmen_date_average_run.get((batsman, matchId_date_dict[match_id]), 10)\n",
    "    for bowler in list(matchId_team_opposition_bowler_dict[(match_id, team)]):\n",
    "        player_vector[player_dict[bowler]] = 1\n",
    "#         player_vector[player_dict[bowler]] = bowler_date_average_economy.get((bowler, matchId_date_dict[match_id]), 8)\n",
    "    matchId_team_player_vector_dict[(match_id, team)] = player_vector"
   ]
  },
  {
   "cell_type": "code",
   "execution_count": 38,
   "metadata": {},
   "outputs": [],
   "source": [
    "X_np = []\n",
    "y_np = []\n",
    "for (match_id, team) in matchId_team_batsmen_dict:\n",
    "    X_np.append(matchId_team_player_vector_dict[(match_id, team)])\n",
    "    y_np.append([match_id, team, matchId_team_score[(match_id, team)]])"
   ]
  },
  {
   "cell_type": "code",
   "execution_count": 39,
   "metadata": {},
   "outputs": [
    {
     "data": {
      "text/html": [
       "<div>\n",
       "<style scoped>\n",
       "    .dataframe tbody tr th:only-of-type {\n",
       "        vertical-align: middle;\n",
       "    }\n",
       "\n",
       "    .dataframe tbody tr th {\n",
       "        vertical-align: top;\n",
       "    }\n",
       "\n",
       "    .dataframe thead th {\n",
       "        text-align: right;\n",
       "    }\n",
       "</style>\n",
       "<table border=\"1\" class=\"dataframe\">\n",
       "  <thead>\n",
       "    <tr style=\"text-align: right;\">\n",
       "      <th></th>\n",
       "      <th>0</th>\n",
       "      <th>1</th>\n",
       "      <th>2</th>\n",
       "      <th>3</th>\n",
       "      <th>4</th>\n",
       "      <th>5</th>\n",
       "      <th>6</th>\n",
       "      <th>7</th>\n",
       "      <th>8</th>\n",
       "      <th>9</th>\n",
       "      <th>...</th>\n",
       "      <th>484</th>\n",
       "      <th>485</th>\n",
       "      <th>486</th>\n",
       "      <th>487</th>\n",
       "      <th>488</th>\n",
       "      <th>489</th>\n",
       "      <th>490</th>\n",
       "      <th>491</th>\n",
       "      <th>492</th>\n",
       "      <th>493</th>\n",
       "    </tr>\n",
       "  </thead>\n",
       "  <tbody>\n",
       "    <tr>\n",
       "      <th>0</th>\n",
       "      <td>0.0</td>\n",
       "      <td>0.0</td>\n",
       "      <td>0.0</td>\n",
       "      <td>0.0</td>\n",
       "      <td>0.0</td>\n",
       "      <td>0.0</td>\n",
       "      <td>0.0</td>\n",
       "      <td>0.0</td>\n",
       "      <td>0.0</td>\n",
       "      <td>0.0</td>\n",
       "      <td>...</td>\n",
       "      <td>0.0</td>\n",
       "      <td>0.0</td>\n",
       "      <td>0.0</td>\n",
       "      <td>0.0</td>\n",
       "      <td>0.0</td>\n",
       "      <td>0.0</td>\n",
       "      <td>0.0</td>\n",
       "      <td>0.0</td>\n",
       "      <td>0.0</td>\n",
       "      <td>0.0</td>\n",
       "    </tr>\n",
       "    <tr>\n",
       "      <th>1</th>\n",
       "      <td>0.0</td>\n",
       "      <td>0.0</td>\n",
       "      <td>0.0</td>\n",
       "      <td>0.0</td>\n",
       "      <td>0.0</td>\n",
       "      <td>0.0</td>\n",
       "      <td>0.0</td>\n",
       "      <td>0.0</td>\n",
       "      <td>0.0</td>\n",
       "      <td>0.0</td>\n",
       "      <td>...</td>\n",
       "      <td>0.0</td>\n",
       "      <td>0.0</td>\n",
       "      <td>0.0</td>\n",
       "      <td>0.0</td>\n",
       "      <td>0.0</td>\n",
       "      <td>0.0</td>\n",
       "      <td>0.0</td>\n",
       "      <td>0.0</td>\n",
       "      <td>0.0</td>\n",
       "      <td>0.0</td>\n",
       "    </tr>\n",
       "    <tr>\n",
       "      <th>2</th>\n",
       "      <td>0.0</td>\n",
       "      <td>0.0</td>\n",
       "      <td>0.0</td>\n",
       "      <td>0.0</td>\n",
       "      <td>0.0</td>\n",
       "      <td>0.0</td>\n",
       "      <td>0.0</td>\n",
       "      <td>0.0</td>\n",
       "      <td>0.0</td>\n",
       "      <td>0.0</td>\n",
       "      <td>...</td>\n",
       "      <td>0.0</td>\n",
       "      <td>0.0</td>\n",
       "      <td>0.0</td>\n",
       "      <td>0.0</td>\n",
       "      <td>0.0</td>\n",
       "      <td>0.0</td>\n",
       "      <td>0.0</td>\n",
       "      <td>0.0</td>\n",
       "      <td>0.0</td>\n",
       "      <td>0.0</td>\n",
       "    </tr>\n",
       "    <tr>\n",
       "      <th>3</th>\n",
       "      <td>0.0</td>\n",
       "      <td>0.0</td>\n",
       "      <td>0.0</td>\n",
       "      <td>0.0</td>\n",
       "      <td>0.0</td>\n",
       "      <td>0.0</td>\n",
       "      <td>0.0</td>\n",
       "      <td>0.0</td>\n",
       "      <td>0.0</td>\n",
       "      <td>0.0</td>\n",
       "      <td>...</td>\n",
       "      <td>0.0</td>\n",
       "      <td>0.0</td>\n",
       "      <td>0.0</td>\n",
       "      <td>0.0</td>\n",
       "      <td>0.0</td>\n",
       "      <td>0.0</td>\n",
       "      <td>0.0</td>\n",
       "      <td>0.0</td>\n",
       "      <td>0.0</td>\n",
       "      <td>0.0</td>\n",
       "    </tr>\n",
       "    <tr>\n",
       "      <th>4</th>\n",
       "      <td>0.0</td>\n",
       "      <td>0.0</td>\n",
       "      <td>0.0</td>\n",
       "      <td>0.0</td>\n",
       "      <td>0.0</td>\n",
       "      <td>0.0</td>\n",
       "      <td>0.0</td>\n",
       "      <td>1.0</td>\n",
       "      <td>0.0</td>\n",
       "      <td>0.0</td>\n",
       "      <td>...</td>\n",
       "      <td>0.0</td>\n",
       "      <td>0.0</td>\n",
       "      <td>0.0</td>\n",
       "      <td>0.0</td>\n",
       "      <td>0.0</td>\n",
       "      <td>1.0</td>\n",
       "      <td>0.0</td>\n",
       "      <td>0.0</td>\n",
       "      <td>0.0</td>\n",
       "      <td>0.0</td>\n",
       "    </tr>\n",
       "  </tbody>\n",
       "</table>\n",
       "<p>5 rows × 494 columns</p>\n",
       "</div>"
      ],
      "text/plain": [
       "   0    1    2    3    4    5    6    7    8    9    ...  484  485  486  487  \\\n",
       "0  0.0  0.0  0.0  0.0  0.0  0.0  0.0  0.0  0.0  0.0  ...  0.0  0.0  0.0  0.0   \n",
       "1  0.0  0.0  0.0  0.0  0.0  0.0  0.0  0.0  0.0  0.0  ...  0.0  0.0  0.0  0.0   \n",
       "2  0.0  0.0  0.0  0.0  0.0  0.0  0.0  0.0  0.0  0.0  ...  0.0  0.0  0.0  0.0   \n",
       "3  0.0  0.0  0.0  0.0  0.0  0.0  0.0  0.0  0.0  0.0  ...  0.0  0.0  0.0  0.0   \n",
       "4  0.0  0.0  0.0  0.0  0.0  0.0  0.0  1.0  0.0  0.0  ...  0.0  0.0  0.0  0.0   \n",
       "\n",
       "   488  489  490  491  492  493  \n",
       "0  0.0  0.0  0.0  0.0  0.0  0.0  \n",
       "1  0.0  0.0  0.0  0.0  0.0  0.0  \n",
       "2  0.0  0.0  0.0  0.0  0.0  0.0  \n",
       "3  0.0  0.0  0.0  0.0  0.0  0.0  \n",
       "4  0.0  1.0  0.0  0.0  0.0  0.0  \n",
       "\n",
       "[5 rows x 494 columns]"
      ]
     },
     "execution_count": 39,
     "metadata": {},
     "output_type": "execute_result"
    }
   ],
   "source": [
    "X = pd.DataFrame(np.array(X_np))\n",
    "X.head()"
   ]
  },
  {
   "cell_type": "code",
   "execution_count": 41,
   "metadata": {},
   "outputs": [
    {
     "data": {
      "text/html": [
       "<div>\n",
       "<style scoped>\n",
       "    .dataframe tbody tr th:only-of-type {\n",
       "        vertical-align: middle;\n",
       "    }\n",
       "\n",
       "    .dataframe tbody tr th {\n",
       "        vertical-align: top;\n",
       "    }\n",
       "\n",
       "    .dataframe thead th {\n",
       "        text-align: right;\n",
       "    }\n",
       "</style>\n",
       "<table border=\"1\" class=\"dataframe\">\n",
       "  <thead>\n",
       "    <tr style=\"text-align: right;\">\n",
       "      <th></th>\n",
       "      <th>0</th>\n",
       "      <th>1</th>\n",
       "      <th>2</th>\n",
       "    </tr>\n",
       "  </thead>\n",
       "  <tbody>\n",
       "    <tr>\n",
       "      <th>0</th>\n",
       "      <td>60</td>\n",
       "      <td>Kolkata Knight Riders</td>\n",
       "      <td>222</td>\n",
       "    </tr>\n",
       "    <tr>\n",
       "      <th>1</th>\n",
       "      <td>60</td>\n",
       "      <td>Royal Challengers Bangalore</td>\n",
       "      <td>82</td>\n",
       "    </tr>\n",
       "    <tr>\n",
       "      <th>2</th>\n",
       "      <td>61</td>\n",
       "      <td>Chennai Super Kings</td>\n",
       "      <td>240</td>\n",
       "    </tr>\n",
       "    <tr>\n",
       "      <th>3</th>\n",
       "      <td>61</td>\n",
       "      <td>Kings XI Punjab</td>\n",
       "      <td>207</td>\n",
       "    </tr>\n",
       "    <tr>\n",
       "      <th>4</th>\n",
       "      <td>62</td>\n",
       "      <td>Rajasthan Royals</td>\n",
       "      <td>129</td>\n",
       "    </tr>\n",
       "  </tbody>\n",
       "</table>\n",
       "</div>"
      ],
      "text/plain": [
       "    0                            1    2\n",
       "0  60        Kolkata Knight Riders  222\n",
       "1  60  Royal Challengers Bangalore   82\n",
       "2  61          Chennai Super Kings  240\n",
       "3  61              Kings XI Punjab  207\n",
       "4  62             Rajasthan Royals  129"
      ]
     },
     "execution_count": 41,
     "metadata": {},
     "output_type": "execute_result"
    }
   ],
   "source": [
    "y = pd.DataFrame(np.array(y_np))\n",
    "y.head()"
   ]
  },
  {
   "cell_type": "markdown",
   "metadata": {},
   "source": [
    "Train test split with first 0.8 ratio of data to train and rest to test"
   ]
  },
  {
   "cell_type": "code",
   "execution_count": 43,
   "metadata": {},
   "outputs": [],
   "source": [
    "X_train = X[:int(6*len(X)/10)]\n",
    "y_train = y[:int(6*len(X)/10)]\n",
    "X_test = X[int(6*len(X)/10):]\n",
    "y_test = y[int(6*len(X)/10):]\n",
    "# X_train, X_test, y_train, y_test = train_test_split(X, y, test_size=0.2)"
   ]
  },
  {
   "cell_type": "code",
   "execution_count": 44,
   "metadata": {},
   "outputs": [
    {
     "data": {
      "text/plain": [
       "(740, 494)"
      ]
     },
     "execution_count": 44,
     "metadata": {},
     "output_type": "execute_result"
    }
   ],
   "source": [
    "X_train.shape"
   ]
  },
  {
   "cell_type": "code",
   "execution_count": 45,
   "metadata": {},
   "outputs": [
    {
     "data": {
      "text/plain": [
       "(494, 494)"
      ]
     },
     "execution_count": 45,
     "metadata": {},
     "output_type": "execute_result"
    }
   ],
   "source": [
    "X_test.shape"
   ]
  },
  {
   "cell_type": "code",
   "execution_count": 46,
   "metadata": {},
   "outputs": [
    {
     "name": "stdout",
     "output_type": "stream",
     "text": [
      "Fitting 5 folds for each of 10 candidates, totalling 50 fits\n"
     ]
    },
    {
     "name": "stderr",
     "output_type": "stream",
     "text": [
      "[Parallel(n_jobs=-1)]: Using backend LokyBackend with 12 concurrent workers.\n",
      "[Parallel(n_jobs=-1)]: Done   1 tasks      | elapsed:    2.7s\n",
      "[Parallel(n_jobs=-1)]: Done   8 tasks      | elapsed:    2.7s\n",
      "[Parallel(n_jobs=-1)]: Done  17 tasks      | elapsed:    3.3s\n",
      "[Parallel(n_jobs=-1)]: Done  26 tasks      | elapsed:    3.9s\n",
      "[Parallel(n_jobs=-1)]: Done  33 out of  50 | elapsed:    3.9s remaining:    2.0s\n",
      "[Parallel(n_jobs=-1)]: Done  39 out of  50 | elapsed:    4.4s remaining:    1.2s\n",
      "[Parallel(n_jobs=-1)]: Done  45 out of  50 | elapsed:    4.6s remaining:    0.5s\n",
      "[Parallel(n_jobs=-1)]: Done  50 out of  50 | elapsed:    5.1s finished\n"
     ]
    },
    {
     "data": {
      "text/plain": [
       "GridSearchCV(cv=5, error_score='raise-deprecating',\n",
       "             estimator=SVR(C=1.0, cache_size=200, coef0=0.0, degree=3,\n",
       "                           epsilon=0.1, gamma='auto_deprecated',\n",
       "                           kernel='linear', max_iter=-1, shrinking=True,\n",
       "                           tol=0.001, verbose=False),\n",
       "             iid=False, n_jobs=-1,\n",
       "             param_grid={'C': array([3.12500000e-02, 6.75037337e-02, 1.45816130e-01, 3.14980262e-01,\n",
       "       6.80395000e-01, 1.46973449e+00, 3.17480210e+00, 6.85795186e+00,\n",
       "       1.48139954e+01, 3.20000000e+01])},\n",
       "             pre_dispatch='2*n_jobs', refit=True, return_train_score=False,\n",
       "             scoring=None, verbose=10)"
      ]
     },
     "execution_count": 46,
     "metadata": {},
     "output_type": "execute_result"
    }
   ],
   "source": [
    "svr_linear_grid_cv = GridSearchCV(estimator=SVR(kernel='linear'), param_grid={'C':np.logspace(-5, 5, num=10, base=2)}, cv= 5, iid=False, verbose=10, n_jobs = -1)\n",
    "svr_linear_grid_cv.fit(X_train, y_train[2])"
   ]
  },
  {
   "cell_type": "code",
   "execution_count": 60,
   "metadata": {},
   "outputs": [
    {
     "name": "stdout",
     "output_type": "stream",
     "text": [
      "Test RMSE: 30.01562687793747\n",
      "Test R2: -0.03387508796062444\n",
      "Test Explained Variance: -0.031978373042029995\n",
      "\n",
      "Train RMSE: 24.69995566087199\n",
      "Train R2: 0.29648456454915795\n",
      "Train Explained Variance: 0.2965708376417745\n"
     ]
    }
   ],
   "source": [
    "svr_linear_pred = svr_linear_grid_cv.predict(X_test)\n",
    "print('Test RMSE:', np.sqrt(mean_squared_error(y_test[2], svr_linear_pred)))\n",
    "print('Test R2:', r2_score(y_test[2], svr_linear_pred))\n",
    "print('Test Explained Variance:', explained_variance_score(y_test[2], svr_linear_pred))\n",
    "print()\n",
    "print('Train RMSE:', np.sqrt(mean_squared_error(y_train[2], svr_linear_grid_cv.predict(X_train))))\n",
    "print('Train R2:', r2_score(y_train[2], svr_linear_grid_cv.predict(X_train)))\n",
    "print('Train Explained Variance:', explained_variance_score(y_train[2], svr_linear_grid_cv.predict(X_train)))"
   ]
  },
  {
   "cell_type": "code",
   "execution_count": 54,
   "metadata": {},
   "outputs": [
    {
     "name": "stdout",
     "output_type": "stream",
     "text": [
      "Fitting 5 folds for each of 75 candidates, totalling 375 fits\n"
     ]
    },
    {
     "name": "stderr",
     "output_type": "stream",
     "text": [
      "[Parallel(n_jobs=-1)]: Using backend LokyBackend with 12 concurrent workers.\n",
      "[Parallel(n_jobs=-1)]: Done   1 tasks      | elapsed:    2.3s\n",
      "[Parallel(n_jobs=-1)]: Done   8 tasks      | elapsed:    2.4s\n",
      "[Parallel(n_jobs=-1)]: Done  17 tasks      | elapsed:    3.1s\n",
      "[Parallel(n_jobs=-1)]: Done  26 tasks      | elapsed:    3.3s\n",
      "[Parallel(n_jobs=-1)]: Done  37 tasks      | elapsed:    3.8s\n",
      "[Parallel(n_jobs=-1)]: Done  48 tasks      | elapsed:    4.3s\n",
      "[Parallel(n_jobs=-1)]: Done  61 tasks      | elapsed:    4.9s\n",
      "[Parallel(n_jobs=-1)]: Done  74 tasks      | elapsed:    5.5s\n",
      "[Parallel(n_jobs=-1)]: Done  89 tasks      | elapsed:    6.4s\n",
      "[Parallel(n_jobs=-1)]: Done 104 tasks      | elapsed:    7.0s\n",
      "[Parallel(n_jobs=-1)]: Done 121 tasks      | elapsed:    7.8s\n",
      "[Parallel(n_jobs=-1)]: Done 138 tasks      | elapsed:    8.6s\n",
      "[Parallel(n_jobs=-1)]: Done 157 tasks      | elapsed:    9.5s\n",
      "[Parallel(n_jobs=-1)]: Done 176 tasks      | elapsed:   10.4s\n",
      "[Parallel(n_jobs=-1)]: Done 197 tasks      | elapsed:   11.6s\n",
      "[Parallel(n_jobs=-1)]: Done 218 tasks      | elapsed:   12.6s\n",
      "[Parallel(n_jobs=-1)]: Done 241 tasks      | elapsed:   13.8s\n",
      "[Parallel(n_jobs=-1)]: Done 264 tasks      | elapsed:   15.6s\n",
      "[Parallel(n_jobs=-1)]: Done 289 tasks      | elapsed:   17.0s\n",
      "[Parallel(n_jobs=-1)]: Done 314 tasks      | elapsed:   32.9s\n",
      "[Parallel(n_jobs=-1)]: Done 341 tasks      | elapsed:   39.0s\n",
      "[Parallel(n_jobs=-1)]: Done 375 out of 375 | elapsed:  3.6min finished\n"
     ]
    },
    {
     "data": {
      "text/plain": [
       "GridSearchCV(cv=5, error_score='raise-deprecating',\n",
       "             estimator=SVR(C=1.0, cache_size=200, coef0=0.0, degree=3,\n",
       "                           epsilon=0.1, gamma='auto_deprecated', kernel='poly',\n",
       "                           max_iter=-1, shrinking=True, tol=0.001,\n",
       "                           verbose=False),\n",
       "             iid=False, n_jobs=-1,\n",
       "             param_grid={'C': array([3.12500000e-02, 1.76776695e-01, 1.00000000e+00, 5.65685425e+00,\n",
       "       3.20000000e+01]),\n",
       "                         'degree': [1, 2, 3],\n",
       "                         'gamma': array([1.5625e-02, 1.2500e-01, 1.0000e+00, 8.0000e+00, 6.4000e+01])},\n",
       "             pre_dispatch='2*n_jobs', refit=True, return_train_score=False,\n",
       "             scoring=None, verbose=10)"
      ]
     },
     "execution_count": 54,
     "metadata": {},
     "output_type": "execute_result"
    }
   ],
   "source": [
    "param_dict = {'C':np.logspace(-5, 5, num=5, base=2), 'gamma':np.logspace(-6, 6, num=5, base=2), 'degree':[1,2,3]}\n",
    "svr_poly_grid_cv = GridSearchCV(estimator=SVR(kernel='poly'), param_grid=param_dict, cv= 5, iid=False, verbose=10, n_jobs = -1)\n",
    "svr_poly_grid_cv.fit(X_train, y_train[2])"
   ]
  },
  {
   "cell_type": "code",
   "execution_count": 62,
   "metadata": {},
   "outputs": [
    {
     "name": "stdout",
     "output_type": "stream",
     "text": [
      "Test RMSE: 30.038522940122885\n",
      "Test R2: -0.03545297915926482\n",
      "Test Explained Variance: -0.034082693074340975\n",
      "\n",
      "Train RMSE: 24.62390133086604\n",
      "Train R2: 0.30081032293027554\n",
      "Train Explained Variance: 0.30091325185980333\n"
     ]
    }
   ],
   "source": [
    "svr_poly_pred = svr_poly_grid_cv.predict(X_test)\n",
    "print('Test RMSE:', np.sqrt(mean_squared_error(y_test[2], svr_poly_pred)))\n",
    "print('Test R2:', r2_score(y_test[2], svr_poly_pred))\n",
    "print('Test Explained Variance:', explained_variance_score(y_test[2], svr_poly_pred))\n",
    "print()\n",
    "print('Train RMSE:', np.sqrt(mean_squared_error(y_train[2], svr_poly_grid_cv.predict(X_train))))\n",
    "print('Train R2:', r2_score(y_train[2], svr_poly_grid_cv.predict(X_train)))\n",
    "print('Train Explained Variance:', explained_variance_score(y_train[2], svr_poly_grid_cv.predict(X_train)))"
   ]
  },
  {
   "cell_type": "code",
   "execution_count": 56,
   "metadata": {},
   "outputs": [
    {
     "name": "stdout",
     "output_type": "stream",
     "text": [
      "Fitting 5 folds for each of 75 candidates, totalling 375 fits\n"
     ]
    },
    {
     "name": "stderr",
     "output_type": "stream",
     "text": [
      "[Parallel(n_jobs=-1)]: Using backend LokyBackend with 12 concurrent workers.\n",
      "[Parallel(n_jobs=-1)]: Done   1 tasks      | elapsed:    0.6s\n",
      "[Parallel(n_jobs=-1)]: Done   8 tasks      | elapsed:    0.7s\n",
      "[Parallel(n_jobs=-1)]: Done  17 tasks      | elapsed:    1.2s\n",
      "[Parallel(n_jobs=-1)]: Done  26 tasks      | elapsed:    1.7s\n",
      "[Parallel(n_jobs=-1)]: Done  37 tasks      | elapsed:    2.3s\n",
      "[Parallel(n_jobs=-1)]: Done  48 tasks      | elapsed:    2.5s\n",
      "[Parallel(n_jobs=-1)]: Done  61 tasks      | elapsed:    3.4s\n",
      "[Parallel(n_jobs=-1)]: Done  74 tasks      | elapsed:    3.9s\n",
      "[Parallel(n_jobs=-1)]: Done  89 tasks      | elapsed:    4.6s\n",
      "[Parallel(n_jobs=-1)]: Done 104 tasks      | elapsed:    5.2s\n",
      "[Parallel(n_jobs=-1)]: Done 121 tasks      | elapsed:    6.1s\n",
      "[Parallel(n_jobs=-1)]: Done 138 tasks      | elapsed:    6.8s\n",
      "[Parallel(n_jobs=-1)]: Done 157 tasks      | elapsed:    7.7s\n",
      "[Parallel(n_jobs=-1)]: Done 176 tasks      | elapsed:    8.4s\n",
      "[Parallel(n_jobs=-1)]: Done 197 tasks      | elapsed:    9.5s\n",
      "[Parallel(n_jobs=-1)]: Done 218 tasks      | elapsed:   10.4s\n",
      "[Parallel(n_jobs=-1)]: Done 241 tasks      | elapsed:   11.4s\n",
      "[Parallel(n_jobs=-1)]: Done 264 tasks      | elapsed:   12.3s\n",
      "[Parallel(n_jobs=-1)]: Done 289 tasks      | elapsed:   13.6s\n",
      "[Parallel(n_jobs=-1)]: Done 314 tasks      | elapsed:   14.8s\n",
      "[Parallel(n_jobs=-1)]: Done 341 tasks      | elapsed:   15.8s\n",
      "[Parallel(n_jobs=-1)]: Done 375 out of 375 | elapsed:   17.1s finished\n"
     ]
    },
    {
     "data": {
      "text/plain": [
       "GridSearchCV(cv=5, error_score='raise-deprecating',\n",
       "             estimator=SVR(C=1.0, cache_size=200, coef0=0.0, degree=3,\n",
       "                           epsilon=0.1, gamma='auto_deprecated', kernel='rbf',\n",
       "                           max_iter=-1, shrinking=True, tol=0.001,\n",
       "                           verbose=False),\n",
       "             iid=False, n_jobs=-1,\n",
       "             param_grid={'C': array([3.12500000e-02, 1.76776695e-01, 1.00000000e+00, 5.65685425e+00,\n",
       "       3.20000000e+01]),\n",
       "                         'degree': [1, 2, 3],\n",
       "                         'gamma': array([1.5625e-02, 1.2500e-01, 1.0000e+00, 8.0000e+00, 6.4000e+01])},\n",
       "             pre_dispatch='2*n_jobs', refit=True, return_train_score=False,\n",
       "             scoring=None, verbose=10)"
      ]
     },
     "execution_count": 56,
     "metadata": {},
     "output_type": "execute_result"
    }
   ],
   "source": [
    "svr_rbf_grid_cv = GridSearchCV(estimator=SVR(kernel='rbf'), param_grid=param_dict, cv= 5, iid=False, verbose=10, n_jobs = -1)\n",
    "svr_rbf_grid_cv.fit(X_train, y_train[2])"
   ]
  },
  {
   "cell_type": "code",
   "execution_count": 63,
   "metadata": {},
   "outputs": [
    {
     "name": "stdout",
     "output_type": "stream",
     "text": [
      "Test RMSE: 29.7646150207205\n",
      "Test R2: -0.016655405452932204\n",
      "Test Explained Variance: -0.01065722007867631\n",
      "\n",
      "Train RMSE: 23.456196975090183\n",
      "Train R2: 0.3655513418728602\n",
      "Train Explained Variance: 0.3655924994780192\n"
     ]
    }
   ],
   "source": [
    "svr_rbf_pred = svr_rbf_grid_cv.predict(X_test)\n",
    "print('Test RMSE:', np.sqrt(mean_squared_error(y_test[2], svr_rbf_pred)))\n",
    "print('Test R2:', r2_score(y_test[2], svr_rbf_pred))\n",
    "print('Test Explained Variance:', explained_variance_score(y_test[2], svr_rbf_pred))\n",
    "print()\n",
    "print('Train RMSE:', np.sqrt(mean_squared_error(y_train[2], svr_rbf_grid_cv.predict(X_train))))\n",
    "print('Train R2:', r2_score(y_train[2], svr_rbf_grid_cv.predict(X_train)))\n",
    "print('Train Explained Variance:', explained_variance_score(y_train[2], svr_rbf_grid_cv.predict(X_train)))"
   ]
  },
  {
   "cell_type": "code",
   "execution_count": 58,
   "metadata": {},
   "outputs": [
    {
     "name": "stdout",
     "output_type": "stream",
     "text": [
      "Fitting 5 folds for each of 75 candidates, totalling 375 fits\n"
     ]
    },
    {
     "name": "stderr",
     "output_type": "stream",
     "text": [
      "[Parallel(n_jobs=-1)]: Using backend LokyBackend with 12 concurrent workers.\n",
      "[Parallel(n_jobs=-1)]: Done   1 tasks      | elapsed:    0.6s\n",
      "[Parallel(n_jobs=-1)]: Done   8 tasks      | elapsed:    0.6s\n",
      "[Parallel(n_jobs=-1)]: Done  17 tasks      | elapsed:    1.1s\n",
      "[Parallel(n_jobs=-1)]: Done  26 tasks      | elapsed:    1.7s\n",
      "[Parallel(n_jobs=-1)]: Done  37 tasks      | elapsed:    2.1s\n",
      "[Parallel(n_jobs=-1)]: Done  48 tasks      | elapsed:    2.4s\n",
      "[Parallel(n_jobs=-1)]: Done  61 tasks      | elapsed:    3.2s\n",
      "[Parallel(n_jobs=-1)]: Done  74 tasks      | elapsed:    3.8s\n",
      "[Parallel(n_jobs=-1)]: Done  89 tasks      | elapsed:    4.4s\n",
      "[Parallel(n_jobs=-1)]: Done 104 tasks      | elapsed:    5.0s\n",
      "[Parallel(n_jobs=-1)]: Done 121 tasks      | elapsed:    5.9s\n",
      "[Parallel(n_jobs=-1)]: Done 138 tasks      | elapsed:    6.6s\n",
      "[Parallel(n_jobs=-1)]: Done 157 tasks      | elapsed:    7.5s\n",
      "[Parallel(n_jobs=-1)]: Done 176 tasks      | elapsed:    8.2s\n",
      "[Parallel(n_jobs=-1)]: Done 197 tasks      | elapsed:    9.2s\n",
      "[Parallel(n_jobs=-1)]: Done 218 tasks      | elapsed:   10.2s\n",
      "[Parallel(n_jobs=-1)]: Done 241 tasks      | elapsed:   11.1s\n",
      "[Parallel(n_jobs=-1)]: Done 264 tasks      | elapsed:   12.1s\n",
      "[Parallel(n_jobs=-1)]: Done 289 tasks      | elapsed:   13.3s\n",
      "[Parallel(n_jobs=-1)]: Done 314 tasks      | elapsed:   14.5s\n",
      "[Parallel(n_jobs=-1)]: Done 341 tasks      | elapsed:   15.6s\n",
      "[Parallel(n_jobs=-1)]: Done 375 out of 375 | elapsed:   17.0s finished\n"
     ]
    },
    {
     "data": {
      "text/plain": [
       "GridSearchCV(cv=5, error_score='raise-deprecating',\n",
       "             estimator=SVR(C=1.0, cache_size=200, coef0=0.0, degree=3,\n",
       "                           epsilon=0.1, gamma='auto_deprecated',\n",
       "                           kernel='sigmoid', max_iter=-1, shrinking=True,\n",
       "                           tol=0.001, verbose=False),\n",
       "             iid=False, n_jobs=-1,\n",
       "             param_grid={'C': array([3.12500000e-02, 1.76776695e-01, 1.00000000e+00, 5.65685425e+00,\n",
       "       3.20000000e+01]),\n",
       "                         'degree': [1, 2, 3],\n",
       "                         'gamma': array([1.5625e-02, 1.2500e-01, 1.0000e+00, 8.0000e+00, 6.4000e+01])},\n",
       "             pre_dispatch='2*n_jobs', refit=True, return_train_score=False,\n",
       "             scoring=None, verbose=10)"
      ]
     },
     "execution_count": 58,
     "metadata": {},
     "output_type": "execute_result"
    }
   ],
   "source": [
    "svr_sigmoid_grid_cv = GridSearchCV(estimator=SVR(kernel='sigmoid'), param_grid=param_dict, cv= 5, iid=False, verbose=10, n_jobs = -1)\n",
    "svr_sigmoid_grid_cv.fit(X_train, y_train[2])"
   ]
  },
  {
   "cell_type": "code",
   "execution_count": 64,
   "metadata": {},
   "outputs": [
    {
     "name": "stdout",
     "output_type": "stream",
     "text": [
      "Test RMSE: 30.077356365471104\n",
      "Test R2: -0.038131950935592185\n",
      "Test Explained Variance: -0.03442190985835869\n",
      "\n",
      "Train RMSE: 27.7451976090233\n",
      "Train R2: 0.11231899276826063\n",
      "Train Explained Variance: 0.11247134844169637\n"
     ]
    }
   ],
   "source": [
    "svr_sigmoid_pred = svr_sigmoid_grid_cv.predict(X_test)\n",
    "print('Test RMSE:', np.sqrt(mean_squared_error(y_test[2], svr_sigmoid_pred)))\n",
    "print('Test R2:', r2_score(y_test[2], svr_sigmoid_pred))\n",
    "print('Test Explained Variance:', explained_variance_score(y_test[2], svr_sigmoid_pred))\n",
    "print()\n",
    "print('Train RMSE:', np.sqrt(mean_squared_error(y_train[2], svr_sigmoid_grid_cv.predict(X_train))))\n",
    "print('Train R2:', r2_score(y_train[2], svr_sigmoid_grid_cv.predict(X_train)))\n",
    "print('Train Explained Variance:', explained_variance_score(y_train[2], svr_sigmoid_grid_cv.predict(X_train)))"
   ]
  },
  {
   "cell_type": "code",
   "execution_count": 66,
   "metadata": {},
   "outputs": [],
   "source": [
    "total_matches = len(svr_sigmoid_pred)/2\n",
    "svr_linear_winner_predictions = []\n",
    "svr_poly_winner_predictions = []\n",
    "svr_rbf_winner_predictions = []\n",
    "svr_sigmoid_winner_predictions = []\n",
    "\n",
    "correct_winner = []\n",
    "\n",
    "for i in range(0, len(svr_linear_pred), 2):\n",
    "    if svr_linear_pred[i] > svr_linear_pred[i+1]:\n",
    "        svr_linear_winner_predictions.append(1)\n",
    "    else:\n",
    "        svr_linear_winner_predictions.append(2)\n",
    "\n",
    "for i in range(0, len(svr_poly_pred), 2):\n",
    "    if svr_poly_pred[i] > svr_poly_pred[i+1]:\n",
    "        svr_poly_winner_predictions.append(1)\n",
    "    else:\n",
    "        svr_poly_winner_predictions.append(2)\n",
    "\n",
    "for i in range(0, len(svr_rbf_pred), 2):\n",
    "    if svr_rbf_pred[i] > svr_rbf_pred[i+1]:\n",
    "        svr_rbf_winner_predictions.append(1)\n",
    "    else:\n",
    "        svr_rbf_winner_predictions.append(2)\n",
    "        \n",
    "for i in range(0, len(svr_sigmoid_pred), 2):\n",
    "    if svr_sigmoid_pred[i] > svr_sigmoid_pred[i+1]:\n",
    "        svr_sigmoid_winner_predictions.append(1)\n",
    "    else:\n",
    "        svr_sigmoid_winner_predictions.append(2)\n",
    "        \n",
    "for i in range(0, len(y_test[2]), 2):\n",
    "    if y_test.iloc[i][2] > y_test.iloc[i+1][2]:\n",
    "        correct_winner.append(1)\n",
    "    else:\n",
    "        correct_winner.append(2)"
   ]
  },
  {
   "cell_type": "code",
   "execution_count": 67,
   "metadata": {},
   "outputs": [
    {
     "name": "stdout",
     "output_type": "stream",
     "text": [
      "SVR Linear Win-Loss Accuracy: 0.5384615384615384\n",
      "SVR Poly Win-Loss Accuracy: 0.5465587044534413\n",
      "SVR RBF Win-Loss Accuracy: 0.6032388663967612\n",
      "SVR Sigmoid Win-Loss Accuracy: 0.5708502024291497\n"
     ]
    }
   ],
   "source": [
    "svr_linear_win_loss_accuracy = 0\n",
    "svr_poly_win_loss_accuracy = 0\n",
    "svr_rbf_win_loss_accuracy = 0\n",
    "svr_sigmoid_win_loss_accuracy = 0\n",
    "\n",
    "for i in range(0, len(correct_winner)):\n",
    "    if correct_winner[i] == svr_linear_winner_predictions[i]:\n",
    "        svr_linear_win_loss_accuracy += 1\n",
    "    if correct_winner[i] == svr_poly_winner_predictions[i]:\n",
    "        svr_poly_win_loss_accuracy += 1\n",
    "    if correct_winner[i] == svr_rbf_winner_predictions[i]:\n",
    "        svr_rbf_win_loss_accuracy += 1\n",
    "    if correct_winner[i] == svr_sigmoid_winner_predictions[i]:\n",
    "        svr_sigmoid_win_loss_accuracy += 1\n",
    "        \n",
    "svr_linear_win_loss_accuracy = svr_linear_win_loss_accuracy/total_matches\n",
    "svr_poly_win_loss_accuracy = svr_poly_win_loss_accuracy/total_matches\n",
    "svr_rbf_win_loss_accuracy = svr_rbf_win_loss_accuracy/total_matches\n",
    "svr_sigmoid_win_loss_accuracy = svr_sigmoid_win_loss_accuracy/total_matches\n",
    "\n",
    "print('SVR Linear Win-Loss Accuracy:', svr_linear_win_loss_accuracy)\n",
    "print('SVR Poly Win-Loss Accuracy:', svr_poly_win_loss_accuracy)\n",
    "print('SVR RBF Win-Loss Accuracy:', svr_rbf_win_loss_accuracy)\n",
    "print('SVR Sigmoid Win-Loss Accuracy:', svr_sigmoid_win_loss_accuracy)"
   ]
  },
  {
   "cell_type": "code",
   "execution_count": null,
   "metadata": {},
   "outputs": [],
   "source": []
  }
 ],
 "metadata": {
  "kernelspec": {
   "display_name": "Python 3",
   "language": "python",
   "name": "python3"
  },
  "language_info": {
   "codemirror_mode": {
    "name": "ipython",
    "version": 3
   },
   "file_extension": ".py",
   "mimetype": "text/x-python",
   "name": "python",
   "nbconvert_exporter": "python",
   "pygments_lexer": "ipython3",
   "version": "3.7.3"
  }
 },
 "nbformat": 4,
 "nbformat_minor": 2
}
